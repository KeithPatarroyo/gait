{
  "nbformat": 4,
  "nbformat_minor": 0,
  "metadata": {
    "colab": {
      "name": "Untitled4.ipynb",
      "version": "0.3.2",
      "provenance": []
    },
    "kernelspec": {
      "name": "python3",
      "display_name": "Python 3"
    }
  },
  "cells": [
    {
      "metadata": {
        "id": "zm2tQW1GdStP",
        "colab_type": "code",
        "outputId": "81b6b2ab-eb8b-41ef-b467-7b11cf9d87b9",
        "colab": {
          "base_uri": "https://localhost:8080/",
          "height": 52
        }
      },
      "cell_type": "code",
      "source": [
        "# http://pytorch.org/\n",
        "from os.path import exists\n",
        "from wheel.pep425tags import get_abbr_impl, get_impl_ver, get_abi_tag\n",
        "platform = '{}{}-{}'.format(get_abbr_impl(), get_impl_ver(), get_abi_tag())\n",
        "cuda_output = !ldconfig -p|grep cudart.so|sed -e 's/.*\\.\\([0-9]*\\)\\.\\([0-9]*\\)$/cu\\1\\2/'\n",
        "accelerator = cuda_output[0] if exists('/dev/nvidia0') else 'cpu'\n",
        "\n",
        "!pip install -q http://download.pytorch.org/whl/{accelerator}/torch-1.0.1-{platform}-linux_x86_64.whl torchvision\n",
        "\n",
        "import itertools\n",
        "from mpl_toolkits.mplot3d import Axes3D\n",
        "import matplotlib.pyplot as plt\n",
        "from matplotlib import cm\n",
        "from matplotlib.ticker import LinearLocator, FormatStrFormatter\n",
        "import numpy as np\n",
        "\n",
        "import os\n",
        "\n",
        "import torchvision\n",
        "import torch.nn as nn\n",
        "import torch.nn.functional as F\n",
        "import torch\n",
        "\n",
        "plt.rcParams['axes.facecolor'] = 'white'"
      ],
      "execution_count": 0,
      "outputs": [
        {
          "output_type": "stream",
          "text": [
            "\u001b[K    100% |████████████████████████████████| 67.1MB 63.5MB/s \n",
            "\u001b[31mfastai 1.0.48 has requirement numpy>=1.15, but you'll have numpy 1.14.6 which is incompatible.\u001b[0m\n",
            "\u001b[?25h"
          ],
          "name": "stdout"
        }
      ]
    },
    {
      "metadata": {
        "id": "1f6sAxwSGiA0",
        "colab_type": "code",
        "colab": {}
      },
      "cell_type": "code",
      "source": [
        "def gradient(outputs, inputs, grad_outputs=None, retain_graph=None, create_graph=False):\n",
        "    '''\n",
        "    Compute the gradient of `outputs` with respect to `inputs`\n",
        "    gradient(x.sum(), x)\n",
        "    gradient((x * y).sum(), [x, y])\n",
        "    '''\n",
        "    if torch.is_tensor(inputs):\n",
        "        inputs = [inputs]\n",
        "    else:\n",
        "        inputs = list(inputs)\n",
        "    grads = torch.autograd.grad(outputs, inputs, grad_outputs,\n",
        "                                allow_unused=True,\n",
        "                                retain_graph=retain_graph,\n",
        "                                create_graph=create_graph)\n",
        "    grads = [x if x is not None else torch.zeros_like(y) for x, y in zip(grads, inputs)]\n",
        "    return torch.cat([x.contiguous().view(-1) for x in grads])\n",
        "\n",
        "def hessian(output, inputs, out=None, allow_unused=False, create_graph=False):\n",
        "    '''\n",
        "    Compute the Hessian of `output` with respect to `inputs`\n",
        "    hessian((x * y).sum(), [x, y])\n",
        "    '''\n",
        "    assert output.ndimension() == 0\n",
        "\n",
        "    if torch.is_tensor(inputs):\n",
        "        inputs = [inputs]\n",
        "    else:\n",
        "        inputs = list(inputs)\n",
        "\n",
        "    n = sum(p.numel() for p in inputs)\n",
        "    if out is None:\n",
        "        out = output.new_zeros(n, n)\n",
        "\n",
        "    ai = 0\n",
        "    for i, inp in enumerate(inputs):\n",
        "        [grad] = torch.autograd.grad(output, inp, create_graph=True, allow_unused=allow_unused)\n",
        "        grad = torch.zeros_like(inp) if grad is None else grad\n",
        "        grad = grad.contiguous().view(-1)\n",
        "\n",
        "        for j in range(inp.numel()):\n",
        "            if grad[j].requires_grad:\n",
        "                row = gradient(grad[j], inputs[i:], retain_graph=True, create_graph=create_graph)[j:]\n",
        "            else:\n",
        "                row = grad[j].new_zeros(sum(x.numel() for x in inputs[i:]) - j)\n",
        "\n",
        "            out[ai, ai:].add_(row.type_as(out))  # ai's row\n",
        "            if ai + 1 < n:\n",
        "                out[ai + 1:, ai].add_(row[1:].type_as(out))  # ai's column\n",
        "            del row\n",
        "            ai += 1\n",
        "        del grad\n",
        "\n",
        "    return out"
      ],
      "execution_count": 0,
      "outputs": []
    },
    {
      "metadata": {
        "id": "QYMGW6qHXkVM",
        "colab_type": "code",
        "colab": {}
      },
      "cell_type": "code",
      "source": [
        ""
      ],
      "execution_count": 0,
      "outputs": []
    },
    {
      "metadata": {
        "id": "wLZj2Bj9XkoC",
        "colab_type": "text"
      },
      "cell_type": "markdown",
      "source": [
        "### Check if q (.) (Kq)**(alpha -1) is convex wrt non-neg orthant"
      ]
    },
    {
      "metadata": {
        "id": "365_K0u8Xu6e",
        "colab_type": "code",
        "outputId": "f29a1d7b-6553-4781-9db1-ec0e981e2fe8",
        "colab": {
          "base_uri": "https://localhost:8080/",
          "height": 52
        }
      },
      "cell_type": "code",
      "source": [
        "n, M = 50, 5000\n",
        "alpha = 5 * np.random.rand()\n",
        "eps = 1e-8\n",
        "\n",
        "ones = np.array(n * [[1.]])\n",
        "ones = torch.tensor(ones)\n",
        "\n",
        "K = 0.01*np.random.rand(n, n)\n",
        "K = (K * K.T) + 0 * np.eye(n)\n",
        "K = torch.tensor(K)\n",
        "\n",
        "print(np.linalg.matrix_rank(K), np.linalg.det(K), np.min(np.linalg.eigvals(K)), np.max(np.linalg.eigvals(K)))\n",
        "\n",
        "p = np.random.dirichlet(n*[1], M).T\n",
        "p = torch.tensor(p, requires_grad=True)\n",
        "Kpa = (torch.clamp_min(K @ p, eps))**(alpha-1)\n",
        "\n",
        "q = torch.tensor(np.random.dirichlet(n*[1], M).T)\n",
        "Kqa = (torch.clamp_min(K @ q, eps))**(alpha-1)\n",
        "\n",
        "z = 0.5 * (p + q)\n",
        "Kza = (torch.clamp_min(K @ z, eps))**(alpha-1)\n",
        "\n",
        "Z = ones * Kza\n",
        "W = 0.5 * (ones * Kpa + ones * Kqa)\n",
        "\n",
        "if alpha >= 2 or alpha<=1:\n",
        "    print(alpha, ' - 1 means convex, cvx a>1, ccv a<1: ', torch.sum(Z <= W + 1e-5).item() / (n * M))\n",
        "else:\n",
        "    print(alpha, ' - 1 means concave, cvx a>1, ccv a<1: ', torch.sum(Z + 1e-5 >= W ).item() / (n * M))\n",
        "\n",
        "#print(alpha, 'H^K_alpha is concave in p : ', torch.sum(hz + 1e-6 >= (0.5 * (hp + hq))).item() / M )"
      ],
      "execution_count": 0,
      "outputs": [
        {
          "output_type": "stream",
          "text": [
            "50 -1.2897834952648563e-200 -0.0002930861072050837 0.0012898744195491167\n",
            "0.6821818621487807  - 1 means convex, cvx a>1, ccv a<1:  1.0\n"
          ],
          "name": "stdout"
        }
      ]
    },
    {
      "metadata": {
        "id": "k65Uhx_E68S-",
        "colab_type": "text"
      },
      "cell_type": "markdown",
      "source": [
        "### Check H in Shannon case is concave"
      ]
    },
    {
      "metadata": {
        "id": "yzKSrAJq64CB",
        "colab_type": "code",
        "outputId": "708ac48f-2fc1-4dc5-9c2b-8164d4892f36",
        "colab": {
          "base_uri": "https://localhost:8080/",
          "height": 52
        }
      },
      "cell_type": "code",
      "source": [
        "n, M = 2, 5000\n",
        "eps = 1e-8\n",
        "\n",
        "ones = np.array(n * [[1]])\n",
        "\n",
        "K = 0.01*np.random.rand(n, n)\n",
        "K = (K * K.T) + 0.7 * np.eye(n)\n",
        "K = torch.tensor(K)\n",
        "\n",
        "print(np.linalg.matrix_rank(K), np.linalg.det(K), np.min(np.linalg.eigvals(K)), np.max(np.linalg.eigvals(K)))\n",
        "\n",
        "p = np.random.dirichlet(n*[1], M).T\n",
        "p = torch.tensor(p, requires_grad=True)\n",
        "hp = - torch.sum(p * torch.log(torch.clamp_min(K @ p, eps)), dim=0, keepdim=True)\n",
        "\n",
        "q = torch.tensor(np.random.dirichlet(n*[1], M).T)\n",
        "hq = - torch.sum(q * torch.log(torch.clamp_min(K @ q, eps)), dim=0, keepdim=True)\n",
        "\n",
        "z = 0.5 * (p + q)\n",
        "hz = - torch.sum(z * torch.log(torch.clamp_min(K @ z, eps)), dim=0, keepdim=True)\n",
        "\n",
        "print('H^K_1 is concave in p : ', torch.sum(hz + 1e-6 >= (0.5 * (hp + hq))).item() / M )"
      ],
      "execution_count": 0,
      "outputs": [
        {
          "output_type": "stream",
          "text": [
            "2 0.49008844152353537 0.7000309479286428 0.700095392887533\n",
            "H^K_1 is concave in p :  1.0\n"
          ],
          "name": "stdout"
        }
      ]
    },
    {
      "metadata": {
        "id": "NZR6Eymi7Z8d",
        "colab_type": "code",
        "outputId": "520f99eb-70fc-49a0-d05f-c14e9ff22cc0",
        "colab": {
          "base_uri": "https://localhost:8080/",
          "height": 52
        }
      },
      "cell_type": "code",
      "source": [
        "hz"
      ],
      "execution_count": 0,
      "outputs": [
        {
          "output_type": "execute_result",
          "data": {
            "text/plain": [
              "tensor([[-1.0353, -1.0477, -1.0325,  ..., -1.0454, -1.0492, -1.0462]],\n",
              "       dtype=torch.float64, grad_fn=<SumBackward2>)"
            ]
          },
          "metadata": {
            "tags": []
          },
          "execution_count": 328
        }
      ]
    },
    {
      "metadata": {
        "id": "DLAYyIekvMBB",
        "colab_type": "code",
        "colab": {}
      },
      "cell_type": "code",
      "source": [
        ""
      ],
      "execution_count": 0,
      "outputs": []
    },
    {
      "metadata": {
        "id": "m3s3RZH2ZuRQ",
        "colab_type": "code",
        "outputId": "07085c53-e234-48fe-aeb4-57d46ca0cadc",
        "colab": {
          "base_uri": "https://localhost:8080/",
          "height": 34
        }
      },
      "cell_type": "code",
      "source": [
        "alpha = 1.5\n",
        "Kpa = (torch.clamp_min(K @ p, eps))**(alpha-1)\n",
        "Kqa = (torch.clamp_min(K @ q, eps))**(alpha-1)\n",
        "Kza = (torch.clamp_min(K @ z, eps))**(alpha-1)\n",
        "\n",
        "if alpha >= 1:\n",
        "    print(torch.sum(0.5 * (torch.sum(q * Kqa, dim=0, keepdim=True) + torch.sum(p * Kpa, dim=0, keepdim=True)) >=  torch.sum(z * Kza, dim=0, keepdim=True))/M)\n",
        "else:\n",
        "    print(torch.sum(0.5 * (torch.sum(q * Kqa, dim=0, keepdim=True) + torch.sum(p * Kpa, dim=0, keepdim=True)) <=  torch.sum(z * Kza, dim=0, keepdim=True))/M)"
      ],
      "execution_count": 0,
      "outputs": [
        {
          "output_type": "stream",
          "text": [
            "tensor(1)\n"
          ],
          "name": "stdout"
        }
      ]
    },
    {
      "metadata": {
        "id": "I8VHkCmeam2w",
        "colab_type": "code",
        "outputId": "2f281bf0-3a5f-4b0d-aff7-5d7a1f57dd46",
        "colab": {
          "base_uri": "https://localhost:8080/",
          "height": 52
        }
      },
      "cell_type": "code",
      "source": [
        "0.5 * (torch.sum(q * Kqa, dim=0, keepdim=True) + torch.sum(p * Kpa, dim=0, keepdim=True))"
      ],
      "execution_count": 0,
      "outputs": [
        {
          "output_type": "execute_result",
          "data": {
            "text/plain": [
              "tensor([[0.0577, 0.0970, 0.1067,  ..., 0.0460, 0.0672, 0.0714]],\n",
              "       dtype=torch.float64, grad_fn=<MulBackward0>)"
            ]
          },
          "metadata": {
            "tags": []
          },
          "execution_count": 350
        }
      ]
    },
    {
      "metadata": {
        "id": "LquFmY9FaXdK",
        "colab_type": "code",
        "outputId": "f9fe924a-9d23-46f6-d057-2111ddfb20f3",
        "colab": {
          "base_uri": "https://localhost:8080/",
          "height": 52
        }
      },
      "cell_type": "code",
      "source": [
        "torch.sum(z * Kza, dim=0, keepdim=True)"
      ],
      "execution_count": 0,
      "outputs": [
        {
          "output_type": "execute_result",
          "data": {
            "text/plain": [
              "tensor([[0.0352, 0.0748, 0.0139,  ..., 0.0083, 0.0232, 0.0145]],\n",
              "       dtype=torch.float64, grad_fn=<SumBackward2>)"
            ]
          },
          "metadata": {
            "tags": []
          },
          "execution_count": 349
        }
      ]
    },
    {
      "metadata": {
        "id": "XJxVADNzHTrK",
        "colab_type": "code",
        "outputId": "563d828b-261e-439f-c46a-d5cb03d2cc74",
        "colab": {
          "base_uri": "https://localhost:8080/",
          "height": 70
        }
      },
      "cell_type": "code",
      "source": [
        "n, M = 2, 5000\n",
        "alpha = 2 + 5 * np.random.rand()\n",
        "eps = 1e-8\n",
        "\n",
        "ones = np.array(n * [[1]])\n",
        "\n",
        "K = 0.01*np.random.rand(n, n)\n",
        "K = (K * K.T) + 0.7 * np.eye(n)\n",
        "K = torch.tensor(K)\n",
        "\n",
        "print(np.linalg.matrix_rank(K), np.linalg.det(K), np.min(np.linalg.eigvals(K)), np.max(np.linalg.eigvals(K)))\n",
        "\n",
        "p = np.random.dirichlet(n*[1], M).T\n",
        "p = torch.tensor(p, requires_grad=True)\n",
        "Kpa = (torch.clamp_min(K @ p, eps))**(alpha-1)\n",
        "hp = torch.log(torch.clamp_min(torch.sum(p * Kpa, dim=0, keepdim=True), eps)) / (1-alpha)\n",
        "\n",
        "q = torch.tensor(np.random.dirichlet(n*[1], M).T)\n",
        "Kqa = (torch.clamp_min(K @ q, eps))**(alpha-1)\n",
        "hq = torch.log(torch.clamp_min(torch.sum(q * Kqa, dim=0, keepdim=True), eps)) / (1-alpha)\n",
        "\n",
        "z = 0.5 * (p + q)\n",
        "Kza = (torch.clamp_min(K @ z, eps))**(alpha-1)\n",
        "hz = torch.log(torch.clamp_min(torch.sum(z * Kza, dim=0, keepdim=True), eps)) / (1-alpha)\n",
        "\n",
        "print(alpha, 'H^K_alpha is concave in p : ', torch.sum(hz + 1e-6 >= (0.5 * (hp + hq))).item() / M )\n",
        "\n",
        "# Numerical and analytic gradient\n",
        "# gradient(hp, p, create_graph=True)\n",
        "# (Kpa + (alpha -1) * K.transpose(0, 1) @ ((K @ p)**(alpha-2) * p)) / ((1 - alpha) * torch.sum(p * Kpa, dim=0, keepdim=True))\n",
        "\n",
        "#H = hessian(hp.sum(), p, create_graph=True).data.numpy()\n",
        "#print(\"Max e-val of H: \", np.max(np.linalg.eigvals(H)))#, np.linalg.eigvals(H), np.linalg.det(H))\n",
        "\n",
        "A = np.random.rand(n, n)\n",
        "for __ in range(25):\n",
        "    A = A / A.sum(axis=0)\n",
        "    A = (A.T / A.sum(axis=1)).T\n",
        "\n",
        "A = torch.tensor(A)\n",
        "\n",
        "r = A @ p\n",
        "Kra = (torch.clamp_min(K @ r, eps))**(alpha-1)\n",
        "hr = torch.log(torch.clamp_min(torch.sum(r * Kra, dim=0, keepdim=True), eps)) / (1-alpha)\n",
        "\n",
        "print(alpha, 'H^K_alpha is Schur-concave: ', torch.sum(hp <= hr + 1e-6).item()/M)"
      ],
      "execution_count": 0,
      "outputs": [
        {
          "output_type": "stream",
          "text": [
            "2 0.4900056824149207 0.6999932498301702 0.700014868048805\n",
            "5.562047237199426 H^K_alpha is concave in p :  0.6452\n",
            "5.562047237199426 H^K_alpha is Schur-concave:  1.0\n"
          ],
          "name": "stdout"
        }
      ]
    },
    {
      "metadata": {
        "id": "heRRHsiXoq9H",
        "colab_type": "code",
        "outputId": "2bc13ccc-0c0f-492f-c15a-2cd270594b28",
        "colab": {
          "base_uri": "https://localhost:8080/",
          "height": 34
        }
      },
      "cell_type": "code",
      "source": [
        "M = 1\n",
        "\n",
        "p = np.random.dirichlet(n*[1], M).T\n",
        "p = torch.tensor(p, requires_grad=True)\n",
        "Kpa = (torch.clamp_min(K @ p, eps))**(alpha-1)\n",
        "hp = torch.log(torch.clamp_min(torch.sum(p * Kpa, dim=0, keepdim=True), eps)) / (1-alpha)\n",
        "\n",
        "H = hessian(hp.sum(), p, create_graph=False).data.numpy()\n",
        "print(alpha, \"Max e-val of H: \", np.max(np.linalg.eigvals(H)))#, np.linalg.eigvals(H), np.linalg.det(H))"
      ],
      "execution_count": 0,
      "outputs": [
        {
          "output_type": "stream",
          "text": [
            "4.612010187043569 Max e-val of H:  1.3863900298044607\n"
          ],
          "name": "stdout"
        }
      ]
    },
    {
      "metadata": {
        "id": "JcePqk26CU0o",
        "colab_type": "code",
        "outputId": "5c15861f-553e-4fc2-9304-fd38a0983af7",
        "colab": {
          "base_uri": "https://localhost:8080/",
          "height": 211
        }
      },
      "cell_type": "code",
      "source": [
        "n = 2\n",
        "eps = 1e-8\n",
        "alpha = 5\n",
        "M = 100\n",
        "\n",
        "K = 0.0*np.random.rand(n, n)\n",
        "K = (K * K.T) + 1 * np.eye(n)\n",
        "K = torch.tensor(K)\n",
        "\n",
        "p = np.array([(_, 1-_) for _ in np.linspace(0, 1, M)]).T\n",
        "p = torch.tensor(p, requires_grad=True)\n",
        "Kpa = (torch.clamp_min(K @ p, eps))**(alpha-1)\n",
        "hp = torch.log(torch.clamp_min(torch.sum(p * Kpa, dim=0, keepdim=True), eps)) / (1-alpha)\n",
        "\n",
        "Hs = []\n",
        "for _ in np.linspace(0.01, 0.99, M):\n",
        "    t = torch.tensor(_, requires_grad=True).double()\n",
        "    ss = t * (t * K[0, 0] + (1 - t) * K[0, 1]) ** (alpha-1) + (1-t) * (t * K[1, 0] + (1 - t) * K[1, 1]) ** (alpha-1)\n",
        "    H = hessian(torch.log(ss) / (1-alpha), t, create_graph=True).data.numpy()[0,0] / 100\n",
        "    Hs.append(H)\n",
        "    \n",
        "plt.figure(figsize=(3,3))\n",
        "plt.plot(np.linspace(0, 1, M), hp.data.numpy().T)\n",
        "plt.plot(np.linspace(0.01, 0.99, M), Hs)\n",
        "plt.axhline(0, c='r');"
      ],
      "execution_count": 0,
      "outputs": [
        {
          "output_type": "display_data",
          "data": {
            "image/png": "[encoded data removed]",
            "text/plain": [
              "<Figure size 216x216 with 1 Axes>"
            ]
          },
          "metadata": {
            "tags": []
          }
        }
      ]
    },
    {
      "metadata": {
        "id": "pbpFT_Pfoq6o",
        "colab_type": "code",
        "outputId": "ebd84e69-d6a0-4fba-9ef4-a89fd406ad81",
        "colab": {
          "base_uri": "https://localhost:8080/",
          "height": 52
        }
      },
      "cell_type": "code",
      "source": [
        "hp"
      ],
      "execution_count": 0,
      "outputs": [
        {
          "output_type": "execute_result",
          "data": {
            "text/plain": [
              "tensor([[4.1017, 4.0580, 3.7830,  ..., 4.1078, 3.8852, 3.9542]],\n",
              "       dtype=torch.float64, grad_fn=<DivBackward0>)"
            ]
          },
          "metadata": {
            "tags": []
          },
          "execution_count": 10
        }
      ]
    },
    {
      "metadata": {
        "id": "unzPC4PDlDaR",
        "colab_type": "code",
        "outputId": "121d9fa3-c14d-4c93-ef24-291a4e45a2dc",
        "colab": {
          "base_uri": "https://localhost:8080/",
          "height": 70
        }
      },
      "cell_type": "code",
      "source": [
        "n, M = 5, 7\n",
        "alpha = 1 + 5*np.random.rand()\n",
        "eps = 1e-8\n",
        "\n",
        "ones = np.array(n * [[1]])\n",
        "\n",
        "K = 0.01*np.random.rand(n, n)\n",
        "K = (K * K.T) + 1 * np.eye(n)\n",
        "\n",
        "print(np.linalg.matrix_rank(K), np.linalg.det(K), np.min(np.linalg.eigvals(K)), np.max(np.linalg.eigvals(K)))\n",
        "\n",
        "p = np.random.dirichlet(n*[1], M).T\n",
        "q = np.random.dirichlet(n*[1], M).T\n",
        "\n"
      ],
      "execution_count": 0,
      "outputs": [
        {
          "output_type": "stream",
          "text": [
            "5 1.0002265333393499 0.9999257087094672 1.0001561969821466\n",
            "3.7766416698652807 H^K_alpha is concave in p :  0.8571428571428571\n",
            "(Kp)_i ** (alpha-1) is convex for alpha>=0 :  1.0\n"
          ],
          "name": "stdout"
        }
      ]
    },
    {
      "metadata": {
        "id": "6hvdo6NIbxK8",
        "colab_type": "code",
        "colab": {}
      },
      "cell_type": "code",
      "source": [
        ""
      ],
      "execution_count": 0,
      "outputs": []
    },
    {
      "metadata": {
        "id": "fRnTRBKvbysJ",
        "colab_type": "code",
        "colab": {}
      },
      "cell_type": "code",
      "source": [
        "q = A @ p"
      ],
      "execution_count": 0,
      "outputs": []
    },
    {
      "metadata": {
        "id": "CrGd7K6SbIzK",
        "colab_type": "code",
        "outputId": "05db4a3f-a8bd-49eb-c16e-10500227c940",
        "colab": {
          "base_uri": "https://localhost:8080/",
          "height": 52
        }
      },
      "cell_type": "code",
      "source": [
        "eps = 1e-5\n",
        "\n",
        "theta = 0.5#np.random.rand(M)\n",
        "z = p * (1 - theta) + q * theta\n",
        "\n",
        "Kpa = (eps + K @ p)**(alpha-1)\n",
        "Kqa = (eps + K @ q)**(alpha-1)\n",
        "Kza = (eps + K @ z)**(alpha-1)\n",
        "\n",
        "hp = np.log(eps + np.sum(p * Kpa, axis=0, keepdims=True)) / (1-alpha)\n",
        "hq = np.log(eps + np.sum(q * Kqa, axis=0, keepdims=True)) / (1-alpha)\n",
        "hz = np.log(eps + np.sum(z * Kza, axis=0, keepdims=True)) / (1-alpha)\n",
        "\n",
        "hpq = hp * (1 - theta) + hq * theta\n",
        "Kpq = Kpa * (1 - theta) + Kqa * theta\n",
        "\n",
        "print(alpha, 'H^K_alpha is concave in p : ', np.sum(hz + 1e-6 >= hpq) / M )\n",
        "\n",
        "print('(Kp)_i ** (alpha-1) is convex for alpha>=0 : ', np.sum(Kpq + 1e-6 >= Kza) / (n *M))"
      ],
      "execution_count": 0,
      "outputs": [
        {
          "output_type": "stream",
          "text": [
            "3.7766416698652807 H^K_alpha is concave in p :  1.0\n",
            "(Kp)_i ** (alpha-1) is convex for alpha>=0 :  1.0\n"
          ],
          "name": "stdout"
        }
      ]
    },
    {
      "metadata": {
        "id": "uxCBF9uHazlt",
        "colab_type": "code",
        "outputId": "8c8e8466-e8cc-44f1-e3e5-5a753e3c5944",
        "colab": {
          "base_uri": "https://localhost:8080/",
          "height": 105
        }
      },
      "cell_type": "code",
      "source": [
        "Kpa[:, 3], Kqa[:, 3], Kza[:, 3]"
      ],
      "execution_count": 0,
      "outputs": [
        {
          "output_type": "execute_result",
          "data": {
            "text/plain": [
              "(array([7.54700964e-02, 1.76584609e-04, 5.16975155e-03, 4.68556621e-06,\n",
              "        7.80641746e-02]),\n",
              " array([2.60263525e-01, 2.23444862e-03, 9.29324720e-05, 2.64006362e-03,\n",
              "        2.78121244e-03]),\n",
              " array([0.15007635, 0.00083146, 0.00135624, 0.00050473, 0.02364927]))"
            ]
          },
          "metadata": {
            "tags": []
          },
          "execution_count": 209
        }
      ]
    },
    {
      "metadata": {
        "id": "MuFIpNFKZ6W8",
        "colab_type": "code",
        "outputId": "37457750-486a-4d4b-94b1-257b353e3f2a",
        "colab": {
          "base_uri": "https://localhost:8080/",
          "height": 52
        }
      },
      "cell_type": "code",
      "source": [
        "p[:, 3],  q[:, 3]"
      ],
      "execution_count": 0,
      "outputs": [
        {
          "output_type": "execute_result",
          "data": {
            "text/plain": [
              "(array([0.39427411, 0.04449325, 0.15010635, 0.01200902, 0.39911727]),\n",
              " array([0.61578739, 0.11098193, 0.03529813, 0.11784783, 0.12008472]))"
            ]
          },
          "metadata": {
            "tags": []
          },
          "execution_count": 205
        }
      ]
    },
    {
      "metadata": {
        "id": "-9cu11ZtZKlc",
        "colab_type": "code",
        "outputId": "4a88c0a6-43ae-4e13-b311-9a13ed13e571",
        "colab": {
          "base_uri": "https://localhost:8080/",
          "height": 52
        }
      },
      "cell_type": "code",
      "source": [
        "hz - hpq"
      ],
      "execution_count": 0,
      "outputs": [
        {
          "output_type": "execute_result",
          "data": {
            "text/plain": [
              "array([[ 0.36461663,  0.08228499, -0.00135572,  0.06975953,  0.11788538,\n",
              "         0.32750079,  0.10308002]])"
            ]
          },
          "metadata": {
            "tags": []
          },
          "execution_count": 216
        }
      ]
    },
    {
      "metadata": {
        "id": "LU5uwmvxNlRZ",
        "colab_type": "text"
      },
      "cell_type": "markdown",
      "source": [
        ""
      ]
    },
    {
      "metadata": {
        "id": "9OOANKOTIgDO",
        "colab_type": "code",
        "outputId": "fa16b908-00ef-49d6-e542-953d8d92e649",
        "colab": {
          "base_uri": "https://localhost:8080/",
          "height": 52
        }
      },
      "cell_type": "code",
      "source": [
        "ix = np.random.choice(M-1)\n",
        "v = (K @ p[:, ix:ix+1]) ** (alpha - 1)\n",
        "dp = p[:, ix:ix+1].T @ v\n",
        "Q = (alpha / ((alpha - 1) * dp**2)) * ((alpha - 1) * dp * K * (v @ ones.T) - alpha * (v @ v.T))\n",
        "\n",
        "np.linalg.eigvals(Q), np.min(np.linalg.eigvals(Q)) >= 0"
      ],
      "execution_count": 0,
      "outputs": [
        {
          "output_type": "execute_result",
          "data": {
            "text/plain": [
              "(array([-2.12833732e+01,  2.92677135e-03,  1.84080101e-03,  1.65749610e-03,\n",
              "         1.34967507e-03]), False)"
            ]
          },
          "metadata": {
            "tags": []
          },
          "execution_count": 509
        }
      ]
    },
    {
      "metadata": {
        "id": "-uJkY9Y1JPuI",
        "colab_type": "code",
        "colab": {}
      },
      "cell_type": "code",
      "source": [
        ""
      ],
      "execution_count": 0,
      "outputs": []
    },
    {
      "metadata": {
        "id": "2YcRQhY8JNB2",
        "colab_type": "code",
        "outputId": "755aaa48-f1e3-4ace-b839-af1a6eb916f8",
        "colab": {
          "base_uri": "https://localhost:8080/",
          "height": 365
        }
      },
      "cell_type": "code",
      "source": [
        "plt.imshow(Q)"
      ],
      "execution_count": 0,
      "outputs": [
        {
          "output_type": "execute_result",
          "data": {
            "text/plain": [
              "<matplotlib.image.AxesImage at 0x7fb657d9db00>"
            ]
          },
          "metadata": {
            "tags": []
          },
          "execution_count": 487
        },
        {
          "output_type": "display_data",
          "data": {
            "image/png": "[encoded data removed]",
            "text/plain": [
              "<Figure size 576x396 with 1 Axes>"
            ]
          },
          "metadata": {
            "tags": []
          }
        }
      ]
    },
    {
      "metadata": {
        "id": "ZEZK5tfZ_T99",
        "colab_type": "code",
        "outputId": "aaa6d0fe-b660-43aa-9a65-a5fdae4aed33",
        "colab": {
          "base_uri": "https://localhost:8080/",
          "height": 105
        }
      },
      "cell_type": "code",
      "source": [
        "(alpha / (alpha -1 )) * ((K @ p[:, 0:1]) @ ones.T)"
      ],
      "execution_count": 0,
      "outputs": [
        {
          "output_type": "execute_result",
          "data": {
            "text/plain": [
              "array([[0.00013478, 0.00013478, 0.00013478, 0.00013478, 0.00013478],\n",
              "       [0.00033431, 0.00033431, 0.00033431, 0.00033431, 0.00033431],\n",
              "       [0.0002214 , 0.0002214 , 0.0002214 , 0.0002214 , 0.0002214 ],\n",
              "       [0.00027861, 0.00027861, 0.00027861, 0.00027861, 0.00027861],\n",
              "       [0.00016096, 0.00016096, 0.00016096, 0.00016096, 0.00016096]])"
            ]
          },
          "metadata": {
            "tags": []
          },
          "execution_count": 477
        }
      ]
    },
    {
      "metadata": {
        "id": "4OPBk-_0nbfv",
        "colab_type": "code",
        "outputId": "de757d67-22e9-4725-869c-6de00ac87e74",
        "colab": {
          "base_uri": "https://localhost:8080/",
          "height": 105
        }
      },
      "cell_type": "code",
      "source": [
        "((K @ p[:, 0:1]) @ ones.T) @ p[:, 0:1]"
      ],
      "execution_count": 0,
      "outputs": [
        {
          "output_type": "execute_result",
          "data": {
            "text/plain": [
              "array([[0.00013478],\n",
              "       [0.00033431],\n",
              "       [0.0002214 ],\n",
              "       [0.00027861],\n",
              "       [0.00016096]])"
            ]
          },
          "metadata": {
            "tags": []
          },
          "execution_count": 475
        }
      ]
    },
    {
      "metadata": {
        "id": "EcEKNv46l5uz",
        "colab_type": "code",
        "outputId": "cb61021d-bbb5-4196-b300-bc8eb21abe76",
        "colab": {
          "base_uri": "https://localhost:8080/",
          "height": 34
        }
      },
      "cell_type": "code",
      "source": [
        "theta.shape "
      ],
      "execution_count": 0,
      "outputs": [
        {
          "output_type": "execute_result",
          "data": {
            "text/plain": [
              "(100,)"
            ]
          },
          "metadata": {
            "tags": []
          },
          "execution_count": 308
        }
      ]
    },
    {
      "metadata": {
        "id": "ggoPrHPQlHLz",
        "colab_type": "code",
        "outputId": "bfe75a19-4135-4269-800e-b615276716d4",
        "colab": {
          "base_uri": "https://localhost:8080/",
          "height": 34
        }
      },
      "cell_type": "code",
      "source": [
        "hp"
      ],
      "execution_count": 0,
      "outputs": [
        {
          "output_type": "execute_result",
          "data": {
            "text/plain": [
              "array([[0.33665072, 0.40679459, 0.4369473 ]])"
            ]
          },
          "metadata": {
            "tags": []
          },
          "execution_count": 304
        }
      ]
    },
    {
      "metadata": {
        "id": "WVV1zNCVMlD8",
        "colab_type": "code",
        "outputId": "ac77c650-5de5-45f9-c3a0-ef0b15719ed4",
        "colab": {
          "base_uri": "https://localhost:8080/",
          "height": 70
        }
      },
      "cell_type": "code",
      "source": [
        "n = 10\n",
        "ones = np.array(n * [[1]])\n",
        "\n",
        "K = np.random.rand(n, n)\n",
        "K = 0.5 * (K + K.T) + 0.5 * np.eye(n)\n",
        "\n",
        "print(np.linalg.matrix_rank(K), np.linalg.det(K), np.min(np.linalg.eigvals(K)), np.max(np.linalg.eigvals(K)))\n",
        "\n",
        "p = np.random.dirichlet(n*[1/n], 1).T\n",
        "q = np.random.dirichlet(n*[1/n], 1).T\n",
        "\n",
        "theta = np.random.rand()\n",
        "z = (1 - theta) * p + theta * q\n",
        "    \n",
        "hp = -p.T @ np.log(K @ p)\n",
        "hq = -q.T @ np.log(K @ q)\n",
        "hz = -z.T @ np.log(K @ z)        \n",
        "\n",
        "op = ones.T @ np.log(K @ p)\n",
        "oq = ones.T @ np.log(K @ q)\n",
        "oz = ones.T @ np.log(K @ z)\n",
        "\n",
        "hmd = (1 - theta) * hp  + theta * hq\n",
        "omd = (1 - theta) * op  + theta * oq\n",
        "\n",
        "print(hp, hq, theta, hz, hmd, hz + 1e-6 >= hmd)\n",
        "print(op, oq, theta, oz, omd, omd + 1e-6 >= omd)"
      ],
      "execution_count": 0,
      "outputs": [
        {
          "output_type": "stream",
          "text": [
            "10 -0.015047516687286521 -0.7559086530596489 5.6658395601067255\n",
            "[[0.50159306]] [[0.65667144]] 0.9061831073279712 [[0.64220455]] [[0.64212247]] [[ True]]\n",
            "[[-5.66118232]] [[-5.69672245]] 0.9061831073279712 [[-5.6911223]] [[-5.69338819]] [[ True]]\n"
          ],
          "name": "stdout"
        }
      ]
    },
    {
      "metadata": {
        "id": "QIqwbL2EkbtO",
        "colab_type": "code",
        "outputId": "05a2db0f-6313-4d2d-8382-ae148554bf23",
        "colab": {
          "base_uri": "https://localhost:8080/",
          "height": 34
        }
      },
      "cell_type": "code",
      "source": [
        ""
      ],
      "execution_count": 0,
      "outputs": [
        {
          "output_type": "execute_result",
          "data": {
            "text/plain": [
              "-0.5006342455898445"
            ]
          },
          "metadata": {
            "tags": []
          },
          "execution_count": 241
        }
      ]
    },
    {
      "metadata": {
        "id": "VDct5q_ZkH80",
        "colab_type": "code",
        "colab": {}
      },
      "cell_type": "code",
      "source": [
        ""
      ],
      "execution_count": 0,
      "outputs": []
    },
    {
      "metadata": {
        "id": "0X6uJ6p4j4Q1",
        "colab_type": "code",
        "outputId": "3c6df06c-9494-44fa-a8c8-e1de87e97c1c",
        "colab": {
          "base_uri": "https://localhost:8080/",
          "height": 365
        }
      },
      "cell_type": "code",
      "source": [
        "plt.imshow(K)"
      ],
      "execution_count": 0,
      "outputs": [
        {
          "output_type": "execute_result",
          "data": {
            "text/plain": [
              "<matplotlib.image.AxesImage at 0x7fb657f104a8>"
            ]
          },
          "metadata": {
            "tags": []
          },
          "execution_count": 217
        },
        {
          "output_type": "display_data",
          "data": {
            "image/png": "[encoded data removed]",
            "text/plain": [
              "<Figure size 576x396 with 1 Axes>"
            ]
          },
          "metadata": {
            "tags": []
          }
        }
      ]
    },
    {
      "metadata": {
        "id": "LMwK2wbeNIMf",
        "colab_type": "code",
        "outputId": "40e34320-7f48-4093-de4b-d2aad1317b11",
        "colab": {
          "base_uri": "https://localhost:8080/",
          "height": 70
        }
      },
      "cell_type": "code",
      "source": [
        "n = 100\n",
        "ones = np.array(n * [[1]])\n",
        "\n",
        "K = 10*np.random.rand(n, n)\n",
        "K = 0.5 * (K + K.T)\n",
        "\n",
        "A = np.random.rand(n, n)\n",
        "for __ in range(25):\n",
        "    A = A / A.sum(axis=0)\n",
        "    A = (A.T / A.sum(axis=1)).T\n",
        "\n",
        "p = np.random.dirichlet(n*[1/2], 1).T\n",
        "q = A @ p\n",
        "\n",
        "theta = np.random.dirichlet([1], 1)\n",
        "z = (1 - theta) * p + theta * q\n",
        "    \n",
        "hz = z.T @ np.log(K @ z)\n",
        "hmd = (1 - theta) * hp  + theta * hq\n",
        "    \n",
        "    \n",
        "sq = -np.sort(-q, axis=0)\n",
        "sp = -np.sort(-p, axis=0)\n",
        "\n",
        "print('q < p: ', np.prod(sp.cumsum() + 1e-6 >= sq.cumsum()))\n",
        "\n",
        "hp = p.T @ np.log(K @ p)\n",
        "hq = q.T @ np.log(K @ q)\n",
        "\n",
        "op = ones.T @ np.log(K @ p)\n",
        "oq = ones.T @ np.log(K @ q)\n",
        "\n",
        "print(hq, hp, hq <= hp + 1e-6)\n",
        "print(oq, op, oq + 1e-6 >= op)"
      ],
      "execution_count": 0,
      "outputs": [
        {
          "output_type": "stream",
          "text": [
            "q < p:  1\n",
            "[[1.60807072]] [[1.62210101]] [[ True]]\n",
            "[[160.77528467]] [[161.03547798]] [[False]]\n"
          ],
          "name": "stdout"
        }
      ]
    },
    {
      "metadata": {
        "id": "sH2x1soAOpHt",
        "colab_type": "code",
        "outputId": "240f7290-4086-4493-c9df-06d87291eddd",
        "colab": {
          "base_uri": "https://localhost:8080/",
          "height": 228
        }
      },
      "cell_type": "code",
      "source": [
        "+ 1e-6 + sp.cumsum() >= sq.cumsum()"
      ],
      "execution_count": 0,
      "outputs": [
        {
          "output_type": "execute_result",
          "data": {
            "text/plain": [
              "array([ True,  True,  True,  True,  True,  True,  True,  True,  True,\n",
              "        True,  True,  True,  True,  True,  True,  True,  True,  True,\n",
              "        True,  True,  True,  True,  True,  True,  True,  True,  True,\n",
              "        True,  True,  True,  True,  True,  True,  True,  True,  True,\n",
              "        True,  True,  True,  True,  True,  True,  True,  True,  True,\n",
              "        True,  True,  True,  True,  True,  True,  True,  True,  True,\n",
              "        True,  True,  True,  True,  True,  True,  True,  True,  True,\n",
              "        True,  True,  True,  True,  True,  True,  True,  True,  True,\n",
              "        True,  True,  True,  True,  True,  True,  True,  True,  True,\n",
              "        True,  True,  True,  True,  True,  True,  True,  True,  True,\n",
              "        True,  True,  True,  True,  True,  True,  True,  True,  True,\n",
              "       False])"
            ]
          },
          "metadata": {
            "tags": []
          },
          "execution_count": 151
        }
      ]
    },
    {
      "metadata": {
        "id": "Afd-N0NXOszQ",
        "colab_type": "code",
        "outputId": "4a3ab165-593d-423f-8898-fcc93c4f2598",
        "colab": {
          "base_uri": "https://localhost:8080/",
          "height": 34
        }
      },
      "cell_type": "code",
      "source": [
        "sp.cumsum()[-1], sq.cumsum()[-1]"
      ],
      "execution_count": 0,
      "outputs": [
        {
          "output_type": "execute_result",
          "data": {
            "text/plain": [
              "(0.9999999999999996, 1.0)"
            ]
          },
          "metadata": {
            "tags": []
          },
          "execution_count": 153
        }
      ]
    },
    {
      "metadata": {
        "id": "PwMkvJBzNZWr",
        "colab_type": "code",
        "outputId": "247e059d-c813-4fa5-dc81-6f0abbcaf70f",
        "colab": {
          "base_uri": "https://localhost:8080/",
          "height": 34
        }
      },
      "cell_type": "code",
      "source": [
        " ones.T @ np.log(K @ q), ones.T @ np.log(K @ p)"
      ],
      "execution_count": 0,
      "outputs": [
        {
          "output_type": "execute_result",
          "data": {
            "text/plain": [
              "(array([[-71.15100339]]), array([[-70.27844668]]))"
            ]
          },
          "metadata": {
            "tags": []
          },
          "execution_count": 148
        }
      ]
    },
    {
      "metadata": {
        "id": "7Id_SrJ7DtHu",
        "colab_type": "code",
        "outputId": "a54933e9-d926-4f03-9d75-24ec4898d9cd",
        "colab": {
          "base_uri": "https://localhost:8080/",
          "height": 1038
        }
      },
      "cell_type": "code",
      "source": [
        "n = 100\n",
        "\n",
        "ones = np.array(n * [[1]])\n",
        "\n",
        "for _ in range(100):\n",
        "    # Crea\n",
        "    K = np.random.rand(n, n)\n",
        "    K = 0.5 * (K + K.T)\n",
        "\n",
        "    # Initialize A randomly and iterate normalization\n",
        "    A = np.random.rand(n, n)\n",
        "    for __ in range(20):\n",
        "        A = A / A.sum(axis=0)\n",
        "        A = (A.T / A.sum(axis=1)).T\n",
        "\n",
        "    #W = A.T @ K @ A\n",
        "    W = K @ A\n",
        "    \n",
        "    p = np.random.dirichlet(n*[1/2], 1).T\n",
        "    hp = p.T @ np.log(K @ p)\n",
        "    \n",
        "    q = A @ p\n",
        "    #q = np.random.dirichlet(n*[1/2], 1).T\n",
        "    hq = q.T @ np.log(K @ q)\n",
        "    \n",
        "    theta = np.random.dirichlet([1], 1)\n",
        "    z = (1 - theta) * p + theta * q\n",
        "    \n",
        "    hz = z.T @ np.log(K @ z)\n",
        "    hmd = (1 - theta) * hp  + theta * hq\n",
        "    \n",
        "    if not hz + 1e-6 >= hmd:\n",
        "        print('BBBBB')\n",
        "        print(hz, hmd)\n",
        "    \n",
        "    if not (p.T @ np.log(K @ p) >= q.T @ np.log(K @ q) )[0][0]:\n",
        "        print('CCCC')\n",
        "        \n",
        "#     if not (p.T @ np.log(K @ p) >= p.T @ np.log(W @ p) )[0][0]:\n",
        "#         print (_, 'AAAAAAAAAA', p.T)\n",
        "#         print(A)\n",
        "#         print(A.sum(axis=0),  A.sum(axis=1))\n",
        "#         print(K)\n",
        "#         print((p.T @ np.log(K @ p) - p.T @ np.log(W @ p) ))\n",
        "#         break"
      ],
      "execution_count": 0,
      "outputs": [
        {
          "output_type": "stream",
          "text": [
            "CCCC\n",
            "CCCC\n",
            "CCCC\n",
            "CCCC\n",
            "CCCC\n",
            "CCCC\n",
            "CCCC\n",
            "CCCC\n",
            "CCCC\n",
            "CCCC\n",
            "CCCC\n",
            "CCCC\n",
            "CCCC\n",
            "CCCC\n",
            "CCCC\n",
            "CCCC\n",
            "CCCC\n",
            "CCCC\n",
            "CCCC\n",
            "CCCC\n",
            "CCCC\n",
            "CCCC\n",
            "CCCC\n",
            "CCCC\n",
            "CCCC\n",
            "CCCC\n",
            "CCCC\n",
            "CCCC\n",
            "CCCC\n",
            "CCCC\n",
            "CCCC\n",
            "CCCC\n",
            "CCCC\n",
            "CCCC\n",
            "CCCC\n",
            "CCCC\n",
            "CCCC\n",
            "CCCC\n",
            "CCCC\n",
            "CCCC\n",
            "CCCC\n",
            "CCCC\n",
            "CCCC\n",
            "CCCC\n",
            "CCCC\n",
            "CCCC\n",
            "CCCC\n",
            "CCCC\n",
            "CCCC\n",
            "CCCC\n",
            "CCCC\n",
            "CCCC\n",
            "CCCC\n",
            "CCCC\n",
            "CCCC\n",
            "CCCC\n",
            "CCCC\n",
            "CCCC\n"
          ],
          "name": "stdout"
        }
      ]
    },
    {
      "metadata": {
        "id": "UGJXcGitGElY",
        "colab_type": "code",
        "outputId": "4acdc204-1511-43ca-e622-19946b7fc227",
        "colab": {
          "base_uri": "https://localhost:8080/",
          "height": 34
        }
      },
      "cell_type": "code",
      "source": [
        "(p.T @ np.log(K @ p) > p.T @ np.log(W @ p) )[0][0]"
      ],
      "execution_count": 0,
      "outputs": [
        {
          "output_type": "execute_result",
          "data": {
            "text/plain": [
              "False"
            ]
          },
          "metadata": {
            "tags": []
          },
          "execution_count": 78
        }
      ]
    },
    {
      "metadata": {
        "id": "kCMFdAamGfu2",
        "colab_type": "code",
        "outputId": "411e0874-1e3d-43b4-9409-7e47195bbb64",
        "colab": {
          "base_uri": "https://localhost:8080/",
          "height": 34
        }
      },
      "cell_type": "code",
      "source": [
        ""
      ],
      "execution_count": 0,
      "outputs": [
        {
          "output_type": "execute_result",
          "data": {
            "text/plain": [
              "True"
            ]
          },
          "metadata": {
            "tags": []
          },
          "execution_count": 76
        }
      ]
    },
    {
      "metadata": {
        "id": "3_Zg61QyGUj2",
        "colab_type": "code",
        "outputId": "46228257-3b37-429a-de89-401d05911d63",
        "colab": {
          "base_uri": "https://localhost:8080/",
          "height": 105
        }
      },
      "cell_type": "code",
      "source": [
        "(W - K) @ p "
      ],
      "execution_count": 0,
      "outputs": [
        {
          "output_type": "execute_result",
          "data": {
            "text/plain": [
              "array([[-0.06728522],\n",
              "       [ 0.03319462],\n",
              "       [ 0.1253303 ],\n",
              "       [-0.01483111],\n",
              "       [-0.08110535]])"
            ]
          },
          "metadata": {
            "tags": []
          },
          "execution_count": 57
        }
      ]
    },
    {
      "metadata": {
        "id": "GcGtJKBPGbEK",
        "colab_type": "code",
        "colab": {}
      },
      "cell_type": "code",
      "source": [
        ""
      ],
      "execution_count": 0,
      "outputs": []
    },
    {
      "metadata": {
        "id": "I-9VkyqsD7Ff",
        "colab_type": "code",
        "outputId": "cfb4895e-716c-4a42-bb5b-51c2f09db259",
        "colab": {
          "base_uri": "https://localhost:8080/",
          "height": 34
        }
      },
      "cell_type": "code",
      "source": [
        "W.sum()"
      ],
      "execution_count": 0,
      "outputs": [
        {
          "output_type": "execute_result",
          "data": {
            "text/plain": [
              "12.836204992809511"
            ]
          },
          "metadata": {
            "tags": []
          },
          "execution_count": 44
        }
      ]
    },
    {
      "metadata": {
        "id": "eCKzahkVwfQM",
        "colab_type": "code",
        "colab": {}
      },
      "cell_type": "code",
      "source": [
        "class GeneratorFC(nn.Module):\n",
        "    def __init__(self, input_size, output_size, hidden_dims):\n",
        "        super(GeneratorFC, self).__init__()\n",
        "        self.layers = []\n",
        "\n",
        "        prev_dim = input_size\n",
        "        for hidden_dim in hidden_dims:\n",
        "            self.layers.append(nn.Linear(prev_dim, hidden_dim))\n",
        "            self.layers.append(nn.LeakyReLU())\n",
        "            prev_dim = hidden_dim\n",
        "        self.layers.append(nn.Linear(prev_dim, output_size))\n",
        "\n",
        "        self.layer_module = nn.ModuleList(self.layers)\n",
        "\n",
        "    def forward(self, x):\n",
        "        out = x\n",
        "        for layer in self.layer_module:\n",
        "            out = layer(out)\n",
        "        return out\n",
        "    \n",
        "class LinearClassifier(nn.Module):\n",
        "    def __init__(self, input_size):\n",
        "        super(LinearClassifier, self).__init__()\n",
        "        self.model = nn.Linear(input_size, 1)\n",
        "        \n",
        "    def forward(self, x):\n",
        "        return self.model(x)"
      ],
      "execution_count": 0,
      "outputs": []
    },
    {
      "metadata": {
        "id": "nlGPmtVwwhe8",
        "colab_type": "text"
      },
      "cell_type": "markdown",
      "source": [
        "\n",
        "\n",
        "## Mixture of Gaussians"
      ]
    },
    {
      "metadata": {
        "id": "9qogZrN_dUaB",
        "colab_type": "code",
        "colab": {}
      },
      "cell_type": "code",
      "source": [
        "from scipy.stats import multivariate_normal\n",
        "\n",
        "def sample_mix(rvs, p, n_samples, as_torch=True):\n",
        "    out = []\n",
        "    out_class = []\n",
        "    for i in range(n_samples):\n",
        "        j = np.random.choice(len(p), p=p)\n",
        "        out += [np.random.multivariate_normal(rvs[j].mean, rvs[j].cov)]\n",
        "        out_class += [[j%2]]\n",
        "    \n",
        "    if as_torch:\n",
        "        return torch.Tensor(np.stack(out)), torch.Tensor(np.stack(out_class))\n",
        "    else:\n",
        "        return np.stack(out), np.stack(out_class)\n",
        "\n",
        "def eval_mix_pdf(x, rvs, p):\n",
        "    cont = np.zeros_like(x[:, :, 0])\n",
        "    for _ in range(len(mus)):\n",
        "        cont += p[_] * rvs[_].pdf(x)\n",
        "    return cont"
      ],
      "execution_count": 0,
      "outputs": []
    },
    {
      "metadata": {
        "id": "jkKwag3ZrEd4",
        "colab_type": "code",
        "colab": {}
      },
      "cell_type": "code",
      "source": [
        "mus = [ [-1, 2],\n",
        "        [1, -2]]\n",
        "\n",
        "covs = [ [[1, 0], [0, 1]], \n",
        "         [[1, 0], [0, 1]] ]\n",
        "\n",
        "p = [1, 1]\n",
        "p = np.array(p) / np.sum(p)\n",
        "\n",
        "rvs = []\n",
        "for _ in range(len(mus)):\n",
        "    rvs.append(multivariate_normal(np.array(mus[_]), 0.1*np.array(covs[_])))\n",
        "    \n",
        "x, y = np.mgrid[-5:4:.05, -4:5:.05]\n",
        "pos = np.empty(x.shape + (2,))\n",
        "pos[:, :, 0] = x; pos[:, :, 1] = y\n",
        "\n",
        "z_dim, batch_size = 10, 32\n",
        "\n",
        "generator = GeneratorFC(z_dim, d+1, gen_hiddens)\n",
        "g_optimizer = torch.optim.Adam(generator.parameters(), lr=1e-3, betas=(0.9, 0.99))\n",
        "\n",
        "classifier = LinearClassifier(d)\n",
        "c_optimizer = torch.optim.Adam(classifier.parameters(), lr=1e-3, betas=(0.9, 0.99))\n",
        "\n",
        "bce_loss = torch.nn.BCEWithLogitsLoss()"
      ],
      "execution_count": 0,
      "outputs": []
    },
    {
      "metadata": {
        "id": "6NLCJd2HrBUR",
        "colab_type": "code",
        "outputId": "ce72bfdb-3405-463e-c3ae-ee104baadbc7",
        "colab": {
          "base_uri": "https://localhost:8080/",
          "height": 211
        }
      },
      "cell_type": "code",
      "source": [
        "x_real, y_real = sample_mix(rvs, p, n_samples=500, as_torch=False)    \n",
        "z = torch.randn(500, z_dim)\n",
        "x_fake = generator(z).data.numpy()\n",
        "x_fake, y_fake = x_fake[:, :-1], x_fake[:, -1:] \n",
        "    \n",
        "\n",
        "plt.figure(figsize=(3, 3))\n",
        "plt.scatter(x_real[:, 0], x_real[:, 1], s=20, c=y_real[:, 0], label='True', cmap='Blues', linewidths=1, edgecolors='b', alpha=0.5)\n",
        "plt.scatter(x_fake[:, 0], x_fake[:, 1], s=20, c=y_fake[:, 0], marker='s', label='False', cmap='Reds', linewidths=1, edgecolors='r', alpha=0.5)\n",
        "\n",
        "w1, w2 = list(classifier.model.parameters())[0].data.numpy()[0]\n",
        "b = list(classifier.model.parameters())[1].data.numpy()[0]\n",
        "x = np.linspace(-1, 1, 10)\n",
        "y = (-w1*x - b)/w2\n",
        "plt.plot(x, y, '-*', c='g')\n",
        "\n",
        "plt.legend(loc='best');"
      ],
      "execution_count": 0,
      "outputs": [
        {
          "output_type": "display_data",
          "data": {
            "image/png": "[encoded data removed]",
            "text/plain": [
              "<Figure size 216x216 with 1 Axes>"
            ]
          },
          "metadata": {
            "tags": []
          }
        }
      ]
    },
    {
      "metadata": {
        "id": "zkZTdDVYya_K",
        "colab_type": "code",
        "outputId": "9e9a0099-2394-432f-f23c-48049586d219",
        "colab": {
          "base_uri": "https://localhost:8080/",
          "height": 695
        }
      },
      "cell_type": "code",
      "source": [
        "for _ in range(1000):\n",
        "    \n",
        "    g_optimizer.zero_grad()\n",
        "    \n",
        "    x_real, y_real = sample_mix(rvs, p, n_samples=batch_size, as_torch=True)             \n",
        "    z = torch.randn(batch_size, z_dim)\n",
        "    x_fake = generator(z)\n",
        "    x_fake, y_fake = x_fake[:, :-1], torch.sigmoid(x_fake[:, -1:]) \n",
        "    \n",
        "    for c_iter in range(50):\n",
        "        c_optimizer.zero_grad()\n",
        "        loss = bce_loss(classifier(x_fake), y_fake)\n",
        "        #loss = bce_loss(classifier(x_real), y_real)\n",
        "        \n",
        "        if (_ == 0 or (_> 0 and _ % 100 == 0)) and c_iter % 25 == 0:\n",
        "            print(\"C %d - %.4f\" % (c_iter, loss.item()))\n",
        "        \n",
        "        loss.backward(retain_graph=True) \n",
        "        c_optimizer.step()\n",
        "    \n",
        "    loss = bce_loss(classifier(x_real), y_real)\n",
        "    loss.backward() \n",
        "    g_optimizer.step()\n",
        "    \n",
        "    if _ == 0 or (_> 0 and _ % 100 == 0):\n",
        "        print(\"%d - %.4f\" % (_, loss.item()))"
      ],
      "execution_count": 0,
      "outputs": [
        {
          "output_type": "stream",
          "text": [
            "C 0 - 0.7129\n",
            "C 25 - 0.7105\n",
            "0 - 0.4103\n",
            "C 0 - 0.0016\n",
            "C 25 - 0.0016\n",
            "100 - 1.3933\n",
            "C 0 - 0.0008\n",
            "C 25 - 0.0008\n",
            "200 - 1.2716\n",
            "C 0 - 0.0002\n",
            "C 25 - 0.0002\n",
            "300 - 1.1231\n"
          ],
          "name": "stdout"
        },
        {
          "output_type": "error",
          "ename": "KeyboardInterrupt",
          "evalue": "ignored",
          "traceback": [
            "\u001b[0;31m---------------------------------------------------------------------------\u001b[0m",
            "\u001b[0;31mKeyboardInterrupt\u001b[0m                         Traceback (most recent call last)",
            "\u001b[0;32m<ipython-input-244-9eef3f23b25d>\u001b[0m in \u001b[0;36m<module>\u001b[0;34m()\u001b[0m\n\u001b[1;32m     16\u001b[0m             \u001b[0mprint\u001b[0m\u001b[0;34m(\u001b[0m\u001b[0;34m\"C %d - %.4f\"\u001b[0m \u001b[0;34m%\u001b[0m \u001b[0;34m(\u001b[0m\u001b[0mc_iter\u001b[0m\u001b[0;34m,\u001b[0m \u001b[0mloss\u001b[0m\u001b[0;34m.\u001b[0m\u001b[0mitem\u001b[0m\u001b[0;34m(\u001b[0m\u001b[0;34m)\u001b[0m\u001b[0;34m)\u001b[0m\u001b[0;34m)\u001b[0m\u001b[0;34m\u001b[0m\u001b[0;34m\u001b[0m\u001b[0m\n\u001b[1;32m     17\u001b[0m \u001b[0;34m\u001b[0m\u001b[0m\n\u001b[0;32m---> 18\u001b[0;31m         \u001b[0mloss\u001b[0m\u001b[0;34m.\u001b[0m\u001b[0mbackward\u001b[0m\u001b[0;34m(\u001b[0m\u001b[0mretain_graph\u001b[0m\u001b[0;34m=\u001b[0m\u001b[0;32mTrue\u001b[0m\u001b[0;34m)\u001b[0m\u001b[0;34m\u001b[0m\u001b[0;34m\u001b[0m\u001b[0m\n\u001b[0m\u001b[1;32m     19\u001b[0m         \u001b[0mc_optimizer\u001b[0m\u001b[0;34m.\u001b[0m\u001b[0mstep\u001b[0m\u001b[0;34m(\u001b[0m\u001b[0;34m)\u001b[0m\u001b[0;34m\u001b[0m\u001b[0;34m\u001b[0m\u001b[0m\n\u001b[1;32m     20\u001b[0m \u001b[0;34m\u001b[0m\u001b[0m\n",
            "\u001b[0;32m/usr/local/lib/python3.6/dist-packages/torch/tensor.py\u001b[0m in \u001b[0;36mbackward\u001b[0;34m(self, gradient, retain_graph, create_graph)\u001b[0m\n\u001b[1;32m    100\u001b[0m                 \u001b[0mproducts\u001b[0m\u001b[0;34m.\u001b[0m \u001b[0mDefaults\u001b[0m \u001b[0mto\u001b[0m\u001b[0;31m \u001b[0m\u001b[0;31m`\u001b[0m\u001b[0;31m`\u001b[0m\u001b[0;32mFalse\u001b[0m\u001b[0;31m`\u001b[0m\u001b[0;31m`\u001b[0m\u001b[0;34m.\u001b[0m\u001b[0;34m\u001b[0m\u001b[0;34m\u001b[0m\u001b[0m\n\u001b[1;32m    101\u001b[0m         \"\"\"\n\u001b[0;32m--> 102\u001b[0;31m         \u001b[0mtorch\u001b[0m\u001b[0;34m.\u001b[0m\u001b[0mautograd\u001b[0m\u001b[0;34m.\u001b[0m\u001b[0mbackward\u001b[0m\u001b[0;34m(\u001b[0m\u001b[0mself\u001b[0m\u001b[0;34m,\u001b[0m \u001b[0mgradient\u001b[0m\u001b[0;34m,\u001b[0m \u001b[0mretain_graph\u001b[0m\u001b[0;34m,\u001b[0m \u001b[0mcreate_graph\u001b[0m\u001b[0;34m)\u001b[0m\u001b[0;34m\u001b[0m\u001b[0;34m\u001b[0m\u001b[0m\n\u001b[0m\u001b[1;32m    103\u001b[0m \u001b[0;34m\u001b[0m\u001b[0m\n\u001b[1;32m    104\u001b[0m     \u001b[0;32mdef\u001b[0m \u001b[0mregister_hook\u001b[0m\u001b[0;34m(\u001b[0m\u001b[0mself\u001b[0m\u001b[0;34m,\u001b[0m \u001b[0mhook\u001b[0m\u001b[0;34m)\u001b[0m\u001b[0;34m:\u001b[0m\u001b[0;34m\u001b[0m\u001b[0;34m\u001b[0m\u001b[0m\n",
            "\u001b[0;32m/usr/local/lib/python3.6/dist-packages/torch/autograd/__init__.py\u001b[0m in \u001b[0;36mbackward\u001b[0;34m(tensors, grad_tensors, retain_graph, create_graph, grad_variables)\u001b[0m\n\u001b[1;32m     88\u001b[0m     Variable._execution_engine.run_backward(\n\u001b[1;32m     89\u001b[0m         \u001b[0mtensors\u001b[0m\u001b[0;34m,\u001b[0m \u001b[0mgrad_tensors\u001b[0m\u001b[0;34m,\u001b[0m \u001b[0mretain_graph\u001b[0m\u001b[0;34m,\u001b[0m \u001b[0mcreate_graph\u001b[0m\u001b[0;34m,\u001b[0m\u001b[0;34m\u001b[0m\u001b[0;34m\u001b[0m\u001b[0m\n\u001b[0;32m---> 90\u001b[0;31m         allow_unreachable=True)  # allow_unreachable flag\n\u001b[0m\u001b[1;32m     91\u001b[0m \u001b[0;34m\u001b[0m\u001b[0m\n\u001b[1;32m     92\u001b[0m \u001b[0;34m\u001b[0m\u001b[0m\n",
            "\u001b[0;31mKeyboardInterrupt\u001b[0m: "
          ]
        }
      ]
    },
    {
      "metadata": {
        "id": "Sc6CL9hMqIg1",
        "colab_type": "code",
        "colab": {}
      },
      "cell_type": "code",
      "source": [
        ""
      ],
      "execution_count": 0,
      "outputs": []
    },
    {
      "metadata": {
        "id": "TvFb-ehKqBlL",
        "colab_type": "code",
        "outputId": "c6d844ce-1252-45db-9177-20b9dd404a4e",
        "colab": {
          "base_uri": "https://localhost:8080/",
          "height": 34
        }
      },
      "cell_type": "code",
      "source": [
        ""
      ],
      "execution_count": 0,
      "outputs": [
        {
          "output_type": "execute_result",
          "data": {
            "text/plain": [
              "array([[-1.0452721, -1.43722  ]], dtype=float32)"
            ]
          },
          "metadata": {
            "tags": []
          },
          "execution_count": 176
        }
      ]
    },
    {
      "metadata": {
        "id": "veuxiOB1oLs4",
        "colab_type": "code",
        "outputId": "c2ae7f2e-e55b-4c3e-eb0e-0e65b0a08d45",
        "colab": {
          "base_uri": "https://localhost:8080/",
          "height": 34
        }
      },
      "cell_type": "code",
      "source": [
        "x_real, y_real = sample_mix(rvs, p, n_samples=batch_size, as_torch=True)             \n",
        "    \n",
        "torch.sum(torch.sign(classifier(x_real)) == (2*y_real - 1))"
      ],
      "execution_count": 0,
      "outputs": [
        {
          "output_type": "execute_result",
          "data": {
            "text/plain": [
              "tensor(32)"
            ]
          },
          "metadata": {
            "tags": []
          },
          "execution_count": 180
        }
      ]
    },
    {
      "metadata": {
        "id": "H1nSMIr2ppAJ",
        "colab_type": "code",
        "outputId": "e63121f6-8e6c-413b-9ec6-b75069345666",
        "colab": {
          "base_uri": "https://localhost:8080/",
          "height": 8417
        }
      },
      "cell_type": "code",
      "source": [
        "z = torch.randn(500, z_dim)\n",
        "x_fake = generator(z)\n",
        "x_fake, y_fake = x_fake[:, :-1], x_fake[:, -1:] \n",
        "torch.sign(classifier(x_fake)) == y_fake"
      ],
      "execution_count": 0,
      "outputs": [
        {
          "output_type": "execute_result",
          "data": {
            "text/plain": [
              "tensor([[0],\n",
              "        [0],\n",
              "        [0],\n",
              "        [0],\n",
              "        [0],\n",
              "        [0],\n",
              "        [0],\n",
              "        [0],\n",
              "        [0],\n",
              "        [0],\n",
              "        [0],\n",
              "        [0],\n",
              "        [0],\n",
              "        [0],\n",
              "        [0],\n",
              "        [0],\n",
              "        [0],\n",
              "        [0],\n",
              "        [0],\n",
              "        [0],\n",
              "        [0],\n",
              "        [0],\n",
              "        [0],\n",
              "        [0],\n",
              "        [0],\n",
              "        [0],\n",
              "        [0],\n",
              "        [0],\n",
              "        [0],\n",
              "        [0],\n",
              "        [0],\n",
              "        [0],\n",
              "        [0],\n",
              "        [0],\n",
              "        [0],\n",
              "        [0],\n",
              "        [0],\n",
              "        [0],\n",
              "        [0],\n",
              "        [0],\n",
              "        [0],\n",
              "        [0],\n",
              "        [0],\n",
              "        [0],\n",
              "        [0],\n",
              "        [0],\n",
              "        [0],\n",
              "        [0],\n",
              "        [0],\n",
              "        [0],\n",
              "        [0],\n",
              "        [0],\n",
              "        [0],\n",
              "        [0],\n",
              "        [0],\n",
              "        [0],\n",
              "        [0],\n",
              "        [0],\n",
              "        [0],\n",
              "        [0],\n",
              "        [0],\n",
              "        [0],\n",
              "        [0],\n",
              "        [0],\n",
              "        [0],\n",
              "        [0],\n",
              "        [0],\n",
              "        [0],\n",
              "        [0],\n",
              "        [0],\n",
              "        [0],\n",
              "        [0],\n",
              "        [0],\n",
              "        [0],\n",
              "        [0],\n",
              "        [0],\n",
              "        [0],\n",
              "        [0],\n",
              "        [0],\n",
              "        [0],\n",
              "        [0],\n",
              "        [0],\n",
              "        [0],\n",
              "        [0],\n",
              "        [0],\n",
              "        [0],\n",
              "        [0],\n",
              "        [0],\n",
              "        [0],\n",
              "        [0],\n",
              "        [0],\n",
              "        [0],\n",
              "        [0],\n",
              "        [0],\n",
              "        [0],\n",
              "        [0],\n",
              "        [0],\n",
              "        [0],\n",
              "        [0],\n",
              "        [0],\n",
              "        [0],\n",
              "        [0],\n",
              "        [0],\n",
              "        [0],\n",
              "        [0],\n",
              "        [0],\n",
              "        [0],\n",
              "        [0],\n",
              "        [0],\n",
              "        [0],\n",
              "        [0],\n",
              "        [0],\n",
              "        [0],\n",
              "        [0],\n",
              "        [0],\n",
              "        [0],\n",
              "        [0],\n",
              "        [0],\n",
              "        [0],\n",
              "        [0],\n",
              "        [0],\n",
              "        [0],\n",
              "        [0],\n",
              "        [0],\n",
              "        [0],\n",
              "        [0],\n",
              "        [0],\n",
              "        [0],\n",
              "        [0],\n",
              "        [0],\n",
              "        [0],\n",
              "        [0],\n",
              "        [0],\n",
              "        [0],\n",
              "        [0],\n",
              "        [0],\n",
              "        [0],\n",
              "        [0],\n",
              "        [0],\n",
              "        [0],\n",
              "        [0],\n",
              "        [0],\n",
              "        [0],\n",
              "        [0],\n",
              "        [0],\n",
              "        [0],\n",
              "        [0],\n",
              "        [0],\n",
              "        [0],\n",
              "        [0],\n",
              "        [0],\n",
              "        [0],\n",
              "        [0],\n",
              "        [0],\n",
              "        [0],\n",
              "        [0],\n",
              "        [0],\n",
              "        [0],\n",
              "        [0],\n",
              "        [0],\n",
              "        [0],\n",
              "        [0],\n",
              "        [0],\n",
              "        [0],\n",
              "        [0],\n",
              "        [0],\n",
              "        [0],\n",
              "        [0],\n",
              "        [0],\n",
              "        [0],\n",
              "        [0],\n",
              "        [0],\n",
              "        [0],\n",
              "        [0],\n",
              "        [0],\n",
              "        [0],\n",
              "        [0],\n",
              "        [0],\n",
              "        [0],\n",
              "        [0],\n",
              "        [0],\n",
              "        [0],\n",
              "        [0],\n",
              "        [0],\n",
              "        [0],\n",
              "        [0],\n",
              "        [0],\n",
              "        [0],\n",
              "        [0],\n",
              "        [0],\n",
              "        [0],\n",
              "        [0],\n",
              "        [0],\n",
              "        [0],\n",
              "        [0],\n",
              "        [0],\n",
              "        [0],\n",
              "        [0],\n",
              "        [0],\n",
              "        [0],\n",
              "        [0],\n",
              "        [0],\n",
              "        [0],\n",
              "        [0],\n",
              "        [0],\n",
              "        [0],\n",
              "        [0],\n",
              "        [0],\n",
              "        [0],\n",
              "        [0],\n",
              "        [0],\n",
              "        [0],\n",
              "        [0],\n",
              "        [0],\n",
              "        [0],\n",
              "        [0],\n",
              "        [0],\n",
              "        [0],\n",
              "        [0],\n",
              "        [0],\n",
              "        [0],\n",
              "        [0],\n",
              "        [0],\n",
              "        [0],\n",
              "        [0],\n",
              "        [0],\n",
              "        [0],\n",
              "        [0],\n",
              "        [0],\n",
              "        [0],\n",
              "        [0],\n",
              "        [0],\n",
              "        [0],\n",
              "        [0],\n",
              "        [0],\n",
              "        [0],\n",
              "        [0],\n",
              "        [0],\n",
              "        [0],\n",
              "        [0],\n",
              "        [0],\n",
              "        [0],\n",
              "        [0],\n",
              "        [0],\n",
              "        [0],\n",
              "        [0],\n",
              "        [0],\n",
              "        [0],\n",
              "        [0],\n",
              "        [0],\n",
              "        [0],\n",
              "        [0],\n",
              "        [0],\n",
              "        [0],\n",
              "        [0],\n",
              "        [0],\n",
              "        [0],\n",
              "        [0],\n",
              "        [0],\n",
              "        [0],\n",
              "        [0],\n",
              "        [0],\n",
              "        [0],\n",
              "        [0],\n",
              "        [0],\n",
              "        [0],\n",
              "        [0],\n",
              "        [0],\n",
              "        [0],\n",
              "        [0],\n",
              "        [0],\n",
              "        [0],\n",
              "        [0],\n",
              "        [0],\n",
              "        [0],\n",
              "        [0],\n",
              "        [0],\n",
              "        [0],\n",
              "        [0],\n",
              "        [0],\n",
              "        [0],\n",
              "        [0],\n",
              "        [0],\n",
              "        [0],\n",
              "        [0],\n",
              "        [0],\n",
              "        [0],\n",
              "        [0],\n",
              "        [0],\n",
              "        [0],\n",
              "        [0],\n",
              "        [0],\n",
              "        [0],\n",
              "        [0],\n",
              "        [0],\n",
              "        [0],\n",
              "        [0],\n",
              "        [0],\n",
              "        [0],\n",
              "        [0],\n",
              "        [0],\n",
              "        [0],\n",
              "        [0],\n",
              "        [0],\n",
              "        [0],\n",
              "        [0],\n",
              "        [0],\n",
              "        [0],\n",
              "        [0],\n",
              "        [0],\n",
              "        [0],\n",
              "        [0],\n",
              "        [0],\n",
              "        [0],\n",
              "        [0],\n",
              "        [0],\n",
              "        [0],\n",
              "        [0],\n",
              "        [0],\n",
              "        [0],\n",
              "        [0],\n",
              "        [0],\n",
              "        [0],\n",
              "        [0],\n",
              "        [0],\n",
              "        [0],\n",
              "        [0],\n",
              "        [0],\n",
              "        [0],\n",
              "        [0],\n",
              "        [0],\n",
              "        [0],\n",
              "        [0],\n",
              "        [0],\n",
              "        [0],\n",
              "        [0],\n",
              "        [0],\n",
              "        [0],\n",
              "        [0],\n",
              "        [0],\n",
              "        [0],\n",
              "        [0],\n",
              "        [0],\n",
              "        [0],\n",
              "        [0],\n",
              "        [0],\n",
              "        [0],\n",
              "        [0],\n",
              "        [0],\n",
              "        [0],\n",
              "        [0],\n",
              "        [0],\n",
              "        [0],\n",
              "        [0],\n",
              "        [0],\n",
              "        [0],\n",
              "        [0],\n",
              "        [0],\n",
              "        [0],\n",
              "        [0],\n",
              "        [0],\n",
              "        [0],\n",
              "        [0],\n",
              "        [0],\n",
              "        [0],\n",
              "        [0],\n",
              "        [0],\n",
              "        [0],\n",
              "        [0],\n",
              "        [0],\n",
              "        [0],\n",
              "        [0],\n",
              "        [0],\n",
              "        [0],\n",
              "        [0],\n",
              "        [0],\n",
              "        [0],\n",
              "        [0],\n",
              "        [0],\n",
              "        [0],\n",
              "        [0],\n",
              "        [0],\n",
              "        [0],\n",
              "        [0],\n",
              "        [0],\n",
              "        [0],\n",
              "        [0],\n",
              "        [0],\n",
              "        [0],\n",
              "        [0],\n",
              "        [0],\n",
              "        [0],\n",
              "        [0],\n",
              "        [0],\n",
              "        [0],\n",
              "        [0],\n",
              "        [0],\n",
              "        [0],\n",
              "        [0],\n",
              "        [0],\n",
              "        [0],\n",
              "        [0],\n",
              "        [0],\n",
              "        [0],\n",
              "        [0],\n",
              "        [0],\n",
              "        [0],\n",
              "        [0],\n",
              "        [0],\n",
              "        [0],\n",
              "        [0],\n",
              "        [0],\n",
              "        [0],\n",
              "        [0],\n",
              "        [0],\n",
              "        [0],\n",
              "        [0],\n",
              "        [0],\n",
              "        [0],\n",
              "        [0],\n",
              "        [0],\n",
              "        [0],\n",
              "        [0],\n",
              "        [0],\n",
              "        [0],\n",
              "        [0],\n",
              "        [0],\n",
              "        [0],\n",
              "        [0],\n",
              "        [0],\n",
              "        [0],\n",
              "        [0],\n",
              "        [0],\n",
              "        [0],\n",
              "        [0],\n",
              "        [0],\n",
              "        [0],\n",
              "        [0],\n",
              "        [0],\n",
              "        [0],\n",
              "        [0],\n",
              "        [0],\n",
              "        [0],\n",
              "        [0],\n",
              "        [0],\n",
              "        [0],\n",
              "        [0],\n",
              "        [0],\n",
              "        [0],\n",
              "        [0],\n",
              "        [0],\n",
              "        [0],\n",
              "        [0],\n",
              "        [0],\n",
              "        [0],\n",
              "        [0],\n",
              "        [0],\n",
              "        [0],\n",
              "        [0],\n",
              "        [0],\n",
              "        [0],\n",
              "        [0],\n",
              "        [0],\n",
              "        [0],\n",
              "        [0],\n",
              "        [0],\n",
              "        [0],\n",
              "        [0],\n",
              "        [0],\n",
              "        [0],\n",
              "        [0],\n",
              "        [0],\n",
              "        [0],\n",
              "        [0],\n",
              "        [0],\n",
              "        [0],\n",
              "        [0],\n",
              "        [0],\n",
              "        [0],\n",
              "        [0],\n",
              "        [0],\n",
              "        [0],\n",
              "        [0],\n",
              "        [0],\n",
              "        [0],\n",
              "        [0],\n",
              "        [0],\n",
              "        [0],\n",
              "        [0],\n",
              "        [0],\n",
              "        [0],\n",
              "        [0],\n",
              "        [0],\n",
              "        [0],\n",
              "        [0],\n",
              "        [0],\n",
              "        [0],\n",
              "        [0],\n",
              "        [0],\n",
              "        [0]], dtype=torch.uint8)"
            ]
          },
          "metadata": {
            "tags": []
          },
          "execution_count": 183
        }
      ]
    },
    {
      "metadata": {
        "id": "f2Yk327up20Z",
        "colab_type": "code",
        "colab": {}
      },
      "cell_type": "code",
      "source": [
        ""
      ],
      "execution_count": 0,
      "outputs": []
    }
  ]
}