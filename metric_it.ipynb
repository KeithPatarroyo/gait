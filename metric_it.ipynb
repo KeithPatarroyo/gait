{
 "cells": [
  {
   "cell_type": "code",
   "execution_count": 6,
   "metadata": {},
   "outputs": [
    {
     "name": "stdout",
     "output_type": "stream",
     "text": [
      "The autoreload extension is already loaded. To reload it, use:\n",
      "  %reload_ext autoreload\n"
     ]
    }
   ],
   "source": [
    "%load_ext autoreload\n",
    "%autoreload 2\n",
    "\n",
    "import itertools\n",
    "from mpl_toolkits.mplot3d import Axes3D\n",
    "import matplotlib.pyplot as plt\n",
    "from matplotlib import cm\n",
    "from matplotlib.ticker import LinearLocator, FormatStrFormatter\n",
    "import numpy as np\n",
    "\n",
    "import os\n",
    "\n",
    "import torchvision\n",
    "import torch.nn as nn\n",
    "import torch.nn.functional as F\n",
    "import torch\n",
    "\n",
    "import renyi\n",
    "import utils\n",
    "import sxp"
   ]
  },
  {
   "cell_type": "markdown",
   "metadata": {},
   "source": [
    "$\\newcommand{\\X}{\\mathcal{X}}$\n",
    "$\\newcommand{\\k}{\\kappa}$\n",
    "$\\newcommand{\\D}{D^K_{\\alpha}}$\n",
    "$\\newcommand{\\H}{H^K_{\\alpha}}$\n",
    "\n",
    "## Similarity-sensitive entropy\n",
    "\n",
    "Let $\\mathcal{X}$ be a finite set of size $n$ and let $\\k$ be a positive definite kernel. Let $X$ be a random variable with distribution $p$ on $\\X$. Let $K$ be the Gram matrix induced by $\\k$ on $\\X$.\n",
    "\n",
    "We define the similarity-sensitive Renyi entropy of order alpha [cite Tom Leinster] of $X$ by:\n",
    "\n",
    "$$\\H(p) = \\frac{1}{1-\\alpha} \\log \\sum_{i = 1}^n  p_i (Kp)_i^{\\alpha-1}$$\n",
    "\n",
    "Special Case: If we have a metric space $(\\X, d)$, we can define $\\k(x, y) \\triangleq \\exp(-d(x, y))$. [Reams]"
   ]
  },
  {
   "cell_type": "code",
   "execution_count": null,
   "metadata": {},
   "outputs": [],
   "source": []
  },
  {
   "cell_type": "code",
   "execution_count": 65,
   "metadata": {},
   "outputs": [],
   "source": [
    "n, r = 2, 1\n",
    "K = np.array([[1, np.exp(-r)], [np.exp(-r), 1]])\n",
    "K = utils.from_numpy(K)\n",
    "\n",
    "# p = np.random.dirichlet(n*[1], 1)\n",
    "# p = utils.from_numpy(p, False)\n",
    "\n",
    "q = np.random.dirichlet(n*[5], 1)\n",
    "q = utils.from_numpy(q, False)\n",
    "\n",
    "H = renyi.sim_entropy(K, q, True)\n",
    "\n",
    "# def opt_q(p, K):\n",
    "#     theta = p[0, 0]\n",
    "#     print(theta)\n",
    "#     emr = K[0, 1]\n",
    "#     phi = theta - emr / (1 - emr)\n",
    "#     return np.array([[phi, 1-phi]])\n",
    "\n",
    "# pstar = sxp.one_simplex_project(torch.tensor(opt_q(q.data.numpy(), K.numpy())))\n",
    "# torch.tensor(opt_q(q.data.numpy(), K.numpy()))"
   ]
  },
  {
   "cell_type": "code",
   "execution_count": null,
   "metadata": {},
   "outputs": [],
   "source": []
  },
  {
   "cell_type": "code",
   "execution_count": 8,
   "metadata": {},
   "outputs": [
    {
     "name": "stdout",
     "output_type": "stream",
     "text": [
      "Target tensor([[0.7214, 0.2786]], dtype=torch.float64)\n",
      "0 - 0.69315\n",
      "100 - 0.59187\n",
      "200 - 0.59187\n",
      "300 - 0.59187\n",
      "400 - 0.59187\n",
      "500 - 0.59187\n",
      "600 - 0.59187\n",
      "700 - 0.59187\n",
      "800 - 0.59187\n",
      "900 - 0.59187\n"
     ]
    },
    {
     "data": {
      "text/plain": [
       "tensor([[9.9998e-01, 1.7860e-05]], dtype=torch.float64,\n",
       "       grad_fn=<SoftmaxBackward>)"
      ]
     },
     "execution_count": 8,
     "metadata": {},
     "output_type": "execute_result"
    }
   ],
   "source": [
    "print('Target', q)\n",
    "\n",
    "p_free = torch.nn.Parameter(0*q.clone())\n",
    "temp = torch.nn.Parameter(torch.tensor(1.).double())\n",
    "\n",
    "p_optimizer = torch.optim.Adam([p_free, temp], lr=0.1, amsgrad=True)\n",
    "optims = [p_optimizer]\n",
    "\n",
    "proj_op = lambda p_free, temp: torch.softmax(p_free / torch.exp(temp), dim=1)\n",
    "#proj_op = lambda p_free, temp: sxp.simplex_project(p_free)\n",
    "\n",
    "orig_p = proj_op(p_free, temp)\n",
    "\n",
    "for _ in range(1000):\n",
    "    \n",
    "    [_.zero_grad() for _ in optims]\n",
    "    \n",
    "    p = proj_op(p_free, temp)\n",
    "    loss = renyi.sim_cross_entropy(K, q, p, 1, True)\n",
    "    \n",
    "    if _ % 100 == 0:\n",
    "        print(\"%d - %.5f\" % (_, loss.item()))\n",
    "\n",
    "    loss.backward()\n",
    "    [_.step() for _ in optims]\n",
    "\n",
    "final_p = proj_op(p_free, temp)\n",
    "final_p"
   ]
  },
  {
   "cell_type": "code",
   "execution_count": null,
   "metadata": {},
   "outputs": [],
   "source": []
  },
  {
   "cell_type": "code",
   "execution_count": 9,
   "metadata": {},
   "outputs": [
    {
     "data": {
      "text/plain": [
       "(tensor([[0.3094]], dtype=torch.float64),\n",
       " tensor([[0.2786]], dtype=torch.float64, grad_fn=<TransposeBackward0>))"
      ]
     },
     "execution_count": 9,
     "metadata": {},
     "output_type": "execute_result"
    }
   ],
   "source": [
    "H, renyi.sim_cross_entropy(K, q, final_p) "
   ]
  },
  {
   "cell_type": "markdown",
   "metadata": {},
   "source": [
    "### MaxEnt is alpha-independent"
   ]
  },
  {
   "cell_type": "code",
   "execution_count": 10,
   "metadata": {},
   "outputs": [
    {
     "data": {
      "image/png": "[encoded data removed]",
      "text/plain": [
       "<Figure size 432x288 with 1 Axes>"
      ]
     },
     "metadata": {
      "needs_background": "light"
     },
     "output_type": "display_data"
    },
    {
     "data": {
      "text/plain": [
       "<matplotlib.colorbar.Colorbar at 0x2a053f25be0>"
      ]
     },
     "execution_count": 10,
     "metadata": {},
     "output_type": "execute_result"
    },
    {
     "data": {
      "image/png": "[encoded data removed]",
      "text/plain": [
       "<Figure size 432x288 with 2 Axes>"
      ]
     },
     "metadata": {
      "needs_background": "light"
     },
     "output_type": "display_data"
    }
   ],
   "source": [
    "d, n = 2, 50\n",
    "Y = torch.tensor(np.cos(1*np.random.multivariate_normal(np.zeros(d), np.eye(d), n)))\n",
    "#Y = Y / torch.norm(Y, dim=1, keepdim=True)\n",
    "plt.scatter(Y[:, 0], Y[:, 1], s=n*[1000/n])\n",
    "plt.show()\n",
    "\n",
    "kernel = lambda x, y: renyi.generic_kernel(x, y, lambda W: renyi.rbf_kernel(W, [1]))\n",
    "#kernel = lambda x, y: renyi.generic_kernel(x, y, lambda W: renyi.poly_kernel(W, degree=3, p=3))\n",
    "K = kernel(Y, Y)[:n, :n]\n",
    "plt.imshow(K)\n",
    "plt.colorbar()"
   ]
  },
  {
   "cell_type": "code",
   "execution_count": 11,
   "metadata": {},
   "outputs": [],
   "source": [
    "#p_free = torch.nn.Parameter(torch.tensor(1+0.*np.random.rand(1, n)))\n",
    "# For projected gradient initialize with a sparse solution on simplex\n",
    "p_free = torch.nn.Parameter(torch.tensor(0*np.random.dirichlet(n*[1], 1)))\n",
    "temp = torch.nn.Parameter(torch.tensor(1.).double())\n",
    "\n",
    "p_optimizer = torch.optim.Adam([p_free, temp], lr=0.01, amsgrad=True)\n",
    "optims = [p_optimizer]\n",
    "\n",
    "proj_op = lambda p_free, temp: torch.softmax(p_free / torch.exp(temp), dim=1)\n",
    "proj_op = lambda p_free, temp: sxp.simplex_project(p_free)"
   ]
  },
  {
   "cell_type": "code",
   "execution_count": 12,
   "metadata": {},
   "outputs": [
    {
     "name": "stdout",
     "output_type": "stream",
     "text": [
      "0 - 0.70568\n",
      "100 - 1.07466\n",
      "200 - 1.07571\n",
      "300 - 1.07572\n",
      "400 - 1.07572\n",
      "500 - 1.07572\n",
      "600 - 1.07572\n",
      "700 - 1.07572\n",
      "800 - 1.07572\n",
      "900 - 1.07572\n"
     ]
    },
    {
     "data": {
      "image/png": "[encoded data removed]",
      "text/plain": [
       "<Figure size 378.72x72 with 1 Axes>"
      ]
     },
     "metadata": {
      "needs_background": "light"
     },
     "output_type": "display_data"
    },
    {
     "data": {
      "image/png": "[encoded data removed]",
      "text/plain": [
       "<Figure size 360x288 with 1 Axes>"
      ]
     },
     "metadata": {
      "needs_background": "light"
     },
     "output_type": "display_data"
    }
   ],
   "source": [
    "orig_p = proj_op(p_free, temp).data.numpy().squeeze()\n",
    "\n",
    "for _ in range(1000):\n",
    "    \n",
    "    [_.zero_grad() for _ in optims]\n",
    "    \n",
    "    p = proj_op(p_free, temp)\n",
    "    loss = - renyi.sim_entropy(K, p, 1)\n",
    "    \n",
    "    if _ % 100 == 0:\n",
    "        print(\"%d - %.5f\" % (_, -loss.item()))\n",
    "\n",
    "    loss.backward()\n",
    "    [_.step() for _ in optims]\n",
    "\n",
    "final_p = proj_op(p_free, temp).data.numpy().squeeze()\n",
    "\n",
    "plt.figure(figsize=(5.26, 1))\n",
    "plt.bar(range(n), orig_p, label='Initial')\n",
    "plt.bar(range(n), final_p, alpha=0.8, label='Final')\n",
    "plt.legend(loc='upper center', bbox_to_anchor=(0.5, -0.3), fancybox=True, shadow=True, ncol=2)\n",
    "plt.show()\n",
    "\n",
    "plt.figure(figsize=(5, 4))\n",
    "plt.scatter(Y[:, 0], Y[:, 1], s=1000*orig_p, label='Initial')\n",
    "plt.scatter(Y[:, 0], Y[:, 1], s=1000*final_p, alpha=0.7, label='Final')\n",
    "plt.legend(loc='upper center', bbox_to_anchor=(0.5, -0.08), fancybox=True, shadow=True, ncol=2)\n",
    "plt.show()"
   ]
  },
  {
   "cell_type": "code",
   "execution_count": null,
   "metadata": {},
   "outputs": [],
   "source": []
  },
  {
   "cell_type": "code",
   "execution_count": null,
   "metadata": {},
   "outputs": [],
   "source": []
  },
  {
   "cell_type": "markdown",
   "metadata": {},
   "source": [
    "## Performance test for entropy and divergence implementation\n",
    "\n",
    "Can compute $H^K_{\\alpha}(p)$ and $D^K_{\\alpha}(p, q)$ :\n",
    "  * $n= 1000$, $M = 100$ - H 4 ms D 13 ms\n",
    "  * $n= 2000$, $M = 100$ - H 13 ms D 40 ms\n",
    "  * $n= 10000$, $M = 100$ - H 263 ms D 865 ms\n",
    "  * $n= 15000$, $M = 100$ - H 729 ms D 1760 ms\n",
    "  \n",
    "$M$ is batch size. No significative variation in time when changing the order $\\alpha$."
   ]
  },
  {
   "cell_type": "code",
   "execution_count": 298,
   "metadata": {},
   "outputs": [
    {
     "name": "stdout",
     "output_type": "stream",
     "text": [
      "Wall time: 0 ns\n",
      "Wall time: 1e+03 µs\n",
      "Wall time: 1.88 ms\n",
      "Wall time: 1.99 ms\n"
     ]
    },
    {
     "data": {
      "text/plain": [
       "<matplotlib.legend.Legend at 0x2a0605e5940>"
      ]
     },
     "execution_count": 298,
     "metadata": {},
     "output_type": "execute_result"
    },
    {
     "data": {
      "image/png": "[encoded data removed]",
      "text/plain": [
       "<Figure size 432x288 with 1 Axes>"
      ]
     },
     "metadata": {
      "needs_background": "light"
     },
     "output_type": "display_data"
    }
   ],
   "source": [
    "n, M = 100, 1\n",
    "\n",
    "%time K = 0.01*np.random.rand(n, n)\n",
    "%time K = (K * K.T) + 0.7 * np.eye(n)\n",
    "K = utils.from_numpy(K)\n",
    "\n",
    "#print('Min Eigenvalue of K: ', torch.eig(K)[0].min(dim=0)[0][0].item())\n",
    "\n",
    "p = np.random.dirichlet(n*[1], M)\n",
    "p = utils.from_numpy(p, True)\n",
    "\n",
    "q = np.random.dirichlet(n*[1], M)\n",
    "q = utils.from_numpy(q, True)\n",
    "\n",
    "%time H = renyi.sim_entropy(K, p)\n",
    "%time D = renyi.sim_divergence(K, p, q)\n",
    "\n",
    "for alpha in [0.001, 0.3, 0.5, 1, 2, 5]:\n",
    "    W = renyi.mink_sim_divergence(K, p, q, alpha)\n",
    "    #W = renyi.sim_entropy(K, p, alpha)\n",
    "    plt.plot(W.data.numpy(), label=str(alpha));\n",
    "plt.legend(ncol=6, loc='best')"
   ]
  },
  {
   "cell_type": "code",
   "execution_count": 299,
   "metadata": {},
   "outputs": [],
   "source": [
    "#p_free = torch.nn.Parameter(torch.tensor(1+0.*np.random.rand(1, n)))\n",
    "# For projected gradient initialize with a sparse solution on simplex\n",
    "p_free = torch.nn.Parameter(torch.tensor(0*np.random.dirichlet(n*[1], 1)))\n",
    "temp = torch.nn.Parameter(torch.tensor(1.).double())\n",
    "\n",
    "p_optimizer = torch.optim.Adam([p_free, temp], lr=0.05, amsgrad=True)\n",
    "optims = [p_optimizer]\n",
    "\n",
    "proj_op = lambda p_free, temp: torch.softmax(p_free / torch.exp(temp), dim=1)\n",
    "#proj_op = lambda p_free, temp: sxp.simplex_project(p_free)"
   ]
  },
  {
   "cell_type": "code",
   "execution_count": 300,
   "metadata": {},
   "outputs": [
    {
     "name": "stdout",
     "output_type": "stream",
     "text": [
      "0: 8.403e-03 - TV: 3.876e-02\n",
      "100: 1.748e-04 - TV: 1.042e-03\n",
      "200: 1.254e-04 - TV: 8.388e-04\n",
      "300: 6.959e-05 - TV: 5.644e-04\n",
      "400: 1.057e-04 - TV: 8.392e-04\n",
      "500: 6.528e-05 - TV: 3.885e-04\n",
      "600: 6.182e-05 - TV: 4.390e-04\n",
      "700: 8.410e-05 - TV: 4.180e-04\n",
      "800: 9.692e-05 - TV: 8.660e-04\n",
      "900: 5.346e-05 - TV: 3.670e-04\n"
     ]
    }
   ],
   "source": [
    "orig_p = proj_op(p_free, temp)\n",
    "\n",
    "for _ in range(1000):\n",
    "    \n",
    "    [_.zero_grad() for _ in optims]\n",
    "    \n",
    "    p = proj_op(p_free, temp)\n",
    "    loss = renyi.mink_sim_divergence(K, q, p, alpha=1, use_inv=False)\n",
    "    \n",
    "    if _ % 100 == 0:\n",
    "        print(\"%d: %.3e - TV: %.3e\" % (_, loss.item(), torch.abs(p - q).max().item()))\n",
    "\n",
    "    loss.backward()\n",
    "    [_.step() for _ in optims]\n",
    "\n",
    "final_p = proj_op(p_free, temp).data.numpy().squeeze()"
   ]
  },
  {
   "cell_type": "code",
   "execution_count": 301,
   "metadata": {},
   "outputs": [
    {
     "data": {
      "text/plain": [
       "<matplotlib.legend.Legend at 0x2a05de5f048>"
      ]
     },
     "execution_count": 301,
     "metadata": {},
     "output_type": "execute_result"
    },
    {
     "data": {
      "image/png": "[encoded data removed]",
      "text/plain": [
       "<Figure size 432x288 with 1 Axes>"
      ]
     },
     "metadata": {
      "needs_background": "light"
     },
     "output_type": "display_data"
    }
   ],
   "source": [
    "plt.bar(range(n), (K @ p.transpose(0, 1) - K @ q.transpose(0, 1)).data.numpy().squeeze(), label='Final SP Diff')\n",
    "plt.bar(range(n), (K @ orig_p.transpose(0, 1) - K @ q.transpose(0, 1)).data.numpy().squeeze(), alpha=0.5, label='Orig SP Dif')\n",
    "plt.legend()"
   ]
  },
  {
   "cell_type": "code",
   "execution_count": 302,
   "metadata": {},
   "outputs": [
    {
     "data": {
      "image/png": "[encoded data removed]",
      "text/plain": [
       "<Figure size 720x216 with 1 Axes>"
      ]
     },
     "metadata": {
      "needs_background": "light"
     },
     "output_type": "display_data"
    }
   ],
   "source": [
    "plt.figure(figsize=(10, 3))\n",
    "plt.bar(range(n), q.data.numpy().squeeze(), label='Target')\n",
    "plt.bar(range(n), final_p, alpha=0.5, label='Final')\n",
    "plt.bar(range(n), orig_p.data.numpy().squeeze(), alpha=0.2, label='Initial')\n",
    "plt.legend(loc='upper center', bbox_to_anchor=(0.5, -0.1), fancybox=True, shadow=True, ncol=3)\n",
    "plt.show()"
   ]
  },
  {
   "cell_type": "code",
   "execution_count": null,
   "metadata": {},
   "outputs": [],
   "source": []
  },
  {
   "cell_type": "markdown",
   "metadata": {},
   "source": [
    "## Similarity-sensitive divergence between two empirical distributions on a metric space\n",
    "\n",
    "Let $(\\X, \\k)$ be a space endowed with a positive definite kernel. Consider two probability measures $\\mu$ and $\\nu$ defined on $\\X$. Note that if an arbitrary $x \\in \\X$ has measure zero under both $\\mu$ and $\\nu$, then such $x$ is irrelevant in the computation of $\\D(p || q)$.\n",
    "\n",
    "Suppose $\\mu$ and $\\nu$ are empirical distributions of the form $\\mu = \\sum_{i = 1}^n a_i \\delta_{x_i}$ and $\\nu = \\sum_{j = 1}^m b_i \\delta_{y_i}$. Define the sequences $X = [x_1, \\ldots, x_n ]$ and $Y = [y_1, \\ldots, y_m]$. According to the remark above, we can restrict our attention to the sequence $Z = [X, Y] \\triangleq [x_1, \\ldots, x_n, y_1, \\ldots, y_m ]$. The Gram matrix of $\\k$ on $Z$ is a block matrix of the form: \n",
    "\n",
    "$$K \\triangleq \\begin{pmatrix} K_{xx} & K_{xy} \\\\  K_{yx} & K_{yy}  \\end{pmatrix},$$\n",
    "\n",
    "where $K_{xy}$ and $K_{yx}$ are possibly rectangular (and given $\\k$ is p.d., $K_{xy} = K^T_{yx}$).\n",
    "\n",
    "Define $\\tilde{\\mu}$ to be the natural extension of the vector representation of $\\mu$ from $X$ to $Z$, i.e., $\\tilde{\\mu} = [\\mu, 0]$. Analogously,  $\\tilde{\\nu} = [0, \\nu]$. Let $\\rho = \\frac{\\tilde{\\mu} + \\tilde{\\nu}}{2}$.\n",
    "\n",
    "$$\\begin{eqnarray*} \n",
    "\\D(\\tilde{\\mu}, \\tilde{\\nu}) &=& \\frac{1}{\\alpha - 1} \\left[ \\log \\sum_{z \\in Z} \\tilde{\\mu}_z \\left( \\frac{(K\\tilde{\\mu})_z}{(K\\rho)_z}\\right)^{\\alpha-1} + \\log \\sum_{z \\in Z} \\tilde{\\nu}_z \\left( \\frac{(K\\tilde{\\nu})_z}{(K\\rho)_z}\\right)^{\\alpha-1} \\right] \\\\ \n",
    "&=& \\frac{1}{\\alpha - 1} \\left[ \\log \\sum_{x \\in X} \\mu_x \\left( \\frac{(K_{xx}\\mu)_x}{\\frac{1}{2}\\left(K_{xx}\\mu + K_{xy}\\nu\\right)_x}\\right)^{\\alpha-1} + \\log \\sum_{y \\in Y} \\nu_y \\left( \\frac{(K_{yy}\\nu)_y}{\\frac{1}{2}\\left(K_{yy}\\nu + K_{yx}\\mu\\right)_y}\\right)^{\\alpha-1} \\right] \\\\\n",
    "&=& \\frac{1}{\\alpha - 1} \\left[ \\log \\left[ \\mu^T \\left( \\frac{2 K_{xx}\\mu}{K_{xx}\\mu + K_{xy}\\nu}\\right)^{\\alpha-1}\\right] + \\log \\left[ \\nu^T \\left( \\frac{2 K_{yy}\\nu}{K_{yy}\\nu + K_{yx}\\mu}\\right)^{\\alpha-1} \\right] \\right] \n",
    "\\end{eqnarray*}$$\n",
    "\n",
    "The computation of $K$ requires $\\mathcal{O}(|\\k|(m+n)^2)$ operations, where $|\\k|$ represents the cost of a kernel evaluation. The computation of the divergence (given $K$) is of in order of  $\\mathcal{O}((n+m)^2)$ operations.\n",
    "\n",
    "*Note:* We can do projected gradient descent on this objective using the sxp file. This gives sparse solutions on $\\mu$, while the logit-softmax (with temperature) parametrization gives dense solutions. When $m >> n$, softmax is advisable, while projected gradient is to be preferred when $n >> m$\n"
   ]
  },
  {
   "cell_type": "code",
   "execution_count": 62,
   "metadata": {},
   "outputs": [],
   "source": [
    "alpha = 2\n",
    "\n",
    "m, d = 500, 2\n",
    "\n",
    "nu = np.random.dirichlet(m*[m], 1)\n",
    "nu = -np.sort(-nu, axis=1)\n",
    "nu = torch.tensor(nu)\n",
    "Y = torch.tensor(np.random.multivariate_normal(np.zeros(d), np.eye(d), m))\n",
    "\n",
    "n = 50\n",
    "\n",
    "#mu_free = torch.nn.Parameter(torch.tensor(1+0.*np.random.rand(1, n)))\n",
    "# For projected gradient initialize with a sparse solution on simplex\n",
    "mu_free = torch.nn.Parameter(torch.tensor(np.random.dirichlet(n*[1], 1)))\n",
    "temp = torch.nn.Parameter(torch.tensor(1.).double())\n",
    "\n",
    "X = torch.nn.Parameter(torch.tensor(np.random.multivariate_normal(np.zeros(d), 1.1*np.eye(d), n)))\n",
    "\n",
    "\n",
    "mu_optimizer = torch.optim.Adam([mu_free, temp], lr=0.005, amsgrad=True)\n",
    "x_optimizer = torch.optim.Adam([X], lr=0.2, amsgrad=True)\n",
    "optims = [mu_optimizer, x_optimizer]\n",
    "\n",
    "kernel = lambda x, y: renyi.generic_kernel(x, y, renyi.rbf_kernel)"
   ]
  },
  {
   "cell_type": "code",
   "execution_count": 63,
   "metadata": {},
   "outputs": [
    {
     "name": "stdout",
     "output_type": "stream",
     "text": [
      "0 - 0.6133\n",
      "75 - 0.0010\n"
     ]
    },
    {
     "ename": "KeyboardInterrupt",
     "evalue": "",
     "output_type": "error",
     "traceback": [
      "\u001b[1;31m---------------------------------------------------------------------------\u001b[0m",
      "\u001b[1;31mKeyboardInterrupt\u001b[0m                         Traceback (most recent call last)",
      "\u001b[1;32m<ipython-input-63-b7785b10391a>\u001b[0m in \u001b[0;36m<module>\u001b[1;34m\u001b[0m\n\u001b[0;32m     26\u001b[0m \u001b[1;31m#         plt.show()\u001b[0m\u001b[1;33m\u001b[0m\u001b[1;33m\u001b[0m\u001b[1;33m\u001b[0m\u001b[0m\n\u001b[0;32m     27\u001b[0m \u001b[1;33m\u001b[0m\u001b[0m\n\u001b[1;32m---> 28\u001b[1;33m     \u001b[0mloss\u001b[0m\u001b[1;33m.\u001b[0m\u001b[0mbackward\u001b[0m\u001b[1;33m(\u001b[0m\u001b[1;33m)\u001b[0m\u001b[1;33m\u001b[0m\u001b[1;33m\u001b[0m\u001b[0m\n\u001b[0m\u001b[0;32m     29\u001b[0m     \u001b[1;33m[\u001b[0m\u001b[0m_\u001b[0m\u001b[1;33m.\u001b[0m\u001b[0mstep\u001b[0m\u001b[1;33m(\u001b[0m\u001b[1;33m)\u001b[0m \u001b[1;32mfor\u001b[0m \u001b[0m_\u001b[0m \u001b[1;32min\u001b[0m \u001b[0moptims\u001b[0m\u001b[1;33m]\u001b[0m\u001b[1;33m\u001b[0m\u001b[1;33m\u001b[0m\u001b[0m\n\u001b[0;32m     30\u001b[0m \u001b[1;33m\u001b[0m\u001b[0m\n",
      "\u001b[1;32m~\\Anaconda3\\lib\\site-packages\\torch\\tensor.py\u001b[0m in \u001b[0;36mbackward\u001b[1;34m(self, gradient, retain_graph, create_graph)\u001b[0m\n\u001b[0;32m    100\u001b[0m                 \u001b[0mproducts\u001b[0m\u001b[1;33m.\u001b[0m \u001b[0mDefaults\u001b[0m \u001b[0mto\u001b[0m\u001b[0;31m \u001b[0m\u001b[0;31m`\u001b[0m\u001b[0;31m`\u001b[0m\u001b[1;32mFalse\u001b[0m\u001b[0;31m`\u001b[0m\u001b[0;31m`\u001b[0m\u001b[1;33m.\u001b[0m\u001b[1;33m\u001b[0m\u001b[1;33m\u001b[0m\u001b[0m\n\u001b[0;32m    101\u001b[0m         \"\"\"\n\u001b[1;32m--> 102\u001b[1;33m         \u001b[0mtorch\u001b[0m\u001b[1;33m.\u001b[0m\u001b[0mautograd\u001b[0m\u001b[1;33m.\u001b[0m\u001b[0mbackward\u001b[0m\u001b[1;33m(\u001b[0m\u001b[0mself\u001b[0m\u001b[1;33m,\u001b[0m \u001b[0mgradient\u001b[0m\u001b[1;33m,\u001b[0m \u001b[0mretain_graph\u001b[0m\u001b[1;33m,\u001b[0m \u001b[0mcreate_graph\u001b[0m\u001b[1;33m)\u001b[0m\u001b[1;33m\u001b[0m\u001b[1;33m\u001b[0m\u001b[0m\n\u001b[0m\u001b[0;32m    103\u001b[0m \u001b[1;33m\u001b[0m\u001b[0m\n\u001b[0;32m    104\u001b[0m     \u001b[1;32mdef\u001b[0m \u001b[0mregister_hook\u001b[0m\u001b[1;33m(\u001b[0m\u001b[0mself\u001b[0m\u001b[1;33m,\u001b[0m \u001b[0mhook\u001b[0m\u001b[1;33m)\u001b[0m\u001b[1;33m:\u001b[0m\u001b[1;33m\u001b[0m\u001b[1;33m\u001b[0m\u001b[0m\n",
      "\u001b[1;32m~\\Anaconda3\\lib\\site-packages\\torch\\autograd\\__init__.py\u001b[0m in \u001b[0;36mbackward\u001b[1;34m(tensors, grad_tensors, retain_graph, create_graph, grad_variables)\u001b[0m\n\u001b[0;32m     88\u001b[0m     Variable._execution_engine.run_backward(\n\u001b[0;32m     89\u001b[0m         \u001b[0mtensors\u001b[0m\u001b[1;33m,\u001b[0m \u001b[0mgrad_tensors\u001b[0m\u001b[1;33m,\u001b[0m \u001b[0mretain_graph\u001b[0m\u001b[1;33m,\u001b[0m \u001b[0mcreate_graph\u001b[0m\u001b[1;33m,\u001b[0m\u001b[1;33m\u001b[0m\u001b[1;33m\u001b[0m\u001b[0m\n\u001b[1;32m---> 90\u001b[1;33m         allow_unreachable=True)  # allow_unreachable flag\n\u001b[0m\u001b[0;32m     91\u001b[0m \u001b[1;33m\u001b[0m\u001b[0m\n\u001b[0;32m     92\u001b[0m \u001b[1;33m\u001b[0m\u001b[0m\n",
      "\u001b[1;31mKeyboardInterrupt\u001b[0m: "
     ]
    }
   ],
   "source": [
    "for _ in range(250):\n",
    "    \n",
    "    [_.zero_grad() for _ in optims]\n",
    "    \n",
    "    #mu = torch.softmax(mu_free / torch.exp(temp), dim=1)\n",
    "    mu = sxp.simplex_project(mu_free)\n",
    "    loss, K = renyi.mixture_divergence(mu, X, nu, Y, alpha, kernel)\n",
    "    \n",
    "    if _ % 75 == 0:\n",
    "        print(\"%d - %.4f\" % (_, loss.item()))\n",
    "        \n",
    "#     if _ % 75 == 0:    \n",
    "#         W = torch.cat((X, Y))\n",
    "#         D = torch.norm(W[..., None, :] - W[..., None, :, :], p=2, dim=-1) \n",
    "    \n",
    "#         fig, ax1 = plt.subplots(figsize=(4, 2))\n",
    "#         ax1.plot(D[-m:, :n].min(dim=1)[0].data.numpy(), 'b.')\n",
    "#         ax1.twinx().plot(nu[0, :].data.numpy(), 'r.')\n",
    "#         fig.tight_layout()\n",
    "#         plt.show()\n",
    "        \n",
    "#         plt.figure(figsize=(4, 4))\n",
    "#         plt.scatter(Y.data.numpy()[:, 0], Y.data.numpy()[:, 1], s=list(1000*nu.data.squeeze().numpy()), label='Target', marker='h', c='r', alpha=0.7)\n",
    "#         plt.scatter(X.data.numpy()[:, 0], X.data.numpy()[:, 1], s=list(1000*mu.data.squeeze().numpy()), label='Approx.', marker='h', facecolors='none', edgecolors='b', alpha=0.7)\n",
    "#         plt.legend(loc='best');\n",
    "#         plt.show()\n",
    "\n",
    "    loss.backward()\n",
    "    [_.step() for _ in optims]\n",
    "    \n",
    "mu = sxp.simplex_project(mu_free) \n",
    "#mu = torch.softmax(mu_free / torch.exp(temp), dim=1)\n",
    "    \n",
    "plt.figure(figsize=(4, 4))\n",
    "plt.scatter(Y.data.numpy()[:, 0], Y.data.numpy()[:, 1], s=list(1000*nu.data.squeeze().numpy()), label='Target', marker='h', c='r', alpha=0.7)\n",
    "plt.scatter(X.data.numpy()[:, 0], X.data.numpy()[:, 1], s=list(1000*mu.data.squeeze().numpy()), label='Approx.', marker='h', facecolors='none', edgecolors='b', alpha=0.7)\n",
    "plt.legend(loc='best')\n",
    "plt.show();\n",
    "\n",
    "print('Sparsity of solution: %.1f%% (%d/%d)' % (100 * (1 - torch.sum(mu > 0).item() / n), torch.sum(mu > 0).item(), n))"
   ]
  },
  {
   "cell_type": "markdown",
   "metadata": {},
   "source": [
    "### Convergence rate of empirical estimator"
   ]
  },
  {
   "cell_type": "code",
   "execution_count": 414,
   "metadata": {},
   "outputs": [
    {
     "data": {
      "text/plain": [
       "tensor([0.1398], dtype=torch.float64)"
      ]
     },
     "execution_count": 414,
     "metadata": {},
     "output_type": "execute_result"
    }
   ],
   "source": [
    "\n",
    "N, d = 10, 2\n",
    "\n",
    "p = torch.tensor(np.random.dirichlet(N*[N], 1))\n",
    "Y = torch.rand(N, d).double()\n",
    "\n",
    "q = torch.tensor(np.random.dirichlet(N*[N], 1))\n",
    "X = torch.rand(N, d).double()\n",
    "\n"
   ]
  },
  {
   "cell_type": "code",
   "execution_count": null,
   "metadata": {},
   "outputs": [],
   "source": []
  },
  {
   "cell_type": "code",
   "execution_count": null,
   "metadata": {},
   "outputs": [],
   "source": []
  },
  {
   "cell_type": "code",
   "execution_count": 428,
   "metadata": {},
   "outputs": [
    {
     "name": "stdout",
     "output_type": "stream",
     "text": [
      "1 2\n",
      "10 2\n",
      "100 2\n",
      "250 2\n",
      "500 2\n",
      "1 5\n",
      "10 5\n",
      "100 5\n",
      "250 5\n",
      "500 5\n",
      "1 10\n",
      "10 10\n",
      "100 10\n",
      "250 10\n",
      "500 10\n"
     ]
    },
    {
     "data": {
      "text/plain": [
       "<matplotlib.legend.Legend at 0x2a06415c940>"
      ]
     },
     "execution_count": 428,
     "metadata": {},
     "output_type": "execute_result"
    },
    {
     "data": {
      "image/png": "[encoded data removed]",
      "text/plain": [
       "<Figure size 432x288 with 1 Axes>"
      ]
     },
     "metadata": {
      "needs_background": "light"
     },
     "output_type": "display_data"
    }
   ],
   "source": [
    "alpha = 2\n",
    "\n",
    "kernel = lambda x, y: renyi.generic_kernel(x, y, lambda u, v: renyi.rbf_kernel(u, v, p=2), full=False)\n",
    "\n",
    "Ns = [1, 10, 100, 250, 500]\n",
    "\n",
    "for d in [2, 5, 10]:\n",
    "    res = []\n",
    "    for N in Ns:\n",
    "        print(N, d)\n",
    "        n_res = []\n",
    "\n",
    "        for trial in range(1000):\n",
    "            p = torch.tensor(np.random.dirichlet(N*[N], 1))\n",
    "            Y = torch.rand(N, d).double()\n",
    "\n",
    "            q = torch.tensor(np.random.dirichlet(N*[N], 1))\n",
    "            X = torch.rand(N, d).double()\n",
    "\n",
    "            \n",
    "            loss = mink_mixture_divergence(p, Y, q, X, kernel, alpha, use_inv=False)\n",
    "            \n",
    "            n_res.append(loss.item())\n",
    "        res.append(n_res)\n",
    "\n",
    "    avgs = [np.mean(_) for _ in res]\n",
    "    stds = [np.std(_) for _ in res]\n",
    "    avgup = [avgs[i] + stds[i] for i in range(len(avgs))]\n",
    "    avgdw = [avgs[i] - stds[i] for i in range(len(avgs))]\n",
    "\n",
    "    plt.plot(np.log(Ns), np.log10(avgs), label='R'+str(d))\n",
    "    plt.plot(np.log(Ns), np.log10(avgup), c='k', alpha=0.2)\n",
    "    plt.plot(np.log(Ns), np.log10(avgdw), c='k', alpha=0.2)\n",
    "    #plt.plot(np.log(Ns), np.log10(stds), label='S'+str(d))\n",
    "\n",
    "plt.xlabel('log10(N)')\n",
    "plt.ylabel('log10(avg)')\n",
    "plt.legend()"
   ]
  },
  {
   "cell_type": "code",
   "execution_count": 214,
   "metadata": {},
   "outputs": [],
   "source": [
    "avgs = [np.mean(_) for _ in res]"
   ]
  },
  {
   "cell_type": "code",
   "execution_count": 212,
   "metadata": {},
   "outputs": [
    {
     "data": {
      "text/plain": [
       "([0.9857256569052996, 0.2976379661834612, 0.06802768596127225],\n",
       " [0.21088952950819773, 0.0581927112818554, 0.013146011912508311])"
      ]
     },
     "execution_count": 212,
     "metadata": {},
     "output_type": "execute_result"
    }
   ],
   "source": [
    "avgs, stds"
   ]
  },
  {
   "cell_type": "code",
   "execution_count": 185,
   "metadata": {},
   "outputs": [
    {
     "data": {
      "text/plain": [
       "[<matplotlib.lines.Line2D at 0x2a18e414c18>]"
      ]
     },
     "execution_count": 185,
     "metadata": {},
     "output_type": "execute_result"
    },
    {
     "data": {
      "image/png": "[encoded data removed]",
      "text/plain": [
       "<Figure size 432x288 with 1 Axes>"
      ]
     },
     "metadata": {
      "needs_background": "light"
     },
     "output_type": "display_data"
    }
   ],
   "source": [
    "plt.plot(np.log(Ns), np.log10(avgs))"
   ]
  },
  {
   "cell_type": "markdown",
   "metadata": {},
   "source": [
    "### Centroid of Random Ellipses"
   ]
  },
  {
   "cell_type": "code",
   "execution_count": 6,
   "metadata": {},
   "outputs": [],
   "source": [
    "from skimage.transform import resize"
   ]
  },
  {
   "cell_type": "code",
   "execution_count": 629,
   "metadata": {},
   "outputs": [],
   "source": [
    "N = 500\n",
    "A = np.array([(i/(N-1), 1-j/(N-1)) for i in range(N) for j in range(N)])\n",
    "\n",
    "n = 100\n",
    "E = []\n",
    "for _ in range(100):\n",
    "    # L1 and L2 act as radii in their correspondig directions\n",
    "    # Theta tells angle in clockwise orientation\n",
    "    c = np.array([0.1 + 0.8*np.random.rand(), 0.1 + 0.8*np.random.rand()])\n",
    "    w0, w1 = np.min([c[0], 1-c[0]]), np.min([c[1], 1-c[1]]) \n",
    "    theta, L1, L2 = 2 * np.pi * np.random.rand(), (0.1 + 0.5*w0*np.random.rand()), (0.1 + 0.5*w1*np.random.rand())\n",
    "    R = np.array([[np.cos(theta), -np.sin(theta)], [np.sin(theta), np.cos(theta)]])\n",
    "    Linv = np.array([[1/L1, 0], [0, 1/L2]])\n",
    "   \n",
    "\n",
    "    v = (A - c) @ R.T @ Linv\n",
    "    v1 = 1.*(np.abs(np.sum(v**2, axis=1) - 1) < 5e-2)\n",
    "\n",
    "    theta, L1, L2 = 2 * np.pi * np.random.rand(), L1 * (0.4 + 0.1*np.random.rand()), L2 * (0.4 + 0.1*np.random.rand())\n",
    "    R = np.array([[np.cos(theta), -np.sin(theta)], [np.sin(theta), np.cos(theta)]])\n",
    "    Linv = np.array([[1/L1, 0], [0, 1/L2]])\n",
    "    c = np.array([c[0] + 0.3*L1 * np.random.randn(), c[1]+ 0.3*L2 * np.random.randn()])\n",
    "\n",
    "    v = (A - c) @ R.T @ Linv\n",
    "    v2 = 1.*(np.abs(np.sum(v**2, axis=1) - 1) < 7e-2)\n",
    "    v = v1 + v2\n",
    "    v /= np.sum(v)\n",
    "    v = v.reshape(N, N).T\n",
    "\n",
    "#     plt.figure(figsize=(5, 5))\n",
    "#     plt.imshow(v)\n",
    "\n",
    "    resize_v = resize(v, (n, n), mode='constant', anti_aliasing=True)#, anti_aliasing_sigma=1)\n",
    "    resize_v /= np.sum(resize_v)\n",
    "#     plt.figure(figsize=(5,5))\n",
    "#     plt.imshow(resize_v, cmap='binary');\n",
    "#     plt.show()\n",
    "\n",
    "    E.append(resize_v[None, ...])\n",
    "\n",
    "E = np.concatenate(E, axis=0)\n",
    "E = torch.tensor(E)"
   ]
  },
  {
   "cell_type": "code",
   "execution_count": 630,
   "metadata": {},
   "outputs": [
    {
     "data": {
      "text/plain": [
       "<matplotlib.image.AxesImage at 0x16755a6a1d0>"
      ]
     },
     "execution_count": 630,
     "metadata": {},
     "output_type": "execute_result"
    },
    {
     "data": {
      "image/png": "[encoded data removed]",
      "text/plain": [
       "<Figure size 432x288 with 1 Axes>"
      ]
     },
     "metadata": {
      "needs_background": "light"
     },
     "output_type": "display_data"
    }
   ],
   "source": [
    "plt.imshow(E[15, ...])"
   ]
  },
  {
   "cell_type": "markdown",
   "metadata": {},
   "source": [
    "### Were we doing the same kerneling?"
   ]
  },
  {
   "cell_type": "code",
   "execution_count": null,
   "metadata": {},
   "outputs": [],
   "source": [
    "rbf_kernel(W, sigmas=[1.], p=2, d=2)"
   ]
  },
  {
   "cell_type": "code",
   "execution_count": null,
   "metadata": {},
   "outputs": [],
   "source": []
  },
  {
   "cell_type": "code",
   "execution_count": 8,
   "metadata": {},
   "outputs": [],
   "source": [
    "Z = torch.tensor(np.array(list(itertools.product(np.linspace(0, 1, 28), np.linspace(0, 1, 28))))).double()"
   ]
  },
  {
   "cell_type": "code",
   "execution_count": 32,
   "metadata": {},
   "outputs": [],
   "source": [
    "K = renyi.rbf_kernel(torch.cat((Z, Z)),  [1], 2, 2).double()"
   ]
  },
  {
   "cell_type": "code",
   "execution_count": 33,
   "metadata": {},
   "outputs": [],
   "source": [
    "im1 = torch.ones(28, 28)\n",
    "im1 /= im1.sum()\n",
    "im1 = im1.view(-1, 1).double()\n",
    "\n",
    "im2 = torch.abs(torch.rand(28, 28))\n",
    "im2 /= im2.sum()\n",
    "im2 = im2.view(-1, 1).double()\n"
   ]
  },
  {
   "cell_type": "code",
   "execution_count": 34,
   "metadata": {},
   "outputs": [],
   "source": [
    "im = torch.cat((im1, im2))"
   ]
  },
  {
   "cell_type": "code",
   "execution_count": null,
   "metadata": {},
   "outputs": [],
   "source": []
  },
  {
   "cell_type": "code",
   "execution_count": 43,
   "metadata": {},
   "outputs": [
    {
     "data": {
      "text/plain": [
       "<matplotlib.image.AxesImage at 0x2a18a53ce10>"
      ]
     },
     "execution_count": 43,
     "metadata": {},
     "output_type": "execute_result"
    },
    {
     "data": {
      "image/png": "[encoded data removed]",
      "text/plain": [
       "<Figure size 432x288 with 1 Axes>"
      ]
     },
     "metadata": {
      "needs_background": "light"
     },
     "output_type": "display_data"
    }
   ],
   "source": [
    "basic_cv = K[:28*28, :28*28] @ im1\n",
    "basic_cv = basic_cv.view(28, 28)\n",
    "\n",
    "plt.imshow(basic_cv, cmap='gray_r')"
   ]
  },
  {
   "cell_type": "code",
   "execution_count": 62,
   "metadata": {},
   "outputs": [
    {
     "data": {
      "text/plain": [
       "torch.Size([28, 28])"
      ]
     },
     "execution_count": 62,
     "metadata": {},
     "output_type": "execute_result"
    }
   ],
   "source": [
    "[Ygrid, Xgrid] = np.meshgrid(np.linspace(0, 1, 28), np.linspace(0, 1, 28))\n",
    "Kmat = np.exp(-np.abs(Xgrid - Ygrid)**2)\n",
    "Kmat = torch.tensor(Kmat)\n",
    "\n",
    "kernel = lambda x: torch.matmul(torch.matmul(Kmat, x), Kmat)\n",
    "Kmat.shape"
   ]
  },
  {
   "cell_type": "code",
   "execution_count": 63,
   "metadata": {},
   "outputs": [
    {
     "data": {
      "text/plain": [
       "<matplotlib.image.AxesImage at 0x2a18a93d6a0>"
      ]
     },
     "execution_count": 63,
     "metadata": {},
     "output_type": "execute_result"
    },
    {
     "data": {
      "image/png": "[encoded data removed]",
      "text/plain": [
       "<Figure size 432x288 with 1 Axes>"
      ]
     },
     "metadata": {
      "needs_background": "light"
     },
     "output_type": "display_data"
    }
   ],
   "source": [
    "fancy_cv = kernel(im1.view(28, 28))\n",
    "plt.imshow(fancy_cv, cmap='gray_r')\n"
   ]
  },
  {
   "cell_type": "code",
   "execution_count": null,
   "metadata": {},
   "outputs": [],
   "source": []
  },
  {
   "cell_type": "code",
   "execution_count": 51,
   "metadata": {},
   "outputs": [],
   "source": [
    "mu, nu = im1, im2\n",
    "n = m = 28*28 "
   ]
  },
  {
   "cell_type": "code",
   "execution_count": 54,
   "metadata": {},
   "outputs": [],
   "source": [
    "Kmu1 = K[:n, :n] @ mu\n",
    "Knu1 = K[:n, -m:] @ nu\n",
    "\n",
    "Knu2 = K[-m:, -m:] @ nu\n",
    "Kmu2 = K[:-m, :n] @ mu\n",
    "\n",
    "v = Kmu1 / torch.clamp_min(Knu1, 1e-10)\n",
    "u = Knu2 / torch.clamp_min(Kmu2, 1e-10)\n"
   ]
  },
  {
   "cell_type": "code",
   "execution_count": 59,
   "metadata": {},
   "outputs": [],
   "source": [
    "_Kmu1 = kernel(mu.view(28, 28))\n",
    "_Knu1 = kernel(nu.view(28, 28))\n",
    "\n",
    "_Knu2 = kernel(nu.view(28, 28))"
   ]
  },
  {
   "cell_type": "code",
   "execution_count": 60,
   "metadata": {},
   "outputs": [
    {
     "data": {
      "text/plain": [
       "(tensor(4.4409e-16, dtype=torch.float64),\n",
       " tensor(4.4409e-16, dtype=torch.float64))"
      ]
     },
     "execution_count": 60,
     "metadata": {},
     "output_type": "execute_result"
    }
   ],
   "source": [
    "torch.max(Kmu1.view(28, 28) - _Kmu1), torch.max(Knu1.view(28, 28) - _Knu1)"
   ]
  },
  {
   "cell_type": "code",
   "execution_count": null,
   "metadata": {},
   "outputs": [],
   "source": []
  },
  {
   "cell_type": "code",
   "execution_count": 13,
   "metadata": {},
   "outputs": [
    {
     "data": {
      "text/plain": [
       "<matplotlib.image.AxesImage at 0x2a189e90080>"
      ]
     },
     "execution_count": 13,
     "metadata": {},
     "output_type": "execute_result"
    },
    {
     "data": {
      "image/png": "[encoded data removed]",
      "text/plain": [
       "<Figure size 432x288 with 1 Axes>"
      ]
     },
     "metadata": {
      "needs_background": "light"
     },
     "output_type": "display_data"
    }
   ],
   "source": [
    "plt.imshow(K[0, :28*28].view(28, 28).data.numpy(), cmap='gray_r')"
   ]
  },
  {
   "cell_type": "code",
   "execution_count": null,
   "metadata": {},
   "outputs": [],
   "source": []
  },
  {
   "cell_type": "code",
   "execution_count": null,
   "metadata": {},
   "outputs": [],
   "source": []
  },
  {
   "cell_type": "code",
   "execution_count": null,
   "metadata": {},
   "outputs": [],
   "source": []
  },
  {
   "cell_type": "code",
   "execution_count": 642,
   "metadata": {},
   "outputs": [],
   "source": [
    "alpha = 1.5\n",
    "\n",
    "#mu_free = torch.nn.Parameter(torch.tensor(1+0.*np.random.rand(1, n)))\n",
    "# For projected gradient initialize with a sparse solution on simplex\n",
    "mu_free = torch.nn.Parameter(torch.tensor(0*np.random.dirichlet(n*n*[1], 1)))\n",
    "temp = torch.nn.Parameter(torch.tensor(1.).double())\n",
    "mu_optimizer = torch.optim.Adam([mu_free, temp], lr=0.05, amsgrad=True)\n",
    "optims = [mu_optimizer]\n",
    "\n",
    "mu = sxp.simplex_project(mu_free).view(n, n)\n",
    "\n",
    "[Ygrid, Xgrid] = np.meshgrid(np.linspace(0, 1, n), np.linspace(0, 1, n))\n",
    "Kmat = np.exp(-7*np.abs(Xgrid - Ygrid)**2)\n",
    "Kmat = utils.from_numpy(Kmat)\n",
    "\n",
    "kernel = lambda x: torch.matmul(torch.matmul(Kmat, x), Kmat)\n",
    "Knu = torch.matmul(torch.matmul(Kmat, E), Kmat)"
   ]
  },
  {
   "cell_type": "code",
   "execution_count": 643,
   "metadata": {},
   "outputs": [
    {
     "data": {
      "text/plain": [
       "<matplotlib.image.AxesImage at 0x1673df3db70>"
      ]
     },
     "execution_count": 643,
     "metadata": {},
     "output_type": "execute_result"
    },
    {
     "data": {
      "image/png": "[encoded data removed]",
      "text/plain": [
       "<Figure size 432x288 with 1 Axes>"
      ]
     },
     "metadata": {
      "needs_background": "light"
     },
     "output_type": "display_data"
    }
   ],
   "source": [
    "plt.imshow(Kmat)"
   ]
  },
  {
   "cell_type": "code",
   "execution_count": 644,
   "metadata": {},
   "outputs": [
    {
     "data": {
      "text/plain": [
       "<matplotlib.image.AxesImage at 0x16754fb3208>"
      ]
     },
     "execution_count": 644,
     "metadata": {},
     "output_type": "execute_result"
    },
    {
     "data": {
      "image/png": "[encoded data removed]",
      "text/plain": [
       "<Figure size 432x288 with 1 Axes>"
      ]
     },
     "metadata": {
      "needs_background": "light"
     },
     "output_type": "display_data"
    }
   ],
   "source": [
    "#plt.imshow(mu.data.numpy())\n",
    "plt.imshow(E[ 2+0*np.random.choice(E.shape[0]), :].data.numpy(), cmap='gray_r')"
   ]
  },
  {
   "cell_type": "code",
   "execution_count": 645,
   "metadata": {},
   "outputs": [
    {
     "name": "stdout",
     "output_type": "stream",
     "text": [
      "0 - 40.5513\n"
     ]
    },
    {
     "data": {
      "image/png": "[encoded data removed]",
      "text/plain": [
       "<Figure size 216x216 with 1 Axes>"
      ]
     },
     "metadata": {
      "needs_background": "light"
     },
     "output_type": "display_data"
    },
    {
     "name": "stdout",
     "output_type": "stream",
     "text": [
      "75 - 36.4829\n"
     ]
    },
    {
     "data": {
      "image/png": "[encoded data removed]",
      "text/plain": [
       "<Figure size 216x216 with 1 Axes>"
      ]
     },
     "metadata": {
      "needs_background": "light"
     },
     "output_type": "display_data"
    },
    {
     "name": "stdout",
     "output_type": "stream",
     "text": [
      "150 - 36.4758\n"
     ]
    },
    {
     "data": {
      "image/png": "[encoded data removed]",
      "text/plain": [
       "<Figure size 216x216 with 1 Axes>"
      ]
     },
     "metadata": {
      "needs_background": "light"
     },
     "output_type": "display_data"
    },
    {
     "name": "stdout",
     "output_type": "stream",
     "text": [
      "225 - 36.4671\n"
     ]
    },
    {
     "data": {
      "image/png": "[encoded data removed]",
      "text/plain": [
       "<Figure size 216x216 with 1 Axes>"
      ]
     },
     "metadata": {
      "needs_background": "light"
     },
     "output_type": "display_data"
    },
    {
     "name": "stdout",
     "output_type": "stream",
     "text": [
      "300 - 36.4610\n"
     ]
    },
    {
     "data": {
      "image/png": "[encoded data removed]",
      "text/plain": [
       "<Figure size 216x216 with 1 Axes>"
      ]
     },
     "metadata": {
      "needs_background": "light"
     },
     "output_type": "display_data"
    },
    {
     "name": "stdout",
     "output_type": "stream",
     "text": [
      "375 - 36.4576\n"
     ]
    },
    {
     "data": {
      "image/png": "[encoded data removed]",
      "text/plain": [
       "<Figure size 216x216 with 1 Axes>"
      ]
     },
     "metadata": {
      "needs_background": "light"
     },
     "output_type": "display_data"
    },
    {
     "name": "stdout",
     "output_type": "stream",
     "text": [
      "450 - 36.4560\n"
     ]
    },
    {
     "data": {
      "image/png": "[encoded data removed]",
      "text/plain": [
       "<Figure size 216x216 with 1 Axes>"
      ]
     },
     "metadata": {
      "needs_background": "light"
     },
     "output_type": "display_data"
    },
    {
     "name": "stdout",
     "output_type": "stream",
     "text": [
      "525 - 36.4550\n"
     ]
    },
    {
     "data": {
      "image/png": "[encoded data removed]",
      "text/plain": [
       "<Figure size 216x216 with 1 Axes>"
      ]
     },
     "metadata": {
      "needs_background": "light"
     },
     "output_type": "display_data"
    },
    {
     "name": "stdout",
     "output_type": "stream",
     "text": [
      "600 - 36.4546\n"
     ]
    },
    {
     "data": {
      "image/png": "[encoded data removed]",
      "text/plain": [
       "<Figure size 216x216 with 1 Axes>"
      ]
     },
     "metadata": {
      "needs_background": "light"
     },
     "output_type": "display_data"
    },
    {
     "name": "stdout",
     "output_type": "stream",
     "text": [
      "675 - 36.4542\n"
     ]
    },
    {
     "data": {
      "image/png": "[encoded data removed]",
      "text/plain": [
       "<Figure size 216x216 with 1 Axes>"
      ]
     },
     "metadata": {
      "needs_background": "light"
     },
     "output_type": "display_data"
    },
    {
     "name": "stdout",
     "output_type": "stream",
     "text": [
      "750 - 36.4555\n"
     ]
    },
    {
     "data": {
      "image/png": "[encoded data removed]",
      "text/plain": [
       "<Figure size 216x216 with 1 Axes>"
      ]
     },
     "metadata": {
      "needs_background": "light"
     },
     "output_type": "display_data"
    },
    {
     "name": "stdout",
     "output_type": "stream",
     "text": [
      "825 - 36.4534\n"
     ]
    },
    {
     "data": {
      "image/png": "[encoded data removed]",
      "text/plain": [
       "<Figure size 216x216 with 1 Axes>"
      ]
     },
     "metadata": {
      "needs_background": "light"
     },
     "output_type": "display_data"
    },
    {
     "name": "stdout",
     "output_type": "stream",
     "text": [
      "900 - 36.4533\n"
     ]
    },
    {
     "data": {
      "image/png": "[encoded data removed]",
      "text/plain": [
       "<Figure size 216x216 with 1 Axes>"
      ]
     },
     "metadata": {
      "needs_background": "light"
     },
     "output_type": "display_data"
    },
    {
     "name": "stdout",
     "output_type": "stream",
     "text": [
      "975 - 36.4553\n"
     ]
    },
    {
     "data": {
      "image/png": "[encoded data removed]",
      "text/plain": [
       "<Figure size 216x216 with 1 Axes>"
      ]
     },
     "metadata": {
      "needs_background": "light"
     },
     "output_type": "display_data"
    }
   ],
   "source": [
    "for _ in range(1000):\n",
    "    \n",
    "    [_.zero_grad() for _ in optims]\n",
    "    \n",
    "    mu = torch.softmax(mu_free / torch.exp(temp), dim=1).view(n, n)\n",
    "    #mu = sxp.simplex_project(mu_free).view(n, n)\n",
    "    ix = np.random.choice(E.shape[0], 30)\n",
    "    loss = renyi.conv_divergence(mu, E[:, :], alpha, kernel).mean()\n",
    "    \n",
    "    if _ % 75 == 0:\n",
    "        print(\"%d - %.4f\" % (_, 100*loss.item()))\n",
    "        #mu = sxp.simplex_project(mu_free).view(n, n)\n",
    "        mu = torch.softmax(mu_free / torch.exp(temp), dim=1).view(n, n)\n",
    "        plt.figure(figsize=(3, 3))\n",
    "        plt.imshow(mu.data.numpy(), cmap='gray_r')\n",
    "        plt.show()\n",
    "        \n",
    "    loss.backward()\n",
    "    [_.step() for _ in optims]\n",
    "    \n",
    "#mu = sxp.simplex_project(mu_free).view(n, n)\n",
    "mu = torch.softmax(mu_free / torch.exp(temp), dim=1).view(n, n)"
   ]
  },
  {
   "cell_type": "markdown",
   "metadata": {},
   "source": [
    "http://people.csail.mit.edu/eddchien/papers/icml2018_barycenters.pdf\n",
    "\n",
    "file:///C:/Users/jgall/Downloads/PRV18_barycenter.pdf\n",
    "\n",
    "https://arxiv.org/abs/1705.07443\n",
    "\n",
    "https://arxiv.org/abs/1705.07443"
   ]
  },
  {
   "cell_type": "code",
   "execution_count": null,
   "metadata": {},
   "outputs": [],
   "source": []
  }
 ],
 "metadata": {
  "kernelspec": {
   "display_name": "Python 3",
   "language": "python",
   "name": "python3"
  },
  "language_info": {
   "codemirror_mode": {
    "name": "ipython",
    "version": 3
   },
   "file_extension": ".py",
   "mimetype": "text/x-python",
   "name": "python",
   "nbconvert_exporter": "python",
   "pygments_lexer": "ipython3",
   "version": "3.7.1"
  }
 },
 "nbformat": 4,
 "nbformat_minor": 2
}
