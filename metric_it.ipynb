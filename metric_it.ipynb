{
 "cells": [
  {
   "cell_type": "code",
   "execution_count": 390,
   "metadata": {},
   "outputs": [
    {
     "name": "stdout",
     "output_type": "stream",
     "text": [
      "The autoreload extension is already loaded. To reload it, use:\n",
      "  %reload_ext autoreload\n"
     ]
    }
   ],
   "source": [
    "%load_ext autoreload\n",
    "%autoreload 2\n",
    "\n",
    "import itertools\n",
    "from mpl_toolkits.mplot3d import Axes3D\n",
    "import matplotlib.pyplot as plt\n",
    "from matplotlib import cm\n",
    "from matplotlib.ticker import LinearLocator, FormatStrFormatter\n",
    "import numpy as np\n",
    "\n",
    "import os\n",
    "\n",
    "import torchvision\n",
    "import torch.nn as nn\n",
    "import torch.nn.functional as F\n",
    "import torch\n",
    "\n",
    "import renyi\n",
    "import utils\n",
    "import sxp"
   ]
  },
  {
   "cell_type": "markdown",
   "metadata": {},
   "source": [
    "$\\newcommand{\\X}{\\mathcal{X}}$\n",
    "$\\newcommand{\\k}{\\kappa}$\n",
    "$\\newcommand{\\D}{D^K_{\\alpha}}$\n",
    "$\\newcommand{\\H}{H^K_{\\alpha}}$\n",
    "\n",
    "## Similarity-sensitive entropy\n",
    "\n",
    "Let $\\mathcal{X}$ be a finite set of size $n$ and let $\\k$ be a positive definite kernel. Let $X$ be a random variable with distribution $p$ on $\\X$. Let $K$ be the Gram matrix induced by $\\k$ on $\\X$.\n",
    "\n",
    "We define the similarity-sensitive Renyi entropy of order alpha [cite Tom Leinster] of $X$ by:\n",
    "\n",
    "$$\\H(p) = \\frac{1}{1-\\alpha} \\log \\sum_{i = 1}^n  p_i (Kp)_i^{\\alpha-1}$$\n",
    "\n",
    "Special Case: If we have a metric space $(\\X, d)$, we can define $\\k(x, y) \\triangleq \\exp(-d(x, y))$. [Reams]"
   ]
  },
  {
   "cell_type": "markdown",
   "metadata": {},
   "source": [
    "## Performance test for entropy and divergence implementation\n",
    "\n",
    "Can compute $H^K_{\\alpha}(p)$ and $D^K_{\\alpha}(p, q)$ :\n",
    "  * $n= 1000$, $M = 100$ - H 4 ms D 13 ms\n",
    "  * $n= 2000$, $M = 100$ - H 13 ms D 40 ms\n",
    "  * $n= 10000$, $M = 100$ - H 263 ms D 865 ms\n",
    "  * $n= 15000$, $M = 100$ - H 729 ms D 1760 ms\n",
    "  \n",
    "No significative variation in time when changing the order $\\alpha$."
   ]
  },
  {
   "cell_type": "code",
   "execution_count": 2,
   "metadata": {},
   "outputs": [
    {
     "name": "stdout",
     "output_type": "stream",
     "text": [
      "Wall time: 998 µs\n",
      "Wall time: 0 ns\n",
      "Min Eigenvalue of K:  0.699592180762266\n",
      "Wall time: 3.99 ms\n",
      "Wall time: 9.97 ms\n"
     ]
    }
   ],
   "source": [
    "n, M = 100, 1000\n",
    "\n",
    "%time K = 0.01*np.random.rand(n, n)\n",
    "%time K = (K * K.T) + 0.7 * np.eye(n)\n",
    "K = utils.from_numpy(K)\n",
    "\n",
    "print('Min Eigenvalue of K: ', torch.eig(K)[0].min(dim=0)[0][0].item())\n",
    "\n",
    "p = np.random.dirichlet(n*[1], M)\n",
    "p = utils.from_numpy(p, True)\n",
    "\n",
    "q = np.random.dirichlet(n*[1], M)\n",
    "q = utils.from_numpy(q, True)\n",
    "\n",
    "%time H = renyi.sim_entropy(K, p)\n",
    "%time D = renyi.sim_divergence(K, p, q)\n",
    "\n",
    "# for alpha in [0.1, 0.3, 0.5, 1, 1.5, 2]:\n",
    "#     #W = renyi.sim_divergence(K, p, q, alpha)\n",
    "#     W = renyi.sim_entropy(K, p, alpha)\n",
    "#     plt.plot(W.data.numpy(), label=str(alpha));\n",
    "# plt.legend(ncol=6, loc='best')"
   ]
  },
  {
   "cell_type": "markdown",
   "metadata": {},
   "source": [
    "## Similarity-sensitive divergence between two empirical distributions on a metric space\n",
    "\n",
    "Let $(\\X, \\k)$ be a space endowed with a positive definite kernel. Consider two probability measures $\\mu$ and $\\nu$ defined on $\\X$. Note that if an arbitrary $x \\in \\X$ has measure zero under both $\\mu$ and $\\nu$, then such $x$ is irrelevant in the computation of $\\D(p || q)$.\n",
    "\n",
    "Suppose $\\mu$ and $\\nu$ are empirical distributions of the form $\\mu = \\sum_{i = 1}^n a_i \\delta_{x_i}$ and $\\nu = \\sum_{j = 1}^m b_i \\delta_{y_i}$. Define the sequences $X = [x_1, \\ldots, x_n ]$ and $Y = [y_1, \\ldots, y_m]$. According to the remark above, we can restrict our attention to the sequence $Z = [X, Y] \\triangleq [x_1, \\ldots, x_n, y_1, \\ldots, y_m ]$. The Gram matrix of $\\k$ on $Z$ is a block matrix of the form: \n",
    "\n",
    "$$K \\triangleq \\begin{pmatrix} K_{xx} & K_{xy} \\\\  K_{yx} & K_{yy}  \\end{pmatrix},$$\n",
    "\n",
    "where $K_{xy}$ and $K_{yx}$ are possibly rectangular (and given $\\k$ is p.d., $K_{xy} = K^T_{yx}$).\n",
    "\n",
    "Define $\\tilde{\\mu}$ to be the natural extension of the vector representation of $\\mu$ from $X$ to $Z$, i.e., $\\tilde{\\mu} = [\\mu, 0]$. Analogously,  $\\tilde{\\nu} = [0, \\nu]$. Let $\\rho = \\frac{\\tilde{\\mu} + \\tilde{\\nu}}{2}$.\n",
    "\n",
    "$$\\begin{eqnarray*} \n",
    "\\D(\\tilde{\\mu}, \\tilde{\\nu}) &=& \\frac{1}{\\alpha - 1} \\left[ \\log \\sum_{z \\in Z} \\tilde{\\mu}_z \\left( \\frac{(K\\tilde{\\mu})_z}{(K\\rho)_z}\\right)^{\\alpha-1} + \\log \\sum_{z \\in Z} \\tilde{\\nu}_z \\left( \\frac{(K\\tilde{\\nu})_z}{(K\\rho)_z}\\right)^{\\alpha-1} \\right] \\\\ \n",
    "&=& \\frac{1}{\\alpha - 1} \\left[ \\log \\sum_{x \\in X} \\mu_x \\left( \\frac{(K_{xx}\\mu)_x}{\\frac{1}{2}\\left(K_{xx}\\mu + K_{xy}\\nu\\right)_x}\\right)^{\\alpha-1} + \\log \\sum_{y \\in Y} \\nu_y \\left( \\frac{(K_{yy}\\nu)_y}{\\frac{1}{2}\\left(K_{yy}\\nu + K_{yx}\\mu\\right)_y}\\right)^{\\alpha-1} \\right] \\\\\n",
    "&=& \\frac{1}{\\alpha - 1} \\left[ \\log \\left[ \\mu^T \\left( \\frac{2 K_{xx}\\mu}{K_{xx}\\mu + K_{xy}\\nu}\\right)^{\\alpha-1}\\right] + \\log \\left[ \\nu^T \\left( \\frac{2 K_{yy}\\nu}{K_{yy}\\nu + K_{yx}\\mu}\\right)^{\\alpha-1} \\right] \\right] \n",
    "\\end{eqnarray*}$$\n",
    "\n",
    "The computation of $K$ requires $\\mathcal{O}(|\\k|(m+n)^2)$ operations, where $|\\k|$ represents the cost of a kernel evaluation. The computation of the divergence (given $K$) is of in order of  $\\mathcal{O}((n+m)^2)$ operations.\n",
    "\n",
    "*Note:* We can do projected gradient descent on this objective using the sxp file. This gives sparse solutions on $\\mu$, while the logit-softmax (with temperature) parametrization gives dense solutions. When $m >> n$, softmax is advisable, while projected gradient is to be preferred when $n >> m$\n"
   ]
  },
  {
   "cell_type": "code",
   "execution_count": 779,
   "metadata": {},
   "outputs": [],
   "source": [
    "alpha = 2\n",
    "\n",
    "m, d = 10, 2\n",
    "\n",
    "nu = np.random.dirichlet(m*[m], 1)\n",
    "nu = -np.sort(-nu, axis=1)\n",
    "nu = torch.tensor(nu)\n",
    "Y = torch.tensor(np.random.multivariate_normal(np.zeros(d), np.eye(d), m))\n",
    "\n",
    "n = 50\n",
    "\n",
    "#mu_free = torch.nn.Parameter(torch.tensor(1+0.*np.random.rand(1, n)))\n",
    "# For projected gradient initialize with a sparse solution on simplex\n",
    "mu_free = torch.nn.Parameter(torch.tensor(np.random.dirichlet(n*[1], 1)))\n",
    "\n",
    "X = torch.nn.Parameter(torch.tensor(np.random.multivariate_normal(np.zeros(d), 1.1*np.eye(d), n)))\n",
    "temp = torch.nn.Parameter(torch.tensor(1.).double())\n",
    "\n",
    "mu_optimizer = torch.optim.Adam([mu_free, temp], lr=0.005, amsgrad=True)\n",
    "x_optimizer = torch.optim.Adam([X], lr=0.1, amsgrad=True)\n",
    "optims = [mu_optimizer, x_optimizer]\n",
    "\n",
    "kernel = lambda x, y: renyi.generic_kernel(x, y, renyi.rbf_kernel)"
   ]
  },
  {
   "cell_type": "code",
   "execution_count": 780,
   "metadata": {},
   "outputs": [
    {
     "name": "stdout",
     "output_type": "stream",
     "text": [
      "0 - 0.0880\n"
     ]
    },
    {
     "data": {
      "image/png": "[encoded data removed]",
      "text/plain": [
       "<Figure size 288x144 with 2 Axes>"
      ]
     },
     "metadata": {
      "needs_background": "light"
     },
     "output_type": "display_data"
    },
    {
     "name": "stdout",
     "output_type": "stream",
     "text": [
      "75 - 0.0013\n"
     ]
    },
    {
     "data": {
      "image/png": "[encoded data removed]",
      "text/plain": [
       "<Figure size 288x144 with 2 Axes>"
      ]
     },
     "metadata": {
      "needs_background": "light"
     },
     "output_type": "display_data"
    },
    {
     "name": "stdout",
     "output_type": "stream",
     "text": [
      "150 - 0.0019\n"
     ]
    },
    {
     "data": {
      "image/png": "[encoded data removed]",
      "text/plain": [
       "<Figure size 288x144 with 2 Axes>"
      ]
     },
     "metadata": {
      "needs_background": "light"
     },
     "output_type": "display_data"
    },
    {
     "name": "stdout",
     "output_type": "stream",
     "text": [
      "225 - 0.0017\n"
     ]
    },
    {
     "data": {
      "image/png": "[encoded data removed]",
      "text/plain": [
       "<Figure size 288x144 with 2 Axes>"
      ]
     },
     "metadata": {
      "needs_background": "light"
     },
     "output_type": "display_data"
    },
    {
     "data": {
      "image/png": "[encoded data removed]",
      "text/plain": [
       "<Figure size 288x288 with 1 Axes>"
      ]
     },
     "metadata": {
      "needs_background": "light"
     },
     "output_type": "display_data"
    },
    {
     "name": "stdout",
     "output_type": "stream",
     "text": [
      "Sparsity of solution: 60.0% (20/50)\n"
     ]
    }
   ],
   "source": [
    "for _ in range(250):\n",
    "    \n",
    "    [_.zero_grad() for _ in optims]\n",
    "    \n",
    "    #mu = torch.softmax(mu_free / torch.exp(temp), dim=1)\n",
    "    mu = sxp.simplex_project(mu_free)\n",
    "    loss, K = renyi.mixture_divergence(mu, X, nu, Y, alpha, kernel)\n",
    "    \n",
    "    if _ % 75 == 0:\n",
    "        print(\"%d - %.4f\" % (_, loss.item()))\n",
    "        \n",
    "    if _ % 75 == 0:    \n",
    "        W = torch.cat((X, Y))\n",
    "        D = torch.norm(W[..., None, :] - W[..., None, :, :], p=2, dim=-1) \n",
    "    \n",
    "        fig, ax1 = plt.subplots(figsize=(4, 2))\n",
    "        ax1.plot(D[-m:, :n].min(dim=1)[0].data.numpy(), 'b.')\n",
    "        ax1.twinx().plot(nu[0, :].data.numpy(), 'r.')\n",
    "        fig.tight_layout()\n",
    "        plt.show()\n",
    "        \n",
    "#         plt.figure(figsize=(4, 4))\n",
    "#         plt.scatter(Y.data.numpy()[:, 0], Y.data.numpy()[:, 1], s=list(1000*nu.data.squeeze().numpy()), label='Target', marker='h', c='r', alpha=0.7)\n",
    "#         plt.scatter(X.data.numpy()[:, 0], X.data.numpy()[:, 1], s=list(1000*mu.data.squeeze().numpy()), label='Approx.', marker='h', facecolors='none', edgecolors='b', alpha=0.7)\n",
    "#         plt.legend(loc='best');\n",
    "#         plt.show()\n",
    "\n",
    "    loss.backward()\n",
    "    [_.step() for _ in optims]\n",
    "    \n",
    "mu = sxp.simplex_project(mu_free) \n",
    "#mu = torch.softmax(mu_free / torch.exp(temp), dim=1)\n",
    "    \n",
    "plt.figure(figsize=(4, 4))\n",
    "plt.scatter(Y.data.numpy()[:, 0], Y.data.numpy()[:, 1], s=list(1000*nu.data.squeeze().numpy()), label='Target', marker='h', c='r', alpha=0.7)\n",
    "plt.scatter(X.data.numpy()[:, 0], X.data.numpy()[:, 1], s=list(1000*mu.data.squeeze().numpy()), label='Approx.', marker='h', facecolors='none', edgecolors='b', alpha=0.7)\n",
    "plt.legend(loc='best')\n",
    "plt.show();\n",
    "\n",
    "print('Sparsity of solution: %.1f%% (%d/%d)' % (100 * (1 - torch.sum(mu > 0).item() / n), torch.sum(mu > 0).item(), n))"
   ]
  },
  {
   "cell_type": "code",
   "execution_count": null,
   "metadata": {},
   "outputs": [],
   "source": []
  }
 ],
 "metadata": {
  "kernelspec": {
   "display_name": "Python 3",
   "language": "python",
   "name": "python3"
  },
  "language_info": {
   "codemirror_mode": {
    "name": "ipython",
    "version": 3
   },
   "file_extension": ".py",
   "mimetype": "text/x-python",
   "name": "python",
   "nbconvert_exporter": "python",
   "pygments_lexer": "ipython3",
   "version": "3.7.1"
  }
 },
 "nbformat": 4,
 "nbformat_minor": 2
}
