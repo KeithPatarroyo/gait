{
 "cells": [
  {
   "cell_type": "code",
   "execution_count": 1,
   "metadata": {},
   "outputs": [],
   "source": [
    "%load_ext autoreload\n",
    "%autoreload 2\n",
    "\n",
    "import itertools\n",
    "from mpl_toolkits.mplot3d import Axes3D\n",
    "import matplotlib.pyplot as plt\n",
    "from matplotlib import cm\n",
    "from matplotlib.ticker import LinearLocator, FormatStrFormatter\n",
    "import numpy as np\n",
    "\n",
    "import contextlib\n",
    "import os\n",
    "from importlib import reload\n",
    "\n",
    "import torchvision\n",
    "from torch import autograd\n",
    "import torch.nn as nn\n",
    "import torch.nn.functional as F\n",
    "import torch\n",
    "\n",
    "plt.rcParams['axes.facecolor'] = 'white'"
   ]
  },
  {
   "cell_type": "code",
   "execution_count": 356,
   "metadata": {},
   "outputs": [],
   "source": [
    "import renyi\n",
    "import utils\n",
    "from renyi import renyi_mixture_divergence, rbf_kernel, poly_kernel, generic_kernel\n",
    "from renyi import test_mixture_divergence, renyi_mixture_divergence_stable\n",
    "from renyi import renyi_mixture_divergence, renyi_sim_divergence, renyi_sim_divergence_stable"
   ]
  },
  {
   "cell_type": "code",
   "execution_count": 357,
   "metadata": {},
   "outputs": [],
   "source": [
    "# torch.set_default_dtype(torch.float64)\n",
    "\n",
    "class GeneratorFC(nn.Module):\n",
    "    def __init__(self, input_size, output_size, hidden_dims):\n",
    "        super(GeneratorFC, self).__init__()\n",
    "        self.layers = []\n",
    "\n",
    "        prev_dim = input_size\n",
    "        for hidden_dim in hidden_dims:\n",
    "            self.layers.append(nn.Linear(prev_dim, hidden_dim))\n",
    "            self.layers.append(nn.BatchNorm1d(hidden_dim))\n",
    "            self.layers.append(nn.LeakyReLU())\n",
    "            prev_dim = hidden_dim\n",
    "        self.layers.append(nn.Linear(prev_dim, output_size))\n",
    "\n",
    "        self.layer_module = nn.ModuleList(self.layers)\n",
    "\n",
    "    def forward(self, x):\n",
    "        out = x\n",
    "        for layer in self.layer_module:\n",
    "            out = layer(out)\n",
    "        return out"
   ]
  },
  {
   "cell_type": "code",
   "execution_count": 358,
   "metadata": {},
   "outputs": [],
   "source": [
    "from sklearn.datasets.samples_generator import make_swiss_roll\n",
    "\n",
    "d, z_dim, gen_hiddens = 2, 16, [256, 256]\n",
    "batch_size_p = 600\n",
    "batch_size_q = 512"
   ]
  },
  {
   "cell_type": "code",
   "execution_count": 384,
   "metadata": {},
   "outputs": [],
   "source": [
    "generator = GeneratorFC(z_dim, d, gen_hiddens).cuda()\n",
    "\n",
    "g_optimizer = torch.optim.Adam(generator.parameters(), lr=1e-3, betas=(0.9, 0.999))"
   ]
  },
  {
   "cell_type": "code",
   "execution_count": 385,
   "metadata": {},
   "outputs": [
    {
     "name": "stdout",
     "output_type": "stream",
     "text": [
      "0 - 21.2320\n",
      "200 - 1.1176\n",
      "400 - 0.9974\n",
      "600 - 0.7477\n",
      "800 - 0.8767\n",
      "1000 - 0.6368\n",
      "1200 - 0.5024\n",
      "1400 - 0.4060\n",
      "1600 - 0.3651\n",
      "1800 - 0.3119\n",
      "2000 - 0.2518\n",
      "2200 - 0.3292\n",
      "2400 - 0.2486\n",
      "2600 - 0.2138\n",
      "2800 - 0.1815\n",
      "3000 - 0.1839\n",
      "3200 - 0.1876\n",
      "3400 - 0.1948\n",
      "3600 - 0.2801\n",
      "3800 - 0.2886\n",
      "4000 - 0.1549\n",
      "4200 - 0.1840\n",
      "4400 - 0.1476\n",
      "4600 - 0.1760\n",
      "4800 - 0.2060\n"
     ]
    }
   ],
   "source": [
    "alpha = 1\n",
    "sigma_mult = 0.75\n",
    "\n",
    "# emp_probs = 2*torch.ones(1, batch_size//2).cuda()/batch_size\n",
    "emp_probs_p = torch.ones(1, batch_size_p).cuda()/batch_size_p\n",
    "emp_probs_q = torch.ones(1, batch_size_q).cuda()/batch_size_q\n",
    "\n",
    "kernel = lambda x, y: generic_kernel(x, y, lambda u, v: rbf_kernel(u, v, sigmas=[0.2 * sigma_mult], log=True))\n",
    "# kernel = lambda x, y: generic_kernel(x, y, lambda u, v: multiquad_kernel(u, v, sigma=0.2))\n",
    "# kernel = lambda x, y: generic_kernel(x, y, lambda u, v: poly_kernel(u, v, degree=2))\n",
    "\n",
    "# FFF: \n",
    "# FFT:\n",
    "# FTF:\n",
    "# FTT:\n",
    "# TFF: \n",
    "# TFT:\n",
    "# TTF:\n",
    "# TTT:\n",
    "D = lambda x, y: renyi_mixture_divergence_stable(emp_probs_p, x, emp_probs_q, y, kernel, alpha,\n",
    "                                                 use_avg=False, use_full=False, symmetric=False)\n",
    "\n",
    "# D = lambda x, y: test_mixture_divergence(emp_probs_p, x, emp_probs_q, y, kernel,\n",
    "#                                          symmetric=True, use_avg=False)\n",
    "\n",
    "# for g in g_optimizer.param_groups:\n",
    "#     g['lr'] = 1e-5\n",
    "\n",
    "for _ in range(5000):\n",
    "    \n",
    "    g_optimizer.zero_grad()\n",
    "    \n",
    "    x_real = torch.Tensor(make_swiss_roll(batch_size_p, noise=0.1)[0][:, [0, 2]]/10).cuda()\n",
    "    x_real += 0.01 * torch.randn_like(x_real)\n",
    "    \n",
    "    z = torch.randn(batch_size_q, z_dim).cuda()\n",
    "    with contextlib.nullcontext():  # autograd.detect_anomaly():\n",
    "        x_fake = generator(z)\n",
    "\n",
    "#         x = x_real[:batch_size//2]\n",
    "#         x_prime = x_real[batch_size//2:]\n",
    "#         y = x_fake[:batch_size//2]\n",
    "#         y_prime = x_fake[batch_size//2:]\n",
    "\n",
    "#         loss = D(x, y) + D(x_prime, y) + D(x, y_prime) + D(x_prime, y_prime) - 2*D(y, y_prime)\n",
    "        loss = D(x_real, x_fake)\n",
    "\n",
    "        if _ % 200 == 0:\n",
    "            print(\"%d - %.4f\" % (_, loss.item()))\n",
    "\n",
    "        loss.backward()\n",
    "\n",
    "    g_optimizer.step()"
   ]
  },
  {
   "cell_type": "code",
   "execution_count": 386,
   "metadata": {},
   "outputs": [
    {
     "data": {
      "image/png": "[encoded data removed]",
      "text/plain": [
       "<Figure size 360x360 with 1 Axes>"
      ]
     },
     "metadata": {
      "needs_background": "light"
     },
     "output_type": "display_data"
    }
   ],
   "source": [
    "x_real = make_swiss_roll(500, noise=0.1)[0][:, [0, 2]]/10\n",
    "z = torch.randn(500, z_dim).cuda()\n",
    "x_fake = generator(z).data.cpu().numpy()\n",
    "\n",
    "plt.figure(figsize=(5, 5))\n",
    "plt.plot(x_real[:, 0], x_real[:, 1], 'g*', alpha=0.5, label='True', markersize=3)\n",
    "plt.plot(x_fake[:, 0], x_fake[:, 1], 'ro', alpha=0.5, label='Fake', markersize=3)\n",
    "plt.legend(loc='best');"
   ]
  },
  {
   "cell_type": "code",
   "execution_count": 354,
   "metadata": {},
   "outputs": [],
   "source": [
    "bs1, bs2, n = 100, 80, 10\n",
    "# bs1, bs2, n = 4, 2, 5\n",
    "\n",
    "K = torch.rand(n, n).double()\n",
    "for i in range(n):\n",
    "    K[i,i] = 1.0\n",
    "K = (K + K.t()) / 2\n",
    "log_K = torch.log(K)\n",
    "\n",
    "# K = lambda x, y: generic_kernel(x, y, lambda u, v: rbf_kernel(u, v, sigmas=[2], log=False))\n",
    "# log_K = lambda x, y: generic_kernel(x, y, lambda u, v: rbf_kernel(u, v, sigmas=[2], log=True))\n",
    "\n",
    "p = torch.rand(bs1, n).double()\n",
    "p[:, 1] = 0\n",
    "p = p / p.sum(dim=1, keepdim=True)\n",
    "q = torch.rand(bs1, n).double()\n",
    "q[:, 0] = 0\n",
    "q = q / q.sum(dim=1, keepdim=True)\n",
    "\n",
    "Y = torch.randn(bs1, n).double() * 2\n",
    "X = torch.randn(bs2, n).double()\n",
    "\n",
    "alpha, P1 = 1, False"
   ]
  },
  {
   "cell_type": "code",
   "execution_count": 355,
   "metadata": {},
   "outputs": [
    {
     "data": {
      "text/plain": [
       "(tensor(13.8918, dtype=torch.float64), tensor(13.8918, dtype=torch.float64))"
      ]
     },
     "execution_count": 355,
     "metadata": {},
     "output_type": "execute_result"
    }
   ],
   "source": [
    "renyi_sim_divergence(K, p, q, alpha, P1).abs().sum(), renyi_sim_divergence_stable(log_K, p, q, alpha, P1).abs().sum()"
   ]
  },
  {
   "cell_type": "code",
   "execution_count": null,
   "metadata": {},
   "outputs": [],
   "source": []
  }
 ],
 "metadata": {
  "kernelspec": {
   "display_name": "Python 3",
   "language": "python",
   "name": "python3"
  },
  "language_info": {
   "codemirror_mode": {
    "name": "ipython",
    "version": 3
   },
   "file_extension": ".py",
   "mimetype": "text/x-python",
   "name": "python",
   "nbconvert_exporter": "python",
   "pygments_lexer": "ipython3",
   "version": "3.7.3"
  }
 },
 "nbformat": 4,
 "nbformat_minor": 2
}
