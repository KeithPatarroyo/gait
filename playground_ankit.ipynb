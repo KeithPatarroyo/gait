{
 "cells": [
  {
   "cell_type": "code",
   "execution_count": 1,
   "metadata": {},
   "outputs": [],
   "source": [
    "%load_ext autoreload\n",
    "%autoreload 2\n",
    "\n",
    "import itertools\n",
    "from mpl_toolkits.mplot3d import Axes3D\n",
    "import matplotlib.pyplot as plt\n",
    "from matplotlib import cm\n",
    "from matplotlib.ticker import LinearLocator, FormatStrFormatter\n",
    "import numpy as np\n",
    "\n",
    "import contextlib\n",
    "import os\n",
    "from importlib import reload\n",
    "\n",
    "import torchvision\n",
    "from torch import autograd\n",
    "import torch.nn as nn\n",
    "import torch.nn.functional as F\n",
    "import torch\n",
    "\n",
    "plt.rcParams['axes.facecolor'] = 'white'"
   ]
  },
  {
   "cell_type": "code",
   "execution_count": 2,
   "metadata": {},
   "outputs": [],
   "source": [
    "import renyi\n",
    "import utils\n",
    "reload(renyi)\n",
    "from renyi import mink_sim_divergence, renyi_mixture_divergence, mink_mixture_divergence, rbf_kernel, generic_kernel"
   ]
  },
  {
   "cell_type": "code",
   "execution_count": 3,
   "metadata": {},
   "outputs": [],
   "source": [
    "class GeneratorFC(nn.Module):\n",
    "    def __init__(self, input_size, output_size, hidden_dims):\n",
    "        super(GeneratorFC, self).__init__()\n",
    "        self.layers = []\n",
    "\n",
    "        prev_dim = input_size\n",
    "        for hidden_dim in hidden_dims:\n",
    "            self.layers.append(nn.Linear(prev_dim, hidden_dim))\n",
    "            self.layers.append(nn.BatchNorm1d(hidden_dim))\n",
    "            self.layers.append(nn.LeakyReLU())\n",
    "            prev_dim = hidden_dim\n",
    "        self.layers.append(nn.Linear(prev_dim, output_size))\n",
    "\n",
    "        self.layer_module = nn.ModuleList(self.layers)\n",
    "\n",
    "    def forward(self, x):\n",
    "        out = x\n",
    "        for layer in self.layer_module:\n",
    "            out = layer(out)\n",
    "        return out"
   ]
  },
  {
   "cell_type": "code",
   "execution_count": 4,
   "metadata": {},
   "outputs": [],
   "source": [
    "def old_mixture_divergence(mu, X, nu, Y, kernel, alpha):   \n",
    "    n, m = mu.shape[0], nu.shape[0]\n",
    "    \n",
    "    W = torch.cat((X, Y))\n",
    "    \n",
    "    # Compute similarity matrix\n",
    "    K = kernel(W)\n",
    "    \n",
    "    v = (K[:n, :n] @ mu) / utils.min_clamp(K[:n, -m:] @ nu)\n",
    "    v = mu.transpose(-2, -1) @ (v **(alpha-1))\n",
    "    v = utils.clamp_log(v)\n",
    "    \n",
    "    u = (K[-m:, -m:] @ nu) / utils.min_clamp(K[-m:, :n] @ mu)\n",
    "    u = nu.transpose(-2, -1) @ (u **(alpha-1))\n",
    "    u = utils.clamp_log(u)\n",
    "    \n",
    "    return (u + v) / (alpha - 1)\n",
    "\n",
    "def old_rbf_kernel(W, sigmas=[1.], p=2):\n",
    "    pdist = torch.norm(W[..., None, :] - W[..., None, :, :], p=p, dim=-1)\n",
    "    res = torch.zeros_like(pdist)\n",
    "    for sigma in sigmas:\n",
    "        res += torch.exp(- pdist / (2 * sigma**2))\n",
    "    return res / len(sigmas)"
   ]
  },
  {
   "cell_type": "code",
   "execution_count": 237,
   "metadata": {},
   "outputs": [],
   "source": [
    "from sklearn.datasets.samples_generator import make_swiss_roll\n",
    "\n",
    "d, z_dim, gen_hiddens = 2, 16, [256, 256]\n",
    "batch_size = 1024"
   ]
  },
  {
   "cell_type": "code",
   "execution_count": 241,
   "metadata": {},
   "outputs": [],
   "source": [
    "generator = GeneratorFC(z_dim, d, gen_hiddens).cuda()\n",
    "\n",
    "g_optimizer = torch.optim.Adam(generator.parameters(), lr=1e-3, betas=(0.9, 0.999))\n",
    "\n",
    "gaussian_kernel = lambda x, y: generic_kernel(x, y, lambda u, v: rbf_kernel(u, v, sigmas=[0.2]))\n",
    "old_kernel = lambda x: old_rbf_kernel(x, sigmas=[0.2])"
   ]
  },
  {
   "cell_type": "code",
   "execution_count": 242,
   "metadata": {},
   "outputs": [
    {
     "name": "stdout",
     "output_type": "stream",
     "text": [
      "0 - 11.3091\n",
      "500 - 0.6199\n",
      "1000 - 0.2536\n",
      "1500 - 0.1589\n",
      "2000 - 0.2092\n",
      "2500 - 0.1619\n",
      "3000 - 0.1072\n",
      "3500 - 0.1398\n",
      "4000 - 0.0699\n",
      "4500 - 0.1107\n",
      "5000 - 0.1122\n",
      "5500 - 0.0946\n",
      "6000 - 0.0823\n",
      "6500 - 0.0889\n",
      "7000 - 0.1116\n",
      "7500 - 0.1022\n",
      "8000 - 0.1391\n",
      "8500 - 0.0538\n",
      "9000 - 0.1010\n",
      "9500 - 0.0903\n"
     ]
    }
   ],
   "source": [
    "alpha = 1\n",
    "\n",
    "# emp_probs = 2*torch.ones(1, batch_size//2)/batch_size\n",
    "emp_probs = torch.ones(1, batch_size).cuda()/batch_size\n",
    "\n",
    "# for alpha=1:\n",
    "# False, False, False: Negative, doesn't work\n",
    "# False, False, True: Positive, works\n",
    "# False, True, False: Negative, doesn't work\n",
    "# False, True, True: Positive, works\n",
    "# True, False, False: Negative, doesn't work\n",
    "# True, False, True: Negative, doesn't work\n",
    "# True, True, False: Negative, doesn't work\n",
    "# True, True, True: Positive, works\n",
    "D = lambda x, y: renyi_mixture_divergence(emp_probs, x, emp_probs, y, gaussian_kernel, alpha,\n",
    "                                          use_avg=False, use_full=False, symmetric=True)\n",
    "\n",
    "# for g in g_optimizer.param_groups:\n",
    "#     g['lr'] = 1e-4\n",
    "\n",
    "for _ in range(10000):\n",
    "    \n",
    "    g_optimizer.zero_grad()\n",
    "    \n",
    "    x_real = torch.Tensor(make_swiss_roll(batch_size, noise=0.1)[0][:, [0, 2]]/10).cuda()\n",
    "    x_real += 0.01 * torch.randn_like(x_real)\n",
    "    \n",
    "    z = torch.randn(batch_size, z_dim).cuda()\n",
    "    with contextlib.nullcontext():  # autograd.detect_anomaly():\n",
    "        x_fake = generator(z)\n",
    "\n",
    "        x = x_real[:batch_size//2]\n",
    "        x_prime = x_real[batch_size//2:]\n",
    "        y = x_fake[:batch_size//2]\n",
    "        y_prime = x_fake[batch_size//2:]\n",
    "\n",
    "#         loss = D(x, y) + D(x_prime, y) + D(x, y_prime) + D(x_prime, y_prime) - 2*D(y, y_prime)\n",
    "#         loss = 2*D(x, y) - D(y, y_prime)\n",
    "        loss = D(x_real, x_fake)\n",
    "#         loss = old_mixture_divergence(emp_probs.t(), x_real, emp_probs.t(), x_fake, old_kernel, alpha)\n",
    "\n",
    "        if _ % 500 == 0:\n",
    "            print(\"%d - %.4f\" % (_, loss.item()))\n",
    "\n",
    "        loss.backward()\n",
    "\n",
    "    g_optimizer.step()"
   ]
  },
  {
   "cell_type": "code",
   "execution_count": 243,
   "metadata": {},
   "outputs": [
    {
     "data": {
      "image/png": "[encoded data removed]",
      "text/plain": [
       "<Figure size 360x360 with 1 Axes>"
      ]
     },
     "metadata": {
      "needs_background": "light"
     },
     "output_type": "display_data"
    }
   ],
   "source": [
    "x_real = make_swiss_roll(500, noise=0.1)[0][:, [0, 2]]/10\n",
    "z = torch.randn(500, z_dim).cuda()\n",
    "x_fake = generator(z).data.cpu().numpy()\n",
    "\n",
    "plt.figure(figsize=(5, 5))\n",
    "plt.plot(x_real[:, 0], x_real[:, 1], 'g*', label='True')\n",
    "plt.plot(x_fake[:, 0], x_fake[:, 1], 'ro', alpha=0.5, label='Fake')\n",
    "plt.legend(loc='best');"
   ]
  },
  {
   "cell_type": "code",
   "execution_count": null,
   "metadata": {},
   "outputs": [],
   "source": []
  }
 ],
 "metadata": {
  "kernelspec": {
   "display_name": "Python 3",
   "language": "python",
   "name": "python3"
  },
  "language_info": {
   "codemirror_mode": {
    "name": "ipython",
    "version": 3
   },
   "file_extension": ".py",
   "mimetype": "text/x-python",
   "name": "python",
   "nbconvert_exporter": "python",
   "pygments_lexer": "ipython3",
   "version": "3.7.3"
  }
 },
 "nbformat": 4,
 "nbformat_minor": 2
}
