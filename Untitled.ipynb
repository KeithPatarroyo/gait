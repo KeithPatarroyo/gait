{
 "cells": [
  {
   "cell_type": "code",
   "execution_count": 23,
   "metadata": {},
   "outputs": [
    {
     "name": "stdout",
     "output_type": "stream",
     "text": [
      "The autoreload extension is already loaded. To reload it, use:\n",
      "  %reload_ext autoreload\n"
     ]
    }
   ],
   "source": [
    "%load_ext autoreload\n",
    "%autoreload 2\n",
    "\n",
    "import itertools\n",
    "from mpl_toolkits.mplot3d import Axes3D\n",
    "import matplotlib.pyplot as plt\n",
    "from matplotlib import cm\n",
    "from matplotlib.ticker import LinearLocator, FormatStrFormatter\n",
    "import numpy as np\n",
    "\n",
    "import os\n",
    "\n",
    "import torchvision\n",
    "import torch.nn as nn\n",
    "import torch.nn.functional as F\n",
    "import torch\n",
    "torch.set_default_tensor_type(torch.DoubleTensor)\n",
    "\n",
    "import renyi\n",
    "import utils\n",
    "import sxp"
   ]
  },
  {
   "cell_type": "code",
   "execution_count": 24,
   "metadata": {},
   "outputs": [],
   "source": [
    "def rbf_kernel(X, Y, sigmas=[1.], p=2, d=2):\n",
    "\tpdist = utils.batch_pdist(X, Y, p)\n",
    "\tres = torch.zeros_like(pdist)\n",
    "\tfor sigma in sigmas:\n",
    "\t\tres += torch.exp(- (pdist/sigma)**d)\n",
    "\treturn res / len(sigmas)\n",
    "\n",
    "\n",
    "def sim_cross_entropy(K, p, q, alpha=1, normalize=False):\n",
    "\n",
    "\tp = p.transpose(0, 1)\n",
    "\tKq = K @ q.transpose(0, 1)\n",
    "\n",
    "\tif alpha == 1:\n",
    "\t\tres = -(p * torch.log(utils.min_clamp(Kq))).sum(dim=0, keepdim=True)\n",
    "\telse:\n",
    "\t\tKqa = utils.min_clamp(Kq) ** (alpha - 1)\n",
    "\t\tv = (p * Kqa).sum(dim=0, keepdim=True) \n",
    "\t\tv = torch.log(utils.min_clamp(v)) / (1 - alpha)\n",
    "\t\tres = v\n",
    "\t\n",
    "\treturn res.transpose(0, 1)"
   ]
  },
  {
   "cell_type": "code",
   "execution_count": 548,
   "metadata": {},
   "outputs": [],
   "source": [
    "def new_cross_entropy(K, p, q, alpha=1, normalize=False):\n",
    "\n",
    "\tp = p.transpose(0, 1)\n",
    "\tKq = K @ q.transpose(0, 1)\n",
    "\tKq = Kq / Kq.sum()\n",
    "        \n",
    "\tres = -(p * torch.log(Kq)).sum(dim=0, keepdim=True)\n",
    "\n",
    "\treturn res.transpose(0, 1)"
   ]
  },
  {
   "cell_type": "code",
   "execution_count": 550,
   "metadata": {},
   "outputs": [],
   "source": [
    "n, d = 10, 2\n",
    "alpha = 2\n",
    "\n",
    "X = torch.randn(n, d)\n",
    "K = rbf_kernel(X, X)\n"
   ]
  },
  {
   "cell_type": "code",
   "execution_count": 551,
   "metadata": {},
   "outputs": [
    {
     "name": "stdout",
     "output_type": "stream",
     "text": [
      "tensor([[1.2310]]) tensor([[1.1809]])\n",
      "tensor(3.2068) tensor(3.1910)\n"
     ]
    }
   ],
   "source": [
    "p = torch.tensor(np.random.dirichlet(n*[1])[None, :])\n",
    "q = torch.tensor(np.random.dirichlet(n*[1])[None, :])\n",
    "\n",
    "print(renyi.sim_entropy(K, p), renyi.sim_entropy(K, q))\n",
    "print((p @ K).sum(), (q @ K).sum())"
   ]
  },
  {
   "cell_type": "code",
   "execution_count": 552,
   "metadata": {},
   "outputs": [],
   "source": [
    "p = torch.tensor(np.random.dirichlet(n*[1])[None, :])\n",
    "\n",
    "prop1 = torch.softmax(torch.log(K @ p.transpose(0, 1)), dim=0).transpose(0, 1)\n",
    "prop2 = torch.softmax(K @ p.transpose(0, 1), dim=0).transpose(0, 1)\n",
    "prop3 = sxp.one_simplex_project((K @ p.transpose(0, 1)).transpose(0, 1))\n",
    "prop4 = sxp.one_simplex_project((torch.log(K @ p.transpose(0, 1))).transpose(0, 1))\n",
    "\n",
    "e1 = new_cross_entropy(K, p, prop1, alpha)\n",
    "e2 = new_cross_entropy(K, p, prop2, alpha)\n",
    "e3 = new_cross_entropy(K, p, prop3, alpha)\n",
    "e4 = new_cross_entropy(K, p, prop4, alpha)\n"
   ]
  },
  {
   "cell_type": "code",
   "execution_count": 553,
   "metadata": {},
   "outputs": [],
   "source": [
    "ents = []\n",
    "\n",
    "for _ in range(5000):\n",
    "    q = torch.tensor(np.random.dirichlet(n*[1])[None, :])\n",
    "    ents.append(new_cross_entropy(K, p, q, alpha).item())"
   ]
  },
  {
   "cell_type": "code",
   "execution_count": 554,
   "metadata": {},
   "outputs": [
    {
     "data": {
      "text/plain": [
       "(2.1968315633037983,\n",
       " 2.4844378867191534,\n",
       " 2.3894723125433095,\n",
       " 2.910641925560496,\n",
       " 3.236271631897462,\n",
       " 2.2668738990628996)"
      ]
     },
     "execution_count": 554,
     "metadata": {},
     "output_type": "execute_result"
    }
   ],
   "source": [
    "np.min(ents), e1.item(), e2.item(), e3.item(), e4.item(), new_cross_entropy(K, p, p).item()"
   ]
  },
  {
   "cell_type": "code",
   "execution_count": null,
   "metadata": {},
   "outputs": [],
   "source": []
  },
  {
   "cell_type": "code",
   "execution_count": 493,
   "metadata": {},
   "outputs": [],
   "source": [
    "n = 2\n",
    "alpha = 0.5\n",
    "theta = 0.6\n",
    "p = torch.tensor([[theta, 1-theta]])"
   ]
  },
  {
   "cell_type": "code",
   "execution_count": 494,
   "metadata": {},
   "outputs": [],
   "source": [
    "rs = np.linspace(0.001, 8, 100)\n",
    "rhos = []\n",
    "\n",
    "for r in rs:\n",
    "    \n",
    "    K = torch.tensor([[1, np.exp(-r)], [np.exp(-r), 1]])\n",
    "\n",
    "    logit_q = torch.nn.Parameter(0*torch.rand(1, n))\n",
    "    optimizer = torch.optim.Adam([logit_q], lr=0.01)#, amsgrad=True)\n",
    "\n",
    "    for _ in range(500):\n",
    "        optimizer.zero_grad()\n",
    "\n",
    "        q = torch.softmax(logit_q, dim=1)\n",
    "\n",
    "        loss = sim_cross_entropy(K, p, q)\n",
    "\n",
    "        loss.backward()\n",
    "        optimizer.step()\n",
    "    \n",
    "    rhos.append(q[0, 0].item())"
   ]
  },
  {
   "cell_type": "code",
   "execution_count": 495,
   "metadata": {},
   "outputs": [
    {
     "data": {
      "image/png": "[encoded data removed]",
      "text/plain": [
       "<Figure size 432x288 with 1 Axes>"
      ]
     },
     "metadata": {
      "needs_background": "light"
     },
     "output_type": "display_data"
    }
   ],
   "source": [
    "plt.plot(np.exp(-rs), rhos)\n",
    "#plt.plot(rs, np.exp(-rs))\n",
    "plt.grid()"
   ]
  },
  {
   "cell_type": "code",
   "execution_count": 458,
   "metadata": {},
   "outputs": [
    {
     "data": {
      "text/plain": [
       "tensor([[0.9987, 0.0013]], grad_fn=<SoftmaxBackward>)"
      ]
     },
     "execution_count": 458,
     "metadata": {},
     "output_type": "execute_result"
    }
   ],
   "source": [
    "r = 0.5\n",
    "K = torch.tensor([[1, np.exp(-r)], [np.exp(-r), 1]])\n",
    "\n",
    "logit_q = torch.nn.Parameter(0*torch.rand(1, n))\n",
    "optimizer = torch.optim.Adam([logit_q], lr=0.05, amsgrad=True)\n",
    "\n",
    "for _ in range(500):\n",
    "    optimizer.zero_grad()\n",
    "\n",
    "    q = torch.softmax(logit_q, dim=1)\n",
    "\n",
    "    loss = sim_cross_entropy(K, p, q)\n",
    "\n",
    "    loss.backward()\n",
    "    optimizer.step()\n",
    "q"
   ]
  },
  {
   "cell_type": "code",
   "execution_count": 455,
   "metadata": {},
   "outputs": [
    {
     "data": {
      "text/plain": [
       "tensor([[0.7639, 0.8426]])"
      ]
     },
     "execution_count": 455,
     "metadata": {},
     "output_type": "execute_result"
    }
   ],
   "source": [
    "p @ K"
   ]
  },
  {
   "cell_type": "code",
   "execution_count": 444,
   "metadata": {},
   "outputs": [
    {
     "data": {
      "text/plain": [
       "tensor([[0.6426, 0.9639]], grad_fn=<MmBackward>)"
      ]
     },
     "execution_count": 444,
     "metadata": {},
     "output_type": "execute_result"
    }
   ],
   "source": [
    "q @ K"
   ]
  },
  {
   "cell_type": "code",
   "execution_count": 430,
   "metadata": {},
   "outputs": [
    {
     "data": {
      "text/plain": [
       "(tensor([[0.0468]]), tensor([[0.0400]], grad_fn=<TransposeBackward0>))"
      ]
     },
     "execution_count": 430,
     "metadata": {},
     "output_type": "execute_result"
    }
   ],
   "source": [
    "sim_cross_entropy(K, p, p), loss"
   ]
  },
  {
   "cell_type": "code",
   "execution_count": 461,
   "metadata": {},
   "outputs": [
    {
     "data": {
      "image/png": "[encoded data removed]",
      "text/plain": [
       "<Figure size 432x288 with 1 Axes>"
      ]
     },
     "metadata": {
      "needs_background": "light"
     },
     "output_type": "display_data"
    }
   ],
   "source": []
  },
  {
   "cell_type": "code",
   "execution_count": 318,
   "metadata": {},
   "outputs": [],
   "source": [
    "num = (1-theta)**(alpha-2) - np.exp(-r) * theta**(alpha-2)\n",
    "den = (1- np.exp(-r)) * ((1-theta)**(alpha-2) - theta**(alpha-2))\n",
    "rat = num/den"
   ]
  },
  {
   "cell_type": "code",
   "execution_count": 319,
   "metadata": {},
   "outputs": [
    {
     "data": {
      "text/plain": [
       "1.5003355752008414"
      ]
     },
     "execution_count": 319,
     "metadata": {},
     "output_type": "execute_result"
    }
   ],
   "source": [
    "rat"
   ]
  },
  {
   "cell_type": "code",
   "execution_count": null,
   "metadata": {},
   "outputs": [],
   "source": []
  }
 ],
 "metadata": {
  "kernelspec": {
   "display_name": "Python 3",
   "language": "python",
   "name": "python3"
  },
  "language_info": {
   "codemirror_mode": {
    "name": "ipython",
    "version": 3
   },
   "file_extension": ".py",
   "mimetype": "text/x-python",
   "name": "python",
   "nbconvert_exporter": "python",
   "pygments_lexer": "ipython3",
   "version": "3.7.1"
  }
 },
 "nbformat": 4,
 "nbformat_minor": 2
}
