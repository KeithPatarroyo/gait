{
 "cells": [
  {
   "cell_type": "code",
   "execution_count": 6,
   "metadata": {},
   "outputs": [
    {
     "name": "stdout",
     "output_type": "stream",
     "text": [
      "The autoreload extension is already loaded. To reload it, use:\n",
      "  %reload_ext autoreload\n"
     ]
    }
   ],
   "source": [
    "%load_ext autoreload\n",
    "%autoreload 2\n",
    "\n",
    "import itertools\n",
    "from mpl_toolkits.mplot3d import Axes3D\n",
    "import matplotlib.pyplot as plt\n",
    "from matplotlib import cm\n",
    "from matplotlib.ticker import LinearLocator, FormatStrFormatter\n",
    "import numpy as np\n",
    "\n",
    "import os\n",
    "\n",
    "import torchvision\n",
    "import torch.nn as nn\n",
    "import torch.nn.functional as F\n",
    "import torch\n",
    "torch.set_default_tensor_type(torch.DoubleTensor)\n",
    "\n",
    "import renyi\n",
    "import utils\n",
    "import sxp\n",
    "\n",
    "import gal_data\n",
    "import random\n",
    "\n",
    "seed = 0 #0\n",
    "np.random.seed(seed=seed)\n",
    "random.seed(seed)"
   ]
  },
  {
   "cell_type": "code",
   "execution_count": 7,
   "metadata": {},
   "outputs": [],
   "source": [
    "noise = 0.2\n",
    "num_classes = 3\n",
    "N_per_class = 50\n",
    "R_per_class = 30\n",
    "N_val = 50\n",
    "N_test = 100\n",
    "\n",
    "N_train = num_classes*N_per_class\n",
    "\n",
    "foo = gal_data.create_synthetic_train(num_classes=num_classes, N_per_class=N_per_class, \n",
    "                                       input_noise=noise, R_per_class=R_per_class, seed=seed)\n",
    "x_train, y_train, x_train_ordered, y_train_ordered = foo\n",
    "\n",
    "x_val, y_val = gal_data.create_synthetic_test(num_classes=num_classes, N_per_class=N_val, input_noise=noise,seed=seed)\n",
    "x_test, y_test = gal_data.create_synthetic_test(num_classes=num_classes, N_per_class=N_test, input_noise=noise,seed=seed)"
   ]
  },
  {
   "cell_type": "code",
   "execution_count": 15,
   "metadata": {},
   "outputs": [
    {
     "data": {
      "image/png": "[encoded data removed]",
      "text/plain": [
       "<Figure size 432x288 with 1 Axes>"
      ]
     },
     "metadata": {
      "needs_background": "light"
     },
     "output_type": "display_data"
    }
   ],
   "source": [
    "ax1 = plt.figure()\n",
    "plt.plot(x_train_ordered[:,0],'.',color='tab:blue',label='Signal 0')\n",
    "plt.plot(x_train_ordered[:,1],'.',color='tab:red',label='Signal 1')\n",
    "plt.plot(x_train_ordered[:,2],'.',color='tab:green',label='Signal 2')\n",
    "plt.plot(np.argmax(y_train_ordered,1),'o',alpha=0.9,color='k',markerfacecolor=\"None\",label='Class Labels')\n",
    "plt.ylim([-.6,2.1])\n",
    "labels = [' ','Class 0',' ', 'Class 1',' ', 'Class 2',' ']\n",
    "x = [0, 25,50,75,100,125,150]\n",
    "plt.xticks(x, labels, rotation='horizontal')\n",
    "plt.legend(loc='upper center', ncol=4)\n",
    "\n",
    "plt.show()"
   ]
  },
  {
   "cell_type": "code",
   "execution_count": 22,
   "metadata": {},
   "outputs": [
    {
     "name": "stdout",
     "output_type": "stream",
     "text": [
      "         TRUTH\n",
      "\n",
      "P   [1.000000e+00 5.000025e-01 4.999975e-06]\n",
      "R   [0.600002   1.         0.65000175]\n",
      "E   [0.55000225 0.7000015  1.        ]\n"
     ]
    }
   ],
   "source": [
    "M = 2.00001\n",
    "util_mat = (M - np.array([[0,1,2],[0.8,0,0.7],[0.9,0.6,0]])) / M\n",
    "\n",
    "\n",
    "print(\"         TRUTH\\n\" )\n",
    "print('P  ', util_mat[0])\n",
    "print('R  ', util_mat[1])\n",
    "print('E  ', util_mat[2])\n",
    "\n",
    "\n",
    "# Set up weight for weighted cross entropy\n",
    "class_weight = {0 : 1.,\n",
    "    1: 2,\n",
    "    2: 2}"
   ]
  },
  {
   "cell_type": "code",
   "execution_count": 286,
   "metadata": {},
   "outputs": [],
   "source": [
    "def simdiv(K, p, q, alpha=2, use_avg=False):\n",
    "    tK = K.transpose(0, 1)\n",
    "    pK = p @ tK\n",
    "    qK = q @ tK\n",
    "\n",
    "    if use_avg:\n",
    "        r = (p + q) / 2\n",
    "        rK = r @ tK\n",
    "        rat1 = pK / utils.min_clamp(rK)\n",
    "        rat2 = qK / utils.min_clamp(rK)\n",
    "    else:   \n",
    "        rat1 = pK / utils.min_clamp(qK)\n",
    "        rat2 = qK / utils.min_clamp(pK)\n",
    "    \n",
    "    if np.allclose(alpha, 1.0):            \n",
    "        dp1 = (p * torch.log(utils.min_clamp(rat1))).sum(dim=1)\n",
    "        dp2 = 0+(q * torch.log(utils.min_clamp(rat2))).sum(dim=1)\n",
    "        \n",
    "        return dp1 + dp2\n",
    "    else:    \n",
    "        dp1 = (p * rat1**(alpha-1)).sum(dim=1)\n",
    "        dp2 = 1*(q * rat2**(alpha-1)).sum(dim=1)\n",
    "\n",
    "        return 1/(alpha - 1) * (torch.log(dp1) + torch.log(dp2))"
   ]
  },
  {
   "cell_type": "code",
   "execution_count": null,
   "metadata": {},
   "outputs": [],
   "source": []
  },
  {
   "cell_type": "code",
   "execution_count": 426,
   "metadata": {},
   "outputs": [],
   "source": [
    "class LR(torch.nn.Module):\n",
    "    def __init__(self, in_feats, out_classes):\n",
    "        super(LR, self).__init__()\n",
    "        self.linear = torch.nn.Linear(in_feats, out_classes)\n",
    "        \n",
    "    def forward(self, x, apply_softmax=True):\n",
    "        y_pred = self.linear(x)\n",
    "        if apply_softmax:\n",
    "            return torch.softmax(y_pred, dim=1)\n",
    "        else:\n",
    "            return y_pred\n",
    "\n",
    "class MLP(torch.nn.Module):\n",
    "    def __init__(self, in_feats, h_dim, out_classes):\n",
    "        super(MLP, self).__init__()\n",
    "        self.linear1 = torch.nn.Linear(in_feats, h_dim)\n",
    "        self.linear2 = torch.nn.Linear(h_dim, out_classes)\n",
    "        \n",
    "    def forward(self, x, apply_softmax=True):\n",
    "        y_pred = torch.relu(self.linear1(x))\n",
    "        y_pred = self.linear2(y_pred)\n",
    "        \n",
    "        if apply_softmax:\n",
    "            return torch.softmax(y_pred, dim=1)\n",
    "        else:\n",
    "            return y_pred"
   ]
  },
  {
   "cell_type": "code",
   "execution_count": 427,
   "metadata": {},
   "outputs": [],
   "source": [
    "from sklearn.metrics import confusion_matrix"
   ]
  },
  {
   "cell_type": "code",
   "execution_count": 480,
   "metadata": {},
   "outputs": [],
   "source": [
    "model = MLP(3, 100, 3)\n",
    "\n",
    "# Util matrix is set up as (pred, true), tranpose so that internal\n",
    "# transpose gets undone\n",
    "K = torch.tensor(util_mat.transpose(0, 1)) #\n",
    "p = torch.tensor(y_train)\n",
    "\n",
    "optim = torch.optim.Adam(model.parameters(), lr=0.05, amsgrad=True)\n",
    "\n",
    "q = model(torch.tensor(x_train), False)\n",
    "confusion_matrix(np.argmax(y_train, axis=1), np.argmax(q.data.numpy(), axis=1))\n",
    "\n",
    "BCELoss = torch.nn.BCEWithLogitsLoss()\n",
    "\n",
    "loss_log = []"
   ]
  },
  {
   "cell_type": "code",
   "execution_count": 481,
   "metadata": {},
   "outputs": [],
   "source": [
    "#simdiv(K, p, q, 1, True)"
   ]
  },
  {
   "cell_type": "code",
   "execution_count": 485,
   "metadata": {},
   "outputs": [
    {
     "name": "stdout",
     "output_type": "stream",
     "text": [
      "\n",
      "Down true, hor pred\n"
     ]
    },
    {
     "data": {
      "text/plain": [
       "array([[1., 0., 0.],\n",
       "       [0., 1., 0.],\n",
       "       [0., 0., 1.]])"
      ]
     },
     "execution_count": 485,
     "metadata": {},
     "output_type": "execute_result"
    },
    {
     "data": {
      "image/png": "[encoded data removed]",
      "text/plain": [
       "<Figure size 432x288 with 1 Axes>"
      ]
     },
     "metadata": {
      "needs_background": "light"
     },
     "output_type": "display_data"
    }
   ],
   "source": [
    "\n",
    "for op_step in range(1000):\n",
    "    optim.zero_grad()\n",
    "    q = model(torch.tensor(x_train), False)\n",
    "    \n",
    "    loss = BCELoss(q, p)\n",
    "    \n",
    "    #loss = simdiv(K, p, q, 3, True).mean()\n",
    "    loss.backward()\n",
    "    optim.step()\n",
    "    \n",
    "    loss_log.append(loss.item())\n",
    "\n",
    "plt.plot(loss_log)    \n",
    "\n",
    "q = model(torch.tensor(x_train))\n",
    "print(\"\\nDown true, hor pred\")\n",
    "cm = confusion_matrix(np.argmax(y_train, axis=1), np.argmax(q.data.numpy(), axis=1))\n",
    "cm = cm.astype('float') / cm.sum(axis=1)[:, np.newaxis]\n",
    "\n",
    "cm"
   ]
  },
  {
   "cell_type": "code",
   "execution_count": null,
   "metadata": {},
   "outputs": [],
   "source": []
  }
 ],
 "metadata": {
  "kernelspec": {
   "display_name": "Python 3",
   "language": "python",
   "name": "python3"
  },
  "language_info": {
   "codemirror_mode": {
    "name": "ipython",
    "version": 3
   },
   "file_extension": ".py",
   "mimetype": "text/x-python",
   "name": "python",
   "nbconvert_exporter": "python",
   "pygments_lexer": "ipython3",
   "version": "3.7.1"
  }
 },
 "nbformat": 4,
 "nbformat_minor": 2
}
