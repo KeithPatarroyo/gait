{
 "cells": [
  {
   "cell_type": "code",
   "execution_count": 682,
   "metadata": {},
   "outputs": [
    {
     "name": "stdout",
     "output_type": "stream",
     "text": [
      "The autoreload extension is already loaded. To reload it, use:\n",
      "  %reload_ext autoreload\n"
     ]
    }
   ],
   "source": [
    "%load_ext autoreload\n",
    "%autoreload 2\n",
    "\n",
    "import itertools\n",
    "from mpl_toolkits.mplot3d import Axes3D\n",
    "import matplotlib.pyplot as plt\n",
    "from matplotlib import cm\n",
    "from matplotlib.ticker import LinearLocator, FormatStrFormatter\n",
    "import numpy as np\n",
    "\n",
    "import os\n",
    "\n",
    "import torchvision\n",
    "import torch.nn as nn\n",
    "import torch.nn.functional as F\n",
    "import torch\n",
    "torch.set_default_tensor_type(torch.DoubleTensor)\n",
    "\n",
    "import renyi\n",
    "import utils\n",
    "import sxp\n",
    "\n",
    "from time import time"
   ]
  },
  {
   "cell_type": "code",
   "execution_count": 693,
   "metadata": {},
   "outputs": [],
   "source": [
    "os.makedirs('./data/mnist', exist_ok=True)\n",
    "\n",
    "mnist = torch.utils.data.DataLoader(torchvision.datasets.MNIST('./data/mnist', train=True, download=True,))\n",
    "\n",
    "letters = torch.utils.data.DataLoader(torchvision.datasets.EMNIST('./data/emnist', 'letters', train=True, download=True,))\n",
    "\n",
    "fashion = torch.utils.data.DataLoader(torchvision.datasets.FashionMNIST('./data/fashion', train=True, download=True))"
   ]
  },
  {
   "cell_type": "code",
   "execution_count": 694,
   "metadata": {},
   "outputs": [],
   "source": [
    "def img_mixture_divergence(mu, nu, alpha, kernel, img_shape=None, use_avg=True):   \n",
    "    \n",
    "    Kmu = img_kernel(mu)\n",
    "    Knu = img_kernel(nu)\n",
    "\n",
    "    if use_avg:\n",
    "        r = (mu + nu) / 2\n",
    "        Kr = img_kernel(r)\n",
    "        rat1 = Kmu / utils.min_clamp(Kr)\n",
    "        rat2 = Knu / utils.min_clamp(Kr)\n",
    "    else:\n",
    "        rat1 = Kmu / utils.min_clamp(Knu)\n",
    "        rat2 = Knu / utils.min_clamp(Kmu)\n",
    "    \n",
    "    rat1 = utils.min_clamp(rat1)\n",
    "    rat2 = utils.min_clamp(rat2)\n",
    "    \n",
    "    if alpha == 1:\n",
    "        u = (mu * torch.log(rat1)).sum(dim=-1).sum(dim=-1)\n",
    "        v = (nu * torch.log(rat2)).sum(dim=-1).sum(dim=-1)\n",
    "\n",
    "        return (u + v)\n",
    "    else:\n",
    "        \n",
    "        u = (mu * rat1**(alpha-1)).sum(dim=-1).sum(dim=-1)\n",
    "        u = torch.log(utils.min_clamp(u))\n",
    "\n",
    "        v = (nu * rat2**(alpha-1)).sum(dim=-1).sum(dim=-1)\n",
    "        v = torch.log(utils.min_clamp(v))\n",
    "\n",
    "        return (u + v) / (alpha - 1)\n",
    "\n",
    "def sample_and_resize(D, img_size, num_samples=1):\n",
    "    res = []\n",
    "    for _ in range(num_samples):\n",
    "        ix = int(np.random.choice(len(D), 1))\n",
    "        sample_img = D[ix, ...].data.numpy()\n",
    "        #sample_img = tform(sample_img)[0, ...].data.numpy()\n",
    "        if img_size != 28:\n",
    "            sample_img = resize(sample_img, (img_size, img_size), mode='constant')\n",
    "        sample_img = np.abs(sample_img) / np.abs(sample_img).sum()\n",
    "        res.append(sample_img)\n",
    "    return torch.tensor(res).double()"
   ]
  },
  {
   "cell_type": "code",
   "execution_count": 695,
   "metadata": {},
   "outputs": [],
   "source": [
    "from skimage.transform import resize\n",
    "\n",
    "img_size = 28#50\n",
    "# Z = torch.tensor(np.array(list(itertools.product(np.linspace(0, 1, img_size), np.linspace(0, 1, img_size))))).double()\n",
    "# K = rbf_kernel(torch.cat((Z, Z)),  [0.1], 2).double()\n",
    "# old_kernel = lambda x: K\n",
    "\n",
    "[Ygrid, Xgrid] = np.meshgrid(np.linspace(0, 1, img_size), np.linspace(0, 1, img_size))\n",
    "Kmat = np.exp(-np.abs(Xgrid - Ygrid)**2/(0.04**2))\n",
    "#Kmat = 1 / (1 + np.abs(Xgrid - Ygrid)**0.01)\n",
    "Kmat = torch.tensor(Kmat)\n",
    "\n",
    "img_kernel = lambda x: torch.matmul(torch.matmul(Kmat, x), Kmat)\n",
    "\n",
    "#plt.imshow(img_kernel(utils.draw_circle(img_size)))\n",
    "\n",
    "tform = torchvision.transforms.Compose(\n",
    "                      [torchvision.transforms.ToPILImage(),\n",
    "                       torchvision.transforms.RandomAffine(10, translate=(0., 0.), scale=(0.5, 1), shear=0, resample=False, fillcolor=0),\n",
    "                       torchvision.transforms.ToTensor()\n",
    "                      ])"
   ]
  },
  {
   "cell_type": "code",
   "execution_count": 696,
   "metadata": {},
   "outputs": [],
   "source": [
    "# plt.imshow(Kmat)\n",
    "# plt.colorbar()"
   ]
  },
  {
   "cell_type": "code",
   "execution_count": 704,
   "metadata": {
    "scrolled": false
   },
   "outputs": [
    {
     "name": "stdout",
     "output_type": "stream",
     "text": [
      "0 - 0 - 1.0230\n",
      "0 - 50 - 0.1748\n",
      "0 - 100 - 0.2926\n",
      "0 - 150 - 0.2488\n",
      "0 - 200 - 0.2304\n",
      "Class time:  2.7047698497772217\n",
      "1 - 0 - 1.4651\n",
      "1 - 50 - 0.2152\n",
      "1 - 100 - 0.1592\n",
      "1 - 150 - 0.1855\n",
      "1 - 200 - 0.1977\n",
      "Class time:  3.1171793937683105\n",
      "2 - 0 - 0.7858\n",
      "2 - 50 - 0.2357\n",
      "2 - 100 - 0.2042\n",
      "2 - 150 - 0.1815\n",
      "2 - 200 - 0.2237\n",
      "Class time:  3.2189979553222656\n",
      "3 - 0 - 1.2780\n",
      "3 - 50 - 0.3336\n",
      "3 - 100 - 0.2677\n",
      "3 - 150 - 0.3102\n",
      "3 - 200 - 0.3328\n",
      "Class time:  3.100709915161133\n",
      "4 - 0 - 0.9289\n",
      "4 - 50 - 0.2144\n",
      "4 - 100 - 0.2101\n",
      "4 - 150 - 0.2365\n",
      "4 - 200 - 0.2467\n",
      "Class time:  3.2722513675689697\n",
      "5 - 0 - 1.6870\n",
      "5 - 50 - 0.9749\n",
      "5 - 100 - 0.9714\n",
      "5 - 150 - 0.8856\n",
      "5 - 200 - 0.9502\n",
      "Class time:  3.6582207679748535\n",
      "6 - 0 - 0.8628\n",
      "6 - 50 - 0.2867\n",
      "6 - 100 - 0.3044\n",
      "6 - 150 - 0.2063\n",
      "6 - 200 - 0.2842\n",
      "Class time:  3.7040958404541016\n",
      "7 - 0 - 1.6023\n",
      "7 - 50 - 0.3637\n",
      "7 - 100 - 0.3120\n",
      "7 - 150 - 0.3613\n",
      "7 - 200 - 0.3267\n",
      "Class time:  5.063462972640991\n",
      "8 - 0 - 0.9313\n",
      "8 - 50 - 0.5559\n",
      "8 - 100 - 0.4789\n",
      "8 - 150 - 0.5191\n",
      "8 - 200 - 0.5661\n",
      "Class time:  3.224379301071167\n",
      "9 - 0 - 1.2633\n",
      "9 - 50 - 0.3961\n",
      "9 - 100 - 0.3893\n",
      "9 - 150 - 0.3286\n",
      "9 - 200 - 0.3653\n",
      "Class time:  3.2622785568237305\n"
     ]
    }
   ],
   "source": [
    "alpha = 2.\n",
    "\n",
    "barys = []\n",
    "\n",
    "data = fashion\n",
    "\n",
    "for digit in range(0, 10):\n",
    "    start = time()\n",
    "    ix = data.dataset.train_labels == digit\n",
    "    D = data.dataset.train_data[ix].view(-1, 28, 28).float()\n",
    "    \n",
    "    # for EMNIST\n",
    "    #D = data.dataset.train_data[ix].view(-1, 28, 28).transpose(-1, -2).float()\n",
    "    \n",
    "    logit_mu = torch.nn.Parameter(torch.rand(1, img_size*img_size))\n",
    "    temp = torch.nn.Parameter(torch.tensor(1.))\n",
    "\n",
    "    optimizer = torch.optim.Adam([logit_mu, temp], lr=0.05, amsgrad=False)\n",
    "    #optimizer = torch.optim.RMSprop([logit_mu, temp], lr=0.05)\n",
    "    \n",
    "    for i in range(250):\n",
    "\n",
    "        optimizer.zero_grad()\n",
    "        \n",
    "        mu = torch.softmax(logit_mu /  torch.exp(temp), dim=1).view(1, img_size, img_size) \n",
    "        nu = sample_and_resize(D[0:-1, ...], img_size, 32)\n",
    "        \n",
    "        l1 = img_mixture_divergence(mu, nu, alpha, kernel=img_kernel, use_avg=True).mean()\n",
    "        l2 = img_mixture_divergence(mu, mu, alpha, kernel=img_kernel, use_avg=True).mean()\n",
    "        l3 = img_mixture_divergence(nu, nu, alpha, kernel=img_kernel, use_avg=True).mean()\n",
    "        \n",
    "        loss = 2*l1 - l2 - l3 \n",
    "        \n",
    "        if i % 50 == 0:\n",
    "            print(\"%d - %d - %.4f\" % (digit, i, loss.item()))\n",
    "\n",
    "        if False and i % 200 == 0:\n",
    "            mu = torch.softmax(logit_mu, dim=1).view(img_size, img_size).data\n",
    "            plt.figure(figsize=(2, 2))\n",
    "            plt.imshow(mu, cmap='hot_r');\n",
    "            plt.show()\n",
    "\n",
    "        loss.backward()\n",
    "        optimizer.step()\n",
    "    \n",
    "    mu = torch.softmax(logit_mu /  torch.exp(temp), dim=1).view(img_size, img_size)\n",
    "    barys.append(mu.data)\n",
    "    \n",
    "    print('Class time: ', time()-start)"
   ]
  },
  {
   "cell_type": "code",
   "execution_count": 703,
   "metadata": {},
   "outputs": [
    {
     "data": {
      "image/png": "[encoded data removed]",
      "text/plain": [
       "<Figure size 864x216 with 1 Axes>"
      ]
     },
     "metadata": {
      "needs_background": "light"
     },
     "output_type": "display_data"
    }
   ],
   "source": [
    "plt.figure(figsize=(1.2*len(barys), 3))\n",
    "cat_barys = torch.cat( [ (_ - _.min()) / (_.max() - _.min())   for _ in barys], dim=1)\n",
    "plt.imshow(cat_barys, cmap='gray_r')\n",
    "plt.axis('off')\n",
    "plt.show()"
   ]
  },
  {
   "cell_type": "code",
   "execution_count": 690,
   "metadata": {},
   "outputs": [
    {
     "data": {
      "image/png": "[encoded data removed]",
      "text/plain": [
       "<Figure size 864x144 with 1 Axes>"
      ]
     },
     "metadata": {
      "needs_background": "light"
     },
     "output_type": "display_data"
    }
   ],
   "source": [
    "toshow = []\n",
    "for digit in range(0, 10):\n",
    "    ix = data.dataset.train_labels == digit\n",
    "    D = data.dataset.train_data[ix].view(-1, 28, 28).float()\n",
    "    toshow.append(D[np.random.choice(D.shape[0])])\n",
    "    \n",
    "plt.figure(figsize=(12, 2))\n",
    "#toshow = D[np.random.choice(D.shape[0])] / D[np.random.choice(D.shape[0])].sum() \n",
    "plt.imshow(torch.cat(toshow, dim=1).data.numpy(), cmap='gray_r')\n",
    "plt.axis('off')\n",
    "plt.show()"
   ]
  },
  {
   "cell_type": "code",
   "execution_count": null,
   "metadata": {},
   "outputs": [],
   "source": []
  }
 ],
 "metadata": {
  "kernelspec": {
   "display_name": "Python 3",
   "language": "python",
   "name": "python3"
  },
  "language_info": {
   "codemirror_mode": {
    "name": "ipython",
    "version": 3
   },
   "file_extension": ".py",
   "mimetype": "text/x-python",
   "name": "python",
   "nbconvert_exporter": "python",
   "pygments_lexer": "ipython3",
   "version": "3.7.1"
  }
 },
 "nbformat": 4,
 "nbformat_minor": 2
}
