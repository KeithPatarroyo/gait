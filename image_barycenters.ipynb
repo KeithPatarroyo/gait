{
 "cells": [
  {
   "cell_type": "code",
   "execution_count": 4,
   "metadata": {},
   "outputs": [],
   "source": [
    "%load_ext autoreload\n",
    "%autoreload 2\n",
    "\n",
    "import itertools\n",
    "from mpl_toolkits.mplot3d import Axes3D\n",
    "import matplotlib.pyplot as plt\n",
    "from matplotlib import cm\n",
    "from matplotlib.ticker import LinearLocator, FormatStrFormatter\n",
    "import numpy as np\n",
    "\n",
    "import os\n",
    "\n",
    "import torchvision\n",
    "import torch.nn as nn\n",
    "import torch.nn.functional as F\n",
    "import torch\n",
    "torch.set_default_tensor_type(torch.DoubleTensor)\n",
    "\n",
    "import renyi\n",
    "import utils\n",
    "import sxp\n",
    "\n",
    "from time import time"
   ]
  },
  {
   "cell_type": "code",
   "execution_count": 5,
   "metadata": {},
   "outputs": [],
   "source": [
    "os.makedirs('./data/mnist', exist_ok=True)\n",
    "\n",
    "mnist = torch.utils.data.DataLoader(torchvision.datasets.MNIST('./data/mnist', train=True, download=True,))\n",
    "\n",
    "letters = torch.utils.data.DataLoader(torchvision.datasets.EMNIST('./data/emnist', 'letters', train=True, download=True,))\n",
    "\n",
    "fashion = torch.utils.data.DataLoader(torchvision.datasets.FashionMNIST('./data/fashion', train=True, download=True))"
   ]
  },
  {
   "cell_type": "code",
   "execution_count": 76,
   "metadata": {},
   "outputs": [],
   "source": [
    "def img_mixture_mink_divergence(p, q, alpha, kernel):   \n",
    "    \n",
    "    iKp = kernel(p)\n",
    "    iKq = kernel(q)\n",
    "    diff = torch.abs(iKp - iKq) ** alpha\n",
    "    div =  (p * diff).sum(dim=1).sum(dim=1) ** (1 / alpha)\n",
    "    return div"
   ]
  },
  {
   "cell_type": "code",
   "execution_count": 71,
   "metadata": {},
   "outputs": [
    {
     "data": {
      "text/plain": [
       "tensor(nan, grad_fn=<MeanBackward1>)"
      ]
     },
     "execution_count": 71,
     "metadata": {},
     "output_type": "execute_result"
    }
   ],
   "source": [
    "img_mixture_mink_divergence(nu, mu, alpha, kernel=img_kernel).mean()"
   ]
  },
  {
   "cell_type": "code",
   "execution_count": null,
   "metadata": {},
   "outputs": [],
   "source": []
  },
  {
   "cell_type": "code",
   "execution_count": 7,
   "metadata": {},
   "outputs": [],
   "source": [
    "def img_mixture_divergence(mu, nu, alpha, kernel, img_shape=None, use_avg=True):   \n",
    "    \n",
    "    Kmu = kernel(mu)\n",
    "    Knu = kernel(nu)\n",
    "\n",
    "    if use_avg:\n",
    "        r = (mu + nu) / 2\n",
    "        Kr = kernel(r)\n",
    "        rat1 = Kmu / utils.min_clamp(Kr)\n",
    "        rat2 = Knu / utils.min_clamp(Kr)\n",
    "    else:\n",
    "        rat1 = Kmu / utils.min_clamp(Knu)\n",
    "        rat2 = Knu / utils.min_clamp(Kmu)\n",
    "    \n",
    "    rat1 = utils.min_clamp(rat1)\n",
    "    rat2 = utils.min_clamp(rat2)\n",
    "    \n",
    "    if alpha == 1:\n",
    "        u = (mu * torch.log(rat1)).sum(dim=-1).sum(dim=-1)\n",
    "        v = (nu * torch.log(rat2)).sum(dim=-1).sum(dim=-1)\n",
    "\n",
    "        return (u + v)\n",
    "    else:\n",
    "        \n",
    "        u = (mu * rat1**(alpha-1)).sum(dim=-1).sum(dim=-1)\n",
    "        u = torch.log(utils.min_clamp(u))\n",
    "\n",
    "        v = (nu * rat2**(alpha-1)).sum(dim=-1).sum(dim=-1)\n",
    "        v = torch.log(utils.min_clamp(v))\n",
    "\n",
    "        return (u + v) / (alpha - 1)\n",
    "\n",
    "def sample_and_resize(D, img_size, num_samples=1):\n",
    "    res = []\n",
    "    for _ in range(num_samples):\n",
    "        ix = int(np.random.choice(len(D), 1))\n",
    "        sample_img = D[ix, ...].data.numpy()\n",
    "        #sample_img = tform(sample_img)[0, ...].data.numpy()\n",
    "        if img_size != 28:\n",
    "            sample_img = resize(sample_img, (img_size, img_size), mode='constant')\n",
    "        sample_img = np.abs(sample_img) / np.abs(sample_img).sum()\n",
    "        res.append(sample_img)\n",
    "    return torch.tensor(res).double()"
   ]
  },
  {
   "cell_type": "code",
   "execution_count": 87,
   "metadata": {},
   "outputs": [],
   "source": [
    "from skimage.transform import resize\n",
    "\n",
    "img_size = 28#50\n",
    "# Z = torch.tensor(np.array(list(itertools.product(np.linspace(0, 1, img_size), np.linspace(0, 1, img_size))))).double()\n",
    "# K = rbf_kernel(torch.cat((Z, Z)),  [0.1], 2).double()\n",
    "# old_kernel = lambda x: K\n",
    "\n",
    "[Ygrid, Xgrid] = np.meshgrid(np.linspace(0, 1, img_size), np.linspace(0, 1, img_size))\n",
    "Kmat = np.exp(-np.abs(Xgrid - Ygrid)**2/(0.01**2))\n",
    "#Kmat = 1 / (1 + np.abs(Xgrid - Ygrid)**0.01)\n",
    "Kmat = torch.tensor(Kmat)\n",
    "\n",
    "img_kernel = lambda x: torch.matmul(torch.matmul(Kmat, x), Kmat)\n",
    "\n",
    "#plt.imshow(img_kernel(utils.draw_circle(img_size)))\n",
    "\n",
    "tform = torchvision.transforms.Compose(\n",
    "                      [torchvision.transforms.ToPILImage(),\n",
    "                       torchvision.transforms.RandomAffine(10, translate=(0., 0.), scale=(0.5, 1), shear=0, resample=False, fillcolor=0),\n",
    "                       torchvision.transforms.ToTensor()\n",
    "                      ])"
   ]
  },
  {
   "cell_type": "code",
   "execution_count": 88,
   "metadata": {},
   "outputs": [
    {
     "data": {
      "text/plain": [
       "<matplotlib.colorbar.Colorbar at 0x26f4c805c88>"
      ]
     },
     "execution_count": 88,
     "metadata": {},
     "output_type": "execute_result"
    },
    {
     "data": {
      "image/png": "[encoded data removed]",
      "text/plain": [
       "<Figure size 432x288 with 2 Axes>"
      ]
     },
     "metadata": {
      "needs_background": "light"
     },
     "output_type": "display_data"
    }
   ],
   "source": [
    "plt.imshow(Kmat)\n",
    "plt.colorbar()"
   ]
  },
  {
   "cell_type": "code",
   "execution_count": 102,
   "metadata": {
    "scrolled": false
   },
   "outputs": [
    {
     "name": "stdout",
     "output_type": "stream",
     "text": [
      "0 - 0 - 0.0052\n",
      "0 - 50 - 0.0032\n",
      "0 - 100 - 0.0030\n",
      "0 - 150 - 0.0028\n",
      "0 - 200 - 0.0035\n",
      "Class time:  2.8203608989715576\n",
      "1 - 0 - 0.0151\n",
      "1 - 50 - 0.0075\n",
      "1 - 100 - 0.0077\n",
      "1 - 150 - 0.0075\n",
      "1 - 200 - 0.0067\n",
      "Class time:  2.814506769180298\n",
      "2 - 0 - 0.0071\n",
      "2 - 50 - 0.0040\n",
      "2 - 100 - 0.0038\n",
      "2 - 150 - 0.0043\n",
      "2 - 200 - 0.0041\n",
      "Class time:  2.896674156188965\n",
      "3 - 0 - 0.0066\n",
      "3 - 50 - 0.0040\n",
      "3 - 100 - 0.0038\n",
      "3 - 150 - 0.0041\n",
      "3 - 200 - 0.0034\n",
      "Class time:  2.8229384422302246\n",
      "4 - 0 - 0.0094\n",
      "4 - 50 - 0.0046\n",
      "4 - 100 - 0.0055\n",
      "4 - 150 - 0.0044\n",
      "4 - 200 - 0.0044\n",
      "Class time:  2.787363052368164\n",
      "5 - 0 - 0.0077\n",
      "5 - 50 - 0.0047\n",
      "5 - 100 - 0.0044\n",
      "5 - 150 - 0.0051\n",
      "5 - 200 - 0.0046\n",
      "Class time:  2.804138660430908\n",
      "6 - 0 - 0.0072\n",
      "6 - 50 - 0.0040\n",
      "6 - 100 - 0.0047\n",
      "6 - 150 - 0.0035\n",
      "6 - 200 - 0.0037\n",
      "Class time:  2.788038730621338\n",
      "7 - 0 - 0.0091\n",
      "7 - 50 - 0.0048\n",
      "7 - 100 - 0.0049\n",
      "7 - 150 - 0.0056\n",
      "7 - 200 - 0.0044\n",
      "Class time:  2.765273094177246\n",
      "8 - 0 - 0.0064\n",
      "8 - 50 - 0.0040\n",
      "8 - 100 - 0.0039\n",
      "8 - 150 - 0.0039\n",
      "8 - 200 - 0.0037\n",
      "Class time:  2.816505193710327\n",
      "9 - 0 - 0.0074\n",
      "9 - 50 - 0.0050\n",
      "9 - 100 - 0.0045\n",
      "9 - 150 - 0.0044\n",
      "9 - 200 - 0.0048\n",
      "Class time:  2.830578565597534\n"
     ]
    }
   ],
   "source": [
    "alpha = 1\n",
    "\n",
    "barys = []\n",
    "\n",
    "data = mnist\n",
    "\n",
    "for digit in range(0, 10):\n",
    "    start = time()\n",
    "    ix = data.dataset.train_labels == digit\n",
    "    D = data.dataset.train_data[ix].view(-1, 28, 28).float()\n",
    "    \n",
    "    # for EMNIST\n",
    "    #D = data.dataset.train_data[ix].view(-1, 28, 28).transpose(-1, -2).float()\n",
    "    \n",
    "    logit_mu = torch.nn.Parameter(torch.rand(1, img_size*img_size))\n",
    "    temp = torch.nn.Parameter(torch.tensor(1.))\n",
    "\n",
    "    optimizer = torch.optim.Adam([logit_mu, temp], lr=0.05, amsgrad=True)\n",
    "    #optimizer = torch.optim.RMSprop([logit_mu, temp], lr=0.05)\n",
    "    \n",
    "    for i in range(250):\n",
    "\n",
    "        optimizer.zero_grad()\n",
    "        \n",
    "        mu = torch.softmax(logit_mu /  torch.exp(temp), dim=1).view(1, img_size, img_size) \n",
    "        nu = sample_and_resize(D[0:-1, ...], img_size, 32)\n",
    "        \n",
    "        l3 = img_mixture_mink_divergence(nu, mu, alpha, kernel=img_kernel).mean()\n",
    "        #l3 = l3 + img_mixture_mink_divergence(mu, nu, alpha, kernel=img_kernel).mean()\n",
    "        \n",
    "#         l1 = img_mixture_divergence(nu, nu, alpha, kernel=img_kernel, use_avg=True).mean()\n",
    "#         l2 = img_mixture_divergence(mu, mu, alpha, kernel=img_kernel, use_avg=True).mean()\n",
    "#         l3 = img_mixture_divergence(nu, mu, alpha, kernel=img_kernel, use_avg=True).mean()\n",
    "        loss = l3 #- l1 - l2 \n",
    "        \n",
    "        if i % 50 == 0:\n",
    "            print(\"%d - %d - %.4f\" % (digit, i, loss.item()))\n",
    "\n",
    "        if False and i % 200 == 0:\n",
    "            mu = torch.softmax(logit_mu, dim=1).view(img_size, img_size).data\n",
    "            plt.figure(figsize=(2, 2))\n",
    "            plt.imshow(mu, cmap='hot_r');\n",
    "            plt.show()\n",
    "\n",
    "        loss.backward()\n",
    "        optimizer.step()\n",
    "    \n",
    "    mu = torch.softmax(logit_mu /  torch.exp(temp), dim=1).view(img_size, img_size)\n",
    "    barys.append(mu.data)\n",
    "    \n",
    "    print('Class time: ', time()-start)"
   ]
  },
  {
   "cell_type": "code",
   "execution_count": 104,
   "metadata": {},
   "outputs": [
    {
     "data": {
      "image/png": "[encoded data removed]",
      "text/plain": [
       "<Figure size 864x216 with 1 Axes>"
      ]
     },
     "metadata": {
      "needs_background": "light"
     },
     "output_type": "display_data"
    }
   ],
   "source": [
    "plt.figure(figsize=(1.2*len(barys), 3))\n",
    "cat_barys = torch.cat( [ (_ - _.min()) / (_.max() - _.min())   for _ in barys], dim=1)\n",
    "plt.imshow(cat_barys, cmap='gray_r')\n",
    "plt.axis('off')\n",
    "plt.show()"
   ]
  },
  {
   "cell_type": "code",
   "execution_count": 103,
   "metadata": {},
   "outputs": [
    {
     "data": {
      "image/png": "[encoded data removed]",
      "text/plain": [
       "<Figure size 864x216 with 1 Axes>"
      ]
     },
     "metadata": {
      "needs_background": "light"
     },
     "output_type": "display_data"
    }
   ],
   "source": [
    "plt.figure(figsize=(1.2*len(barys), 3))\n",
    "cat_barys = torch.cat( [ (_ - _.min()) / (_.max() - _.min())   for _ in barys], dim=1)\n",
    "plt.imshow(cat_barys, cmap='hot_r')\n",
    "plt.axis('off')\n",
    "plt.show()"
   ]
  },
  {
   "cell_type": "code",
   "execution_count": 51,
   "metadata": {},
   "outputs": [
    {
     "data": {
      "image/png": "[encoded data removed]",
      "text/plain": [
       "<Figure size 172.8x216 with 1 Axes>"
      ]
     },
     "metadata": {
      "needs_background": "light"
     },
     "output_type": "display_data"
    }
   ],
   "source": [
    "plt.figure(figsize=(1.2*len(barys), 3))\n",
    "cat_barys = torch.cat( [ (_ - _.min()) / (_.max() - _.min())   for _ in barys], dim=1)\n",
    "plt.imshow(cat_barys, cmap='gray_r')\n",
    "plt.axis('off')\n",
    "plt.show()"
   ]
  },
  {
   "cell_type": "code",
   "execution_count": 690,
   "metadata": {},
   "outputs": [
    {
     "data": {
      "image/png": "[encoded data removed]",
      "text/plain": [
       "<Figure size 864x144 with 1 Axes>"
      ]
     },
     "metadata": {
      "needs_background": "light"
     },
     "output_type": "display_data"
    }
   ],
   "source": [
    "toshow = []\n",
    "for digit in range(0, 10):\n",
    "    ix = data.dataset.train_labels == digit\n",
    "    D = data.dataset.train_data[ix].view(-1, 28, 28).float()\n",
    "    toshow.append(D[np.random.choice(D.shape[0])])\n",
    "    \n",
    "plt.figure(figsize=(12, 2))\n",
    "#toshow = D[np.random.choice(D.shape[0])] / D[np.random.choice(D.shape[0])].sum() \n",
    "plt.imshow(torch.cat(toshow, dim=1).data.numpy(), cmap='gray_r')\n",
    "plt.axis('off')\n",
    "plt.show()"
   ]
  },
  {
   "cell_type": "code",
   "execution_count": null,
   "metadata": {},
   "outputs": [],
   "source": []
  }
 ],
 "metadata": {
  "kernelspec": {
   "display_name": "Python 3",
   "language": "python",
   "name": "python3"
  },
  "language_info": {
   "codemirror_mode": {
    "name": "ipython",
    "version": 3
   },
   "file_extension": ".py",
   "mimetype": "text/x-python",
   "name": "python",
   "nbconvert_exporter": "python",
   "pygments_lexer": "ipython3",
   "version": "3.7.1"
  }
 },
 "nbformat": 4,
 "nbformat_minor": 2
}
