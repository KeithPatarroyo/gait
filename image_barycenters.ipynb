{
 "cells": [
  {
   "cell_type": "code",
   "execution_count": 682,
   "metadata": {},
   "outputs": [
    {
     "name": "stdout",
     "output_type": "stream",
     "text": [
      "The autoreload extension is already loaded. To reload it, use:\n",
      "  %reload_ext autoreload\n"
     ]
    }
   ],
   "source": [
    "%load_ext autoreload\n",
    "%autoreload 2\n",
    "\n",
    "import itertools\n",
    "from mpl_toolkits.mplot3d import Axes3D\n",
    "import matplotlib.pyplot as plt\n",
    "from matplotlib import cm\n",
    "from matplotlib.ticker import LinearLocator, FormatStrFormatter\n",
    "import numpy as np\n",
    "\n",
    "import os\n",
    "\n",
    "import torchvision\n",
    "import torch.nn as nn\n",
    "import torch.nn.functional as F\n",
    "import torch\n",
    "torch.set_default_tensor_type(torch.DoubleTensor)\n",
    "\n",
    "import renyi\n",
    "import utils\n",
    "import sxp\n",
    "\n",
    "from time import time"
   ]
  },
  {
   "cell_type": "code",
   "execution_count": 693,
   "metadata": {},
   "outputs": [],
   "source": [
    "os.makedirs('./data/mnist', exist_ok=True)\n",
    "\n",
    "mnist = torch.utils.data.DataLoader(torchvision.datasets.MNIST('./data/mnist', train=True, download=True,))\n",
    "\n",
    "letters = torch.utils.data.DataLoader(torchvision.datasets.EMNIST('./data/emnist', 'letters', train=True, download=True,))\n",
    "\n",
    "fashion = torch.utils.data.DataLoader(torchvision.datasets.FashionMNIST('./data/fashion', train=True, download=True))"
   ]
  },
  {
   "cell_type": "code",
   "execution_count": 705,
   "metadata": {},
   "outputs": [],
   "source": [
    "def img_mixture_divergence(mu, nu, alpha, kernel, img_shape=None, use_avg=True):   \n",
    "    \n",
    "    Kmu = kernel(mu)\n",
    "    Knu = kernel(nu)\n",
    "\n",
    "    if use_avg:\n",
    "        r = (mu + nu) / 2\n",
    "        Kr = kernel(r)\n",
    "        rat1 = Kmu / utils.min_clamp(Kr)\n",
    "        rat2 = Knu / utils.min_clamp(Kr)\n",
    "    else:\n",
    "        rat1 = Kmu / utils.min_clamp(Knu)\n",
    "        rat2 = Knu / utils.min_clamp(Kmu)\n",
    "    \n",
    "    rat1 = utils.min_clamp(rat1)\n",
    "    rat2 = utils.min_clamp(rat2)\n",
    "    \n",
    "    if alpha == 1:\n",
    "        u = (mu * torch.log(rat1)).sum(dim=-1).sum(dim=-1)\n",
    "        v = (nu * torch.log(rat2)).sum(dim=-1).sum(dim=-1)\n",
    "\n",
    "        return (u + v)\n",
    "    else:\n",
    "        \n",
    "        u = (mu * rat1**(alpha-1)).sum(dim=-1).sum(dim=-1)\n",
    "        u = torch.log(utils.min_clamp(u))\n",
    "\n",
    "        v = (nu * rat2**(alpha-1)).sum(dim=-1).sum(dim=-1)\n",
    "        v = torch.log(utils.min_clamp(v))\n",
    "\n",
    "        return (u + v) / (alpha - 1)\n",
    "\n",
    "def sample_and_resize(D, img_size, num_samples=1):\n",
    "    res = []\n",
    "    for _ in range(num_samples):\n",
    "        ix = int(np.random.choice(len(D), 1))\n",
    "        sample_img = D[ix, ...].data.numpy()\n",
    "        #sample_img = tform(sample_img)[0, ...].data.numpy()\n",
    "        if img_size != 28:\n",
    "            sample_img = resize(sample_img, (img_size, img_size), mode='constant')\n",
    "        sample_img = np.abs(sample_img) / np.abs(sample_img).sum()\n",
    "        res.append(sample_img)\n",
    "    return torch.tensor(res).double()"
   ]
  },
  {
   "cell_type": "code",
   "execution_count": 710,
   "metadata": {},
   "outputs": [],
   "source": [
    "from skimage.transform import resize\n",
    "\n",
    "img_size = 28#50\n",
    "# Z = torch.tensor(np.array(list(itertools.product(np.linspace(0, 1, img_size), np.linspace(0, 1, img_size))))).double()\n",
    "# K = rbf_kernel(torch.cat((Z, Z)),  [0.1], 2).double()\n",
    "# old_kernel = lambda x: K\n",
    "\n",
    "[Ygrid, Xgrid] = np.meshgrid(np.linspace(0, 1, img_size), np.linspace(0, 1, img_size))\n",
    "Kmat = np.exp(-np.abs(Xgrid - Ygrid)**2/(0.04**2))\n",
    "#Kmat = 1 / (1 + np.abs(Xgrid - Ygrid)**0.01)\n",
    "Kmat = torch.tensor(Kmat)\n",
    "\n",
    "img_kernel = lambda x: torch.matmul(torch.matmul(Kmat, x), Kmat)\n",
    "\n",
    "#plt.imshow(img_kernel(utils.draw_circle(img_size)))\n",
    "\n",
    "tform = torchvision.transforms.Compose(\n",
    "                      [torchvision.transforms.ToPILImage(),\n",
    "                       torchvision.transforms.RandomAffine(10, translate=(0., 0.), scale=(0.5, 1), shear=0, resample=False, fillcolor=0),\n",
    "                       torchvision.transforms.ToTensor()\n",
    "                      ])"
   ]
  },
  {
   "cell_type": "code",
   "execution_count": 711,
   "metadata": {},
   "outputs": [],
   "source": [
    "# plt.imshow(Kmat)\n",
    "# plt.colorbar()"
   ]
  },
  {
   "cell_type": "code",
   "execution_count": 713,
   "metadata": {
    "scrolled": false
   },
   "outputs": [
    {
     "name": "stdout",
     "output_type": "stream",
     "text": [
      "0 - 0 - 0.9811\n",
      "0 - 50 - 0.2387\n",
      "0 - 100 - 0.2586\n",
      "0 - 150 - 0.1540\n",
      "0 - 200 - 0.2047\n",
      "Class time:  5.561529636383057\n",
      "1 - 0 - 1.5115\n",
      "1 - 50 - 0.1702\n",
      "1 - 100 - 0.2187\n",
      "1 - 150 - 0.2297\n",
      "1 - 200 - 0.2524\n",
      "Class time:  5.614204406738281\n",
      "2 - 0 - 0.7770\n",
      "2 - 50 - 0.2141\n",
      "2 - 100 - 0.2264\n"
     ]
    },
    {
     "ename": "KeyboardInterrupt",
     "evalue": "",
     "output_type": "error",
     "traceback": [
      "\u001b[1;31m---------------------------------------------------------------------------\u001b[0m",
      "\u001b[1;31mKeyboardInterrupt\u001b[0m                         Traceback (most recent call last)",
      "\u001b[1;32m<ipython-input-713-4c7d8174a16b>\u001b[0m in \u001b[0;36m<module>\u001b[1;34m\u001b[0m\n\u001b[0;32m     24\u001b[0m \u001b[1;33m\u001b[0m\u001b[0m\n\u001b[0;32m     25\u001b[0m         \u001b[0mmu\u001b[0m \u001b[1;33m=\u001b[0m \u001b[0mtorch\u001b[0m\u001b[1;33m.\u001b[0m\u001b[0msoftmax\u001b[0m\u001b[1;33m(\u001b[0m\u001b[0mlogit_mu\u001b[0m \u001b[1;33m/\u001b[0m  \u001b[0mtorch\u001b[0m\u001b[1;33m.\u001b[0m\u001b[0mexp\u001b[0m\u001b[1;33m(\u001b[0m\u001b[0mtemp\u001b[0m\u001b[1;33m)\u001b[0m\u001b[1;33m,\u001b[0m \u001b[0mdim\u001b[0m\u001b[1;33m=\u001b[0m\u001b[1;36m1\u001b[0m\u001b[1;33m)\u001b[0m\u001b[1;33m.\u001b[0m\u001b[0mview\u001b[0m\u001b[1;33m(\u001b[0m\u001b[1;36m1\u001b[0m\u001b[1;33m,\u001b[0m \u001b[0mimg_size\u001b[0m\u001b[1;33m,\u001b[0m \u001b[0mimg_size\u001b[0m\u001b[1;33m)\u001b[0m\u001b[1;33m\u001b[0m\u001b[1;33m\u001b[0m\u001b[0m\n\u001b[1;32m---> 26\u001b[1;33m         \u001b[0mnu\u001b[0m \u001b[1;33m=\u001b[0m \u001b[0msample_and_resize\u001b[0m\u001b[1;33m(\u001b[0m\u001b[0mD\u001b[0m\u001b[1;33m[\u001b[0m\u001b[1;36m0\u001b[0m\u001b[1;33m:\u001b[0m\u001b[1;33m-\u001b[0m\u001b[1;36m1\u001b[0m\u001b[1;33m,\u001b[0m \u001b[1;33m...\u001b[0m\u001b[1;33m]\u001b[0m\u001b[1;33m,\u001b[0m \u001b[0mimg_size\u001b[0m\u001b[1;33m,\u001b[0m \u001b[1;36m32\u001b[0m\u001b[1;33m)\u001b[0m\u001b[1;33m\u001b[0m\u001b[1;33m\u001b[0m\u001b[0m\n\u001b[0m\u001b[0;32m     27\u001b[0m \u001b[1;33m\u001b[0m\u001b[0m\n\u001b[0;32m     28\u001b[0m         \u001b[0ml1\u001b[0m \u001b[1;33m=\u001b[0m \u001b[0mimg_mixture_divergence\u001b[0m\u001b[1;33m(\u001b[0m\u001b[0mmu\u001b[0m\u001b[1;33m,\u001b[0m \u001b[0mnu\u001b[0m\u001b[1;33m,\u001b[0m \u001b[0malpha\u001b[0m\u001b[1;33m,\u001b[0m \u001b[0mkernel\u001b[0m\u001b[1;33m=\u001b[0m\u001b[0mimg_kernel\u001b[0m\u001b[1;33m,\u001b[0m \u001b[0muse_avg\u001b[0m\u001b[1;33m=\u001b[0m\u001b[1;32mTrue\u001b[0m\u001b[1;33m)\u001b[0m\u001b[1;33m.\u001b[0m\u001b[0mmean\u001b[0m\u001b[1;33m(\u001b[0m\u001b[1;33m)\u001b[0m\u001b[1;33m\u001b[0m\u001b[1;33m\u001b[0m\u001b[0m\n",
      "\u001b[1;32m<ipython-input-705-73374467f36c>\u001b[0m in \u001b[0;36msample_and_resize\u001b[1;34m(D, img_size, num_samples)\u001b[0m\n\u001b[0;32m     41\u001b[0m         \u001b[0msample_img\u001b[0m \u001b[1;33m=\u001b[0m \u001b[0mnp\u001b[0m\u001b[1;33m.\u001b[0m\u001b[0mabs\u001b[0m\u001b[1;33m(\u001b[0m\u001b[0msample_img\u001b[0m\u001b[1;33m)\u001b[0m \u001b[1;33m/\u001b[0m \u001b[0mnp\u001b[0m\u001b[1;33m.\u001b[0m\u001b[0mabs\u001b[0m\u001b[1;33m(\u001b[0m\u001b[0msample_img\u001b[0m\u001b[1;33m)\u001b[0m\u001b[1;33m.\u001b[0m\u001b[0msum\u001b[0m\u001b[1;33m(\u001b[0m\u001b[1;33m)\u001b[0m\u001b[1;33m\u001b[0m\u001b[1;33m\u001b[0m\u001b[0m\n\u001b[0;32m     42\u001b[0m         \u001b[0mres\u001b[0m\u001b[1;33m.\u001b[0m\u001b[0mappend\u001b[0m\u001b[1;33m(\u001b[0m\u001b[0msample_img\u001b[0m\u001b[1;33m)\u001b[0m\u001b[1;33m\u001b[0m\u001b[1;33m\u001b[0m\u001b[0m\n\u001b[1;32m---> 43\u001b[1;33m     \u001b[1;32mreturn\u001b[0m \u001b[0mtorch\u001b[0m\u001b[1;33m.\u001b[0m\u001b[0mtensor\u001b[0m\u001b[1;33m(\u001b[0m\u001b[0mres\u001b[0m\u001b[1;33m)\u001b[0m\u001b[1;33m.\u001b[0m\u001b[0mdouble\u001b[0m\u001b[1;33m(\u001b[0m\u001b[1;33m)\u001b[0m\u001b[1;33m\u001b[0m\u001b[1;33m\u001b[0m\u001b[0m\n\u001b[0m",
      "\u001b[1;31mKeyboardInterrupt\u001b[0m: "
     ]
    }
   ],
   "source": [
    "alpha = 2.\n",
    "\n",
    "barys = []\n",
    "\n",
    "data = fashion\n",
    "\n",
    "for digit in range(0, 10):\n",
    "    start = time()\n",
    "    ix = data.dataset.train_labels == digit\n",
    "    D = data.dataset.train_data[ix].view(-1, 28, 28).float()\n",
    "    \n",
    "    # for EMNIST\n",
    "    #D = data.dataset.train_data[ix].view(-1, 28, 28).transpose(-1, -2).float()\n",
    "    \n",
    "    logit_mu = torch.nn.Parameter(torch.rand(1, img_size*img_size))\n",
    "    temp = torch.nn.Parameter(torch.tensor(1.))\n",
    "\n",
    "    optimizer = torch.optim.Adam([logit_mu, temp], lr=0.05, amsgrad=False)\n",
    "    #optimizer = torch.optim.RMSprop([logit_mu, temp], lr=0.05)\n",
    "    \n",
    "    for i in range(250):\n",
    "\n",
    "        optimizer.zero_grad()\n",
    "        \n",
    "        mu = torch.softmax(logit_mu /  torch.exp(temp), dim=1).view(1, img_size, img_size) \n",
    "        nu = sample_and_resize(D[0:-1, ...], img_size, 32)\n",
    "        \n",
    "        l1 = img_mixture_divergence(mu, nu, alpha, kernel=img_kernel, use_avg=True).mean()\n",
    "        l2 = img_mixture_divergence(mu, mu, alpha, kernel=img_kernel, use_avg=True).mean()\n",
    "        l3 = img_mixture_divergence(nu, nu, alpha, kernel=img_kernel, use_avg=True).mean()\n",
    "        \n",
    "        loss = 2*l1 - l2 - l3 \n",
    "        \n",
    "        if i % 50 == 0:\n",
    "            print(\"%d - %d - %.4f\" % (digit, i, loss.item()))\n",
    "\n",
    "        if False and i % 200 == 0:\n",
    "            mu = torch.softmax(logit_mu, dim=1).view(img_size, img_size).data\n",
    "            plt.figure(figsize=(2, 2))\n",
    "            plt.imshow(mu, cmap='hot_r');\n",
    "            plt.show()\n",
    "\n",
    "        loss.backward()\n",
    "        optimizer.step()\n",
    "    \n",
    "    mu = torch.softmax(logit_mu /  torch.exp(temp), dim=1).view(img_size, img_size)\n",
    "    barys.append(mu.data)\n",
    "    \n",
    "    print('Class time: ', time()-start)"
   ]
  },
  {
   "cell_type": "code",
   "execution_count": 714,
   "metadata": {},
   "outputs": [
    {
     "data": {
      "image/png": "[encoded data removed]",
      "text/plain": [
       "<Figure size 172.8x216 with 1 Axes>"
      ]
     },
     "metadata": {
      "needs_background": "light"
     },
     "output_type": "display_data"
    }
   ],
   "source": [
    "plt.figure(figsize=(1.2*len(barys), 3))\n",
    "cat_barys = torch.cat( [ (_ - _.min()) / (_.max() - _.min())   for _ in barys], dim=1)\n",
    "plt.imshow(cat_barys, cmap='gray_r')\n",
    "plt.axis('off')\n",
    "plt.show()"
   ]
  },
  {
   "cell_type": "code",
   "execution_count": 690,
   "metadata": {},
   "outputs": [
    {
     "data": {
      "image/png": "[encoded data removed]",
      "text/plain": [
       "<Figure size 864x144 with 1 Axes>"
      ]
     },
     "metadata": {
      "needs_background": "light"
     },
     "output_type": "display_data"
    }
   ],
   "source": [
    "toshow = []\n",
    "for digit in range(0, 10):\n",
    "    ix = data.dataset.train_labels == digit\n",
    "    D = data.dataset.train_data[ix].view(-1, 28, 28).float()\n",
    "    toshow.append(D[np.random.choice(D.shape[0])])\n",
    "    \n",
    "plt.figure(figsize=(12, 2))\n",
    "#toshow = D[np.random.choice(D.shape[0])] / D[np.random.choice(D.shape[0])].sum() \n",
    "plt.imshow(torch.cat(toshow, dim=1).data.numpy(), cmap='gray_r')\n",
    "plt.axis('off')\n",
    "plt.show()"
   ]
  },
  {
   "cell_type": "code",
   "execution_count": null,
   "metadata": {},
   "outputs": [],
   "source": []
  }
 ],
 "metadata": {
  "kernelspec": {
   "display_name": "Python 3",
   "language": "python",
   "name": "python3"
  },
  "language_info": {
   "codemirror_mode": {
    "name": "ipython",
    "version": 3
   },
   "file_extension": ".py",
   "mimetype": "text/x-python",
   "name": "python",
   "nbconvert_exporter": "python",
   "pygments_lexer": "ipython3",
   "version": "3.7.1"
  }
 },
 "nbformat": 4,
 "nbformat_minor": 2
}
