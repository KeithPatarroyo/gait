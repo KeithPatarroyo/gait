{
 "cells": [
  {
   "cell_type": "code",
   "execution_count": 2,
   "metadata": {},
   "outputs": [],
   "source": [
    "%load_ext autoreload\n",
    "%autoreload 2\n",
    "\n",
    "import matplotlib.pyplot as plt\n",
    "import numpy as np\n",
    "import os\n",
    "\n",
    "from time import time\n",
    "\n",
    "import torchvision\n",
    "import torch.nn as nn\n",
    "import torch.nn.functional as F\n",
    "import torch\n",
    "torch.set_default_tensor_type(torch.DoubleTensor)\n",
    "\n",
    "import gait\n",
    "import utils"
   ]
  },
  {
   "cell_type": "code",
   "execution_count": 5,
   "metadata": {},
   "outputs": [],
   "source": [
    "os.makedirs('./data/mnist', exist_ok=True)\n",
    "\n",
    "mnist = torch.utils.data.DataLoader(torchvision.datasets.MNIST('./data/mnist', train=True, download=False,))\n",
    "#letters = torch.utils.data.DataLoader(torchvision.datasets.EMNIST('./data/EMNIST', 'letters', train=True, download=True,))\n",
    "#fashion = torch.utils.data.DataLoader(torchvision.datasets.FashionMNIST('./data/fashion', train=True, download=False))"
   ]
  },
  {
   "cell_type": "code",
   "execution_count": 6,
   "metadata": {},
   "outputs": [],
   "source": [
    "img_size = 28\n",
    "\n",
    "[Ygrid, Xgrid] = np.meshgrid(np.linspace(0, 1, img_size), np.linspace(0, 1, img_size))\n",
    "Kmat = np.exp(-np.abs(Xgrid - Ygrid)**2/(0.05**2))\n",
    "Kmat = torch.tensor(Kmat)\n",
    "\n",
    "img_kernel = lambda x: torch.matmul(torch.matmul(Kmat, x), Kmat)\n",
    "\n",
    "tform = torchvision.transforms.Compose(\n",
    "                      [torchvision.transforms.ToPILImage(),\n",
    "                       torchvision.transforms.RandomAffine(10, translate=(0., 0.), scale=(0.5, 1), shear=0, resample=False, fillcolor=0),\n",
    "                       torchvision.transforms.ToTensor()\n",
    "                      ])\n",
    "#plt.matshow(Kmat)\n",
    "data = mnist"
   ]
  },
  {
   "cell_type": "markdown",
   "metadata": {},
   "source": [
    "### Show data samples"
   ]
  },
  {
   "cell_type": "code",
   "execution_count": 7,
   "metadata": {},
   "outputs": [
    {
     "data": {
      "image/png": "[encoded data removed]",
      "text/plain": [
       "<Figure size 792x144 with 1 Axes>"
      ]
     },
     "metadata": {
      "needs_background": "light"
     },
     "output_type": "display_data"
    }
   ],
   "source": [
    "toshow = []\n",
    "for digit in range(0, 10):\n",
    "    ix = data.dataset.targets == digit\n",
    "    D = data.dataset.data[ix].view(-1, 28, 28).float()\n",
    "    toshow.append(D[np.random.choice(D.shape[0])])\n",
    "    \n",
    "plt.figure(figsize=(11, 2))\n",
    "plt.imshow(torch.cat(toshow, dim=1).data.numpy(), cmap='gray_r')\n",
    "plt.axis('off')\n",
    "plt.show()"
   ]
  },
  {
   "cell_type": "markdown",
   "metadata": {},
   "source": [
    "### Compute barycenters"
   ]
  },
  {
   "cell_type": "code",
   "execution_count": 9,
   "metadata": {
    "scrolled": false
   },
   "outputs": [
    {
     "name": "stdout",
     "output_type": "stream",
     "text": [
      "0 - 0 : 1.404e+00\n",
      "0 - 100 : 5.290e-01\n",
      "0 - 200 : 4.951e-01\n",
      "0 - 300 : 5.135e-01\n",
      "0 - 400 : 4.507e-01\n",
      "Class time:  6.253126859664917\n",
      "1 - 0 : 2.143e+00\n",
      "1 - 100 : 5.374e-01\n",
      "1 - 200 : 5.486e-01\n",
      "1 - 300 : 5.100e-01\n",
      "1 - 400 : 7.565e-01\n",
      "Class time:  6.263250112533569\n",
      "2 - 0 : 1.489e+00\n",
      "2 - 100 : 5.569e-01\n",
      "2 - 200 : 5.552e-01\n",
      "2 - 300 : 6.365e-01\n",
      "2 - 400 : 5.464e-01\n",
      "Class time:  6.106867551803589\n",
      "3 - 0 : 1.513e+00\n",
      "3 - 100 : 5.855e-01\n",
      "3 - 200 : 5.427e-01\n",
      "3 - 300 : 4.787e-01\n",
      "3 - 400 : 5.127e-01\n",
      "Class time:  6.367943525314331\n",
      "4 - 0 : 1.702e+00\n",
      "4 - 100 : 5.804e-01\n",
      "4 - 200 : 6.236e-01\n",
      "4 - 300 : 6.343e-01\n",
      "4 - 400 : 6.353e-01\n",
      "Class time:  6.370590925216675\n",
      "5 - 0 : 1.600e+00\n",
      "5 - 100 : 5.988e-01\n",
      "5 - 200 : 6.585e-01\n",
      "5 - 300 : 7.309e-01\n",
      "5 - 400 : 7.576e-01\n",
      "Class time:  6.655850887298584\n",
      "6 - 0 : 1.604e+00\n",
      "6 - 100 : 5.395e-01\n",
      "6 - 200 : 5.009e-01\n",
      "6 - 300 : 6.186e-01\n",
      "6 - 400 : 5.378e-01\n",
      "Class time:  6.7001893520355225\n",
      "7 - 0 : 1.788e+00\n",
      "7 - 100 : 7.068e-01\n",
      "7 - 200 : 6.484e-01\n",
      "7 - 300 : 5.483e-01\n",
      "7 - 400 : 6.800e-01\n",
      "Class time:  6.570442199707031\n",
      "8 - 0 : 1.473e+00\n",
      "8 - 100 : 5.198e-01\n",
      "8 - 200 : 4.701e-01\n",
      "8 - 300 : 4.910e-01\n",
      "8 - 400 : 4.852e-01\n",
      "Class time:  6.43403697013855\n",
      "9 - 0 : 1.641e+00\n",
      "9 - 100 : 5.990e-01\n",
      "9 - 200 : 6.613e-01\n",
      "9 - 300 : 6.183e-01\n",
      "9 - 400 : 6.405e-01\n",
      "Class time:  6.658806085586548\n"
     ]
    }
   ],
   "source": [
    "barys = []\n",
    "\n",
    "for digit in range(0, 10):\n",
    "    start = time()\n",
    "    ix = data.dataset.targets == digit\n",
    "    D = data.dataset.data[ix].view(-1, 28, 28).float()\n",
    "    \n",
    "    # for EMNIST\n",
    "    #D = data.dataset.train_data[ix].view(-1, 28, 28).transpose(-1, -2).float()\n",
    "    \n",
    "    logit_q = torch.nn.Parameter(0*torch.rand(1, img_size*img_size))\n",
    "    temp = torch.nn.Parameter(torch.tensor(0.1))\n",
    "\n",
    "    optimizer = torch.optim.Adam([logit_q, temp], lr=0.03, amsgrad=True)\n",
    "    \n",
    "    for i in range(500):\n",
    "\n",
    "        optimizer.zero_grad()\n",
    "        \n",
    "        q = torch.softmax(logit_q /  torch.exp(temp), dim=1).view(1, img_size, img_size) \n",
    "        p = utils.sample_and_resize(D[0:-1, ...], img_size, 32)\n",
    "        \n",
    "        loss = gait.breg_sim_divergence(img_kernel, p, q).mean() #this is convex\n",
    "        \n",
    "        if i % 100 == 0:\n",
    "            print(\"%d - %d : %.3e\" % (digit, i, loss.item()))\n",
    "\n",
    "        if False and i % 100 == 0:\n",
    "            q = torch.softmax(logit_q /  torch.exp(temp), dim=1).view(img_size, img_size).data\n",
    "            plt.figure(figsize=(1, 1))\n",
    "            plt.imshow(q, cmap='gray_r');\n",
    "            plt.show()\n",
    "\n",
    "        loss.backward()\n",
    "        optimizer.step()\n",
    "    \n",
    "    q = torch.softmax(logit_q /  torch.exp(temp), dim=1).view(img_size, img_size)\n",
    "    barys.append(q.data)\n",
    "    \n",
    "    print('Class time: ', time()-start)"
   ]
  },
  {
   "cell_type": "markdown",
   "metadata": {},
   "source": [
    "### Show computed barycenters"
   ]
  },
  {
   "cell_type": "code",
   "execution_count": 14,
   "metadata": {},
   "outputs": [
    {
     "data": {
      "image/png": "[encoded data removed]",
      "text/plain": [
       "<Figure size 792x180 with 1 Axes>"
      ]
     },
     "metadata": {
      "needs_background": "light"
     },
     "output_type": "display_data"
    }
   ],
   "source": [
    "plt.figure(figsize=(1.1*len(barys), 2.5))\n",
    "cat_barys = torch.cat( [ (_ - _.min()) / (_.max() - _.min())   for _ in barys], dim=1)\n",
    "plt.imshow(cat_barys**1.2, cmap='gray_r')\n",
    "plt.axis('off')\n",
    "#plt.savefig('mnist_gray_barys_breg', dpi=300)\n",
    "plt.show()"
   ]
  }
 ],
 "metadata": {
  "kernelspec": {
   "display_name": "Python 3",
   "language": "python",
   "name": "python3"
  },
  "language_info": {
   "codemirror_mode": {
    "name": "ipython",
    "version": 3
   },
   "file_extension": ".py",
   "mimetype": "text/x-python",
   "name": "python",
   "nbconvert_exporter": "python",
   "pygments_lexer": "ipython3",
   "version": "3.7.1"
  }
 },
 "nbformat": 4,
 "nbformat_minor": 2
}
