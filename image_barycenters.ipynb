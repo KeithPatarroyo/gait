{
 "cells": [
  {
   "cell_type": "code",
   "execution_count": 182,
   "metadata": {},
   "outputs": [
    {
     "name": "stdout",
     "output_type": "stream",
     "text": [
      "The autoreload extension is already loaded. To reload it, use:\n",
      "  %reload_ext autoreload\n"
     ]
    }
   ],
   "source": [
    "%load_ext autoreload\n",
    "%autoreload 2\n",
    "\n",
    "import itertools\n",
    "from mpl_toolkits.mplot3d import Axes3D\n",
    "import matplotlib.pyplot as plt\n",
    "from matplotlib import cm\n",
    "from matplotlib.ticker import LinearLocator, FormatStrFormatter\n",
    "import numpy as np\n",
    "\n",
    "import os\n",
    "\n",
    "import torchvision\n",
    "import torch.nn as nn\n",
    "import torch.nn.functional as F\n",
    "import torch\n",
    "torch.set_default_tensor_type(torch.DoubleTensor)\n",
    "\n",
    "import renyi\n",
    "import utils\n",
    "import sxp\n",
    "\n",
    "from time import time"
   ]
  },
  {
   "cell_type": "code",
   "execution_count": 183,
   "metadata": {},
   "outputs": [],
   "source": [
    "os.makedirs('./data/mnist', exist_ok=True)\n",
    "\n",
    "mnist = torch.utils.data.DataLoader(torchvision.datasets.MNIST('./data/mnist', train=True, download=True,))\n",
    "\n",
    "letters = torch.utils.data.DataLoader(torchvision.datasets.EMNIST('./data/emnist', 'letters', train=True, download=True,))\n",
    "\n",
    "fashion = torch.utils.data.DataLoader(torchvision.datasets.FashionMNIST('./data/fashion', train=True, download=True))"
   ]
  },
  {
   "cell_type": "code",
   "execution_count": 184,
   "metadata": {},
   "outputs": [],
   "source": [
    "def img_mixture_divergence(mu, nu, alpha, kernel, img_shape=None, use_avg=True):   \n",
    "    \n",
    "    Kmu = kernel(mu)\n",
    "    Knu = kernel(nu)\n",
    "\n",
    "    if use_avg:\n",
    "        r = (mu + nu) / 2\n",
    "        Kr = kernel(r)\n",
    "        rat1 = Kmu / utils.min_clamp(Kr)\n",
    "        rat2 = Knu / utils.min_clamp(Kr)\n",
    "    else:\n",
    "        rat1 = Kmu / utils.min_clamp(Knu)\n",
    "        rat2 = Knu / utils.min_clamp(Kmu)\n",
    "    \n",
    "    rat1 = utils.min_clamp(rat1)\n",
    "    rat2 = utils.min_clamp(rat2)\n",
    "    \n",
    "    if alpha == 1:\n",
    "        u = (mu * torch.log(rat1)).sum(dim=-1).sum(dim=-1)\n",
    "        v = (nu * torch.log(rat2)).sum(dim=-1).sum(dim=-1)\n",
    "\n",
    "        return (u + v)\n",
    "    else:\n",
    "        \n",
    "        u = (mu * rat1**(alpha-1)).sum(dim=-1).sum(dim=-1)\n",
    "        u = torch.log(utils.min_clamp(u))\n",
    "\n",
    "        v = (nu * rat2**(alpha-1)).sum(dim=-1).sum(dim=-1)\n",
    "        v = torch.log(utils.min_clamp(v))\n",
    "\n",
    "        return (u + v) / (alpha - 1)\n",
    "\n",
    "def sample_and_resize(D, img_size, num_samples=1):\n",
    "    res = []\n",
    "    for _ in range(num_samples):\n",
    "        ix = int(np.random.choice(len(D), 1))\n",
    "        sample_img = D[ix, ...].data.numpy()\n",
    "        #sample_img = tform(sample_img)[0, ...].data.numpy()\n",
    "        if img_size != 28:\n",
    "            sample_img = resize(sample_img, (img_size, img_size), mode='constant')\n",
    "        sample_img = np.abs(sample_img) / np.abs(sample_img).sum()\n",
    "        res.append(sample_img)\n",
    "    return torch.tensor(res).double()"
   ]
  },
  {
   "cell_type": "code",
   "execution_count": 264,
   "metadata": {},
   "outputs": [],
   "source": [
    "from skimage.transform import resize\n",
    "\n",
    "img_size = 28#50\n",
    "# Z = torch.tensor(np.array(list(itertools.product(np.linspace(0, 1, img_size), np.linspace(0, 1, img_size))))).double()\n",
    "# K = rbf_kernel(torch.cat((Z, Z)),  [0.1], 2).double()\n",
    "# old_kernel = lambda x: K\n",
    "\n",
    "[Ygrid, Xgrid] = np.meshgrid(np.linspace(0, 1, img_size), np.linspace(0, 1, img_size))\n",
    "Kmat = np.exp(-np.abs(Xgrid - Ygrid)**1/(0.04**2))\n",
    "#Kmat = 1 / (1 + np.abs(Xgrid - Ygrid)**0.01)\n",
    "Kmat = torch.tensor(Kmat)\n",
    "\n",
    "img_kernel = lambda x: torch.matmul(torch.matmul(Kmat, x), Kmat)\n",
    "\n",
    "#plt.imshow(img_kernel(utils.draw_circle(img_size)))\n",
    "\n",
    "tform = torchvision.transforms.Compose(\n",
    "                      [torchvision.transforms.ToPILImage(),\n",
    "                       torchvision.transforms.RandomAffine(10, translate=(0., 0.), scale=(0.5, 1), shear=0, resample=False, fillcolor=0),\n",
    "                       torchvision.transforms.ToTensor()\n",
    "                      ])"
   ]
  },
  {
   "cell_type": "code",
   "execution_count": 265,
   "metadata": {},
   "outputs": [
    {
     "data": {
      "text/plain": [
       "<matplotlib.colorbar.Colorbar at 0x26f3fa14438>"
      ]
     },
     "execution_count": 265,
     "metadata": {},
     "output_type": "execute_result"
    },
    {
     "data": {
      "image/png": "[encoded data removed]",
      "text/plain": [
       "<Figure size 432x288 with 2 Axes>"
      ]
     },
     "metadata": {
      "needs_background": "light"
     },
     "output_type": "display_data"
    }
   ],
   "source": [
    "plt.imshow(Kmat)\n",
    "plt.colorbar()"
   ]
  },
  {
   "cell_type": "code",
   "execution_count": 272,
   "metadata": {
    "scrolled": false
   },
   "outputs": [
    {
     "name": "stdout",
     "output_type": "stream",
     "text": [
      "0 - 0 - 5.602e-03\n",
      "0 - 50 - 3.199e-03\n",
      "0 - 100 - 3.202e-03\n",
      "0 - 150 - 2.809e-03\n",
      "0 - 200 - 3.203e-03\n",
      "Class time:  3.839749574661255\n",
      "1 - 0 - 1.523e-02\n",
      "1 - 50 - 8.098e-03\n",
      "1 - 100 - 7.413e-03\n",
      "1 - 150 - 6.177e-03\n",
      "1 - 200 - 7.320e-03\n",
      "Class time:  3.814720392227173\n",
      "2 - 0 - 6.589e-03\n",
      "2 - 50 - 4.830e-03\n",
      "2 - 100 - 4.080e-03\n",
      "2 - 150 - 4.571e-03\n",
      "2 - 200 - 4.175e-03\n",
      "Class time:  4.389052867889404\n",
      "3 - 0 - 7.251e-03\n",
      "3 - 50 - 3.817e-03\n",
      "3 - 100 - 3.833e-03\n",
      "3 - 150 - 4.448e-03\n",
      "3 - 200 - 4.206e-03\n",
      "Class time:  4.313604354858398\n",
      "4 - 0 - 7.515e-03\n",
      "4 - 50 - 4.705e-03\n",
      "4 - 100 - 5.374e-03\n",
      "4 - 150 - 5.579e-03\n",
      "4 - 200 - 5.186e-03\n",
      "Class time:  3.9853415489196777\n",
      "5 - 0 - 8.375e-03\n",
      "5 - 50 - 5.818e-03\n",
      "5 - 100 - 5.233e-03\n",
      "5 - 150 - 5.087e-03\n",
      "5 - 200 - 5.535e-03\n",
      "Class time:  3.8237380981445312\n",
      "6 - 0 - 6.740e-03\n",
      "6 - 50 - 4.761e-03\n",
      "6 - 100 - 4.993e-03\n",
      "6 - 150 - 4.379e-03\n",
      "6 - 200 - 4.108e-03\n",
      "Class time:  3.635857582092285\n",
      "7 - 0 - 9.526e-03\n",
      "7 - 50 - 5.602e-03\n",
      "7 - 100 - 5.608e-03\n",
      "7 - 150 - 5.199e-03\n",
      "7 - 200 - 5.159e-03\n",
      "Class time:  3.6975579261779785\n",
      "8 - 0 - 6.204e-03\n",
      "8 - 50 - 3.996e-03\n",
      "8 - 100 - 3.908e-03\n",
      "8 - 150 - 4.282e-03\n",
      "8 - 200 - 3.930e-03\n",
      "Class time:  3.7387661933898926\n",
      "9 - 0 - 8.818e-03\n",
      "9 - 50 - 4.615e-03\n",
      "9 - 100 - 4.863e-03\n",
      "9 - 150 - 4.779e-03\n",
      "9 - 200 - 4.736e-03\n",
      "Class time:  3.7381539344787598\n"
     ]
    }
   ],
   "source": [
    "alpha = 1.5\n",
    "\n",
    "barys = []\n",
    "\n",
    "data = mnist\n",
    "\n",
    "for digit in range(0, 10):\n",
    "    start = time()\n",
    "    ix = data.dataset.train_labels == digit\n",
    "\n",
    "    D = data.dataset.train_data[ix].view(-1, 28, 28).float()\n",
    "    \n",
    "#     for EMNIST\n",
    "    #D = data.dataset.train_data[ix].view(-1, 28, 28).transpose(-1, -2).float()\n",
    "    \n",
    "    logit_mu = torch.nn.Parameter(0*torch.rand(1, img_size*img_size))\n",
    "    temp = torch.nn.Parameter(torch.tensor(1.))\n",
    "\n",
    "    optimizer = torch.optim.Adam([logit_mu, temp], lr=0.05, amsgrad=True)\n",
    "    #optimizer = torch.optim.RMSprop([logit_mu, temp], lr=0.05)\n",
    "    \n",
    "    for i in range(250):\n",
    "\n",
    "        optimizer.zero_grad()\n",
    "        \n",
    "        mu = torch.softmax(logit_mu /  torch.exp(temp), dim=1).view(1, img_size, img_size) \n",
    "        nu = sample_and_resize(D[0:-1, ...], img_size, 32)\n",
    "        \n",
    "        loss = renyi.mixture_mink_divergence(nu, mu, img_kernel, alpha, use_inv=False).mean()\n",
    "        \n",
    "#         l1 = img_mixture_divergence(nu, nu, alpha, kernel=img_kernel, use_avg=True).mean()\n",
    "#         l2 = img_mixture_divergence(mu, mu, alpha, kernel=img_kernel, use_avg=True).mean()\n",
    "#         l3 = img_mixture_divergence(nu, mu, alpha, kernel=img_kernel, use_avg=True).mean()\n",
    "#         loss = 2*l3 - l1 - l2 \n",
    "        \n",
    "        if i % 50 == 0:\n",
    "            print(\"%d - %d - %.3e\" % (digit, i, loss.item()))\n",
    "\n",
    "        if False and i % 100 == 0:\n",
    "            mu = torch.softmax(logit_mu /  torch.exp(temp), dim=1).view(img_size, img_size).data\n",
    "            plt.figure(figsize=(1, 1))\n",
    "            plt.imshow(mu, cmap='gray_r');\n",
    "            plt.show()\n",
    "\n",
    "        loss.backward()\n",
    "        optimizer.step()\n",
    "    \n",
    "    mu = torch.softmax(logit_mu /  torch.exp(temp), dim=1).view(img_size, img_size)\n",
    "    barys.append(mu.data)\n",
    "    \n",
    "    print('Class time: ', time()-start)"
   ]
  },
  {
   "cell_type": "code",
   "execution_count": 270,
   "metadata": {},
   "outputs": [
    {
     "data": {
      "text/plain": [
       "<matplotlib.image.AxesImage at 0x26f3fb05cc0>"
      ]
     },
     "execution_count": 270,
     "metadata": {},
     "output_type": "execute_result"
    },
    {
     "data": {
      "image/png": "[encoded data removed]",
      "text/plain": [
       "<Figure size 108x108 with 1 Axes>"
      ]
     },
     "metadata": {
      "needs_background": "light"
     },
     "output_type": "display_data"
    }
   ],
   "source": [
    "plt.figure(figsize=(1.5, 1.5))\n",
    "plt.imshow(barys[0], cmap='hot_r')"
   ]
  },
  {
   "cell_type": "code",
   "execution_count": 271,
   "metadata": {},
   "outputs": [
    {
     "data": {
      "image/png": "[encoded data removed]",
      "text/plain": [
       "<Figure size 237.6x180 with 1 Axes>"
      ]
     },
     "metadata": {
      "needs_background": "light"
     },
     "output_type": "display_data"
    }
   ],
   "source": [
    "plt.figure(figsize=(1.1*len(barys), 2.5))\n",
    "cat_barys = torch.cat( [ (_ - _.min()) / (_.max() - _.min())   for _ in barys], dim=1)\n",
    "plt.imshow(cat_barys, cmap='gray_r')\n",
    "plt.axis('off')\n",
    "plt.show()"
   ]
  },
  {
   "cell_type": "code",
   "execution_count": 131,
   "metadata": {},
   "outputs": [
    {
     "data": {
      "image/png": "[encoded data removed]",
      "text/plain": [
       "<Figure size 792x180 with 1 Axes>"
      ]
     },
     "metadata": {
      "needs_background": "light"
     },
     "output_type": "display_data"
    }
   ],
   "source": [
    "plt.figure(figsize=(1.1*len(barys), 2.5))\n",
    "cat_barys = torch.cat( [ (_ - _.min()) / (_.max() - _.min())   for _ in barys], dim=1)\n",
    "plt.imshow(cat_barys, cmap='gray_r')\n",
    "plt.axis('off')\n",
    "plt.show()"
   ]
  },
  {
   "cell_type": "code",
   "execution_count": 133,
   "metadata": {},
   "outputs": [
    {
     "data": {
      "image/png": "[encoded data removed]",
      "text/plain": [
       "<Figure size 864x144 with 1 Axes>"
      ]
     },
     "metadata": {
      "needs_background": "light"
     },
     "output_type": "display_data"
    }
   ],
   "source": [
    "toshow = []\n",
    "for digit in range(0, 10):\n",
    "    ix = data.dataset.train_labels == digit\n",
    "    D = data.dataset.train_data[ix].view(-1, 28, 28).float()\n",
    "    toshow.append(D[np.random.choice(D.shape[0])])\n",
    "    \n",
    "plt.figure(figsize=(12, 2))\n",
    "#toshow = D[np.random.choice(D.shape[0])] / D[np.random.choice(D.shape[0])].sum() \n",
    "plt.imshow(torch.cat(toshow, dim=1).data.numpy(), cmap='gray_r')\n",
    "plt.axis('off')\n",
    "plt.show()"
   ]
  }
 ],
 "metadata": {
  "kernelspec": {
   "display_name": "Python 3",
   "language": "python",
   "name": "python3"
  },
  "language_info": {
   "codemirror_mode": {
    "name": "ipython",
    "version": 3
   },
   "file_extension": ".py",
   "mimetype": "text/x-python",
   "name": "python",
   "nbconvert_exporter": "python",
   "pygments_lexer": "ipython3",
   "version": "3.7.1"
  }
 },
 "nbformat": 4,
 "nbformat_minor": 2
}
