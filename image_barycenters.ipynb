{
 "cells": [
  {
   "cell_type": "code",
   "execution_count": 6,
   "metadata": {},
   "outputs": [
    {
     "name": "stdout",
     "output_type": "stream",
     "text": [
      "The autoreload extension is already loaded. To reload it, use:\n",
      "  %reload_ext autoreload\n"
     ]
    }
   ],
   "source": [
    "%load_ext autoreload\n",
    "%autoreload 2\n",
    "\n",
    "import matplotlib.pyplot as plt\n",
    "import numpy as np\n",
    "\n",
    "import os\n",
    "\n",
    "import torchvision\n",
    "import torch.nn as nn\n",
    "import torch.nn.functional as F\n",
    "import torch\n",
    "torch.set_default_tensor_type(torch.DoubleTensor)\n",
    "\n",
    "import renyi\n",
    "import utils\n",
    "import sxp\n",
    "\n",
    "from time import time"
   ]
  },
  {
   "cell_type": "code",
   "execution_count": 7,
   "metadata": {},
   "outputs": [],
   "source": [
    "os.makedirs('./data/mnist', exist_ok=True)\n",
    "\n",
    "mnist = torch.utils.data.DataLoader(torchvision.datasets.MNIST('./data/mnist', train=True, download=True,))\n",
    "letters = torch.utils.data.DataLoader(torchvision.datasets.EMNIST('./data/emnist', 'letters', train=True, download=True,))\n",
    "fashion = torch.utils.data.DataLoader(torchvision.datasets.FashionMNIST('./data/fashion', train=True, download=True))"
   ]
  },
  {
   "cell_type": "code",
   "execution_count": 8,
   "metadata": {},
   "outputs": [],
   "source": [
    "img_size = 28#50\n",
    "\n",
    "[Ygrid, Xgrid] = np.meshgrid(np.linspace(0, 1, img_size), np.linspace(0, 1, img_size))\n",
    "Kmat = np.exp(-np.abs(Xgrid - Ygrid)**1/(0.04**2))\n",
    "Kmat = torch.tensor(Kmat)\n",
    "\n",
    "img_kernel = lambda x: torch.matmul(torch.matmul(Kmat, x), Kmat)\n",
    "\n",
    "tform = torchvision.transforms.Compose(\n",
    "                      [torchvision.transforms.ToPILImage(),\n",
    "                       torchvision.transforms.RandomAffine(10, translate=(0., 0.), scale=(0.5, 1), shear=0, resample=False, fillcolor=0),\n",
    "                       torchvision.transforms.ToTensor()\n",
    "                      ])"
   ]
  },
  {
   "cell_type": "markdown",
   "metadata": {},
   "source": [
    "### Show data samples"
   ]
  },
  {
   "cell_type": "code",
   "execution_count": 12,
   "metadata": {},
   "outputs": [
    {
     "data": {
      "image/png": "[encoded data removed]",
      "text/plain": [
       "<Figure size 792x144 with 1 Axes>"
      ]
     },
     "metadata": {
      "needs_background": "light"
     },
     "output_type": "display_data"
    }
   ],
   "source": [
    "toshow = []\n",
    "for digit in range(0, 10):\n",
    "    ix = data.dataset.train_labels == digit\n",
    "    D = data.dataset.train_data[ix].view(-1, 28, 28).float()\n",
    "    toshow.append(D[np.random.choice(D.shape[0])])\n",
    "    \n",
    "plt.figure(figsize=(11, 2))\n",
    "#toshow = D[np.random.choice(D.shape[0])] / D[np.random.choice(D.shape[0])].sum() \n",
    "plt.imshow(torch.cat(toshow, dim=1).data.numpy(), cmap='gray_r')\n",
    "plt.axis('off')\n",
    "plt.show()"
   ]
  },
  {
   "cell_type": "markdown",
   "metadata": {},
   "source": [
    "### Compute barycenters"
   ]
  },
  {
   "cell_type": "code",
   "execution_count": 16,
   "metadata": {
    "scrolled": false
   },
   "outputs": [
    {
     "name": "stdout",
     "output_type": "stream",
     "text": [
      "0 - 0 - 1.683e-03\n",
      "0 - 100 - 1.145e-03\n",
      "0 - 200 - 9.777e-04\n",
      "Class time:  2.136859655380249\n",
      "1 - 0 - 3.023e-03\n",
      "1 - 100 - 1.269e-03\n",
      "1 - 200 - 1.240e-03\n",
      "Class time:  2.2817749977111816\n",
      "2 - 0 - 1.254e-03\n",
      "2 - 100 - 6.152e-04\n",
      "2 - 200 - 8.986e-04\n",
      "Class time:  1.9489612579345703\n",
      "3 - 0 - 2.705e-03\n",
      "3 - 100 - 1.243e-03\n",
      "3 - 200 - 1.226e-03\n",
      "Class time:  2.223681688308716\n",
      "4 - 0 - 1.445e-03\n",
      "4 - 100 - 8.136e-04\n",
      "4 - 200 - 7.463e-04\n",
      "Class time:  2.2627859115600586\n",
      "5 - 0 - 5.047e-03\n",
      "5 - 100 - 4.021e-03\n",
      "5 - 200 - 3.516e-03\n",
      "Class time:  2.3867316246032715\n",
      "6 - 0 - 1.398e-03\n",
      "6 - 100 - 1.142e-03\n",
      "6 - 200 - 1.048e-03\n",
      "Class time:  1.9787790775299072\n",
      "7 - 0 - 4.094e-03\n",
      "7 - 100 - 1.954e-03\n",
      "7 - 200 - 2.033e-03\n",
      "Class time:  2.303175926208496\n",
      "8 - 0 - 1.562e-03\n",
      "8 - 100 - 1.181e-03\n",
      "8 - 200 - 1.105e-03\n",
      "Class time:  2.2904789447784424\n",
      "9 - 0 - 1.864e-03\n",
      "9 - 100 - 9.605e-04\n",
      "9 - 200 - 9.155e-04\n",
      "Class time:  2.18135666847229\n"
     ]
    }
   ],
   "source": [
    "alpha = 1.5\n",
    "\n",
    "barys = []\n",
    "\n",
    "data = fashion\n",
    "\n",
    "for digit in range(0, 10):\n",
    "    start = time()\n",
    "    ix = data.dataset.train_labels == digit\n",
    "\n",
    "    D = data.dataset.train_data[ix].view(-1, 28, 28).float()\n",
    "    \n",
    "    # for EMNIST\n",
    "    #D = data.dataset.train_data[ix].view(-1, 28, 28).transpose(-1, -2).float()\n",
    "    \n",
    "    logit_mu = torch.nn.Parameter(0*torch.rand(1, img_size*img_size))\n",
    "    temp = torch.nn.Parameter(torch.tensor(1.))\n",
    "\n",
    "    optimizer = torch.optim.Adam([logit_mu, temp], lr=0.05, amsgrad=True)\n",
    "    \n",
    "    for i in range(250):\n",
    "\n",
    "        optimizer.zero_grad()\n",
    "        \n",
    "        mu = torch.softmax(logit_mu /  torch.exp(temp), dim=1).view(1, img_size, img_size) \n",
    "        nu = utils.sample_and_resize(D[0:-1, ...], img_size, 32)\n",
    "        \n",
    "        #loss = renyi.renyi_sim_divergence(img_kernel, nu, mu, alpha, False).mean()\n",
    "        loss = renyi.mink_sim_divergence(img_kernel, nu, mu, alpha, False).mean()\n",
    "        \n",
    "        if i % 100 == 0:\n",
    "            print(\"%d - %d - %.3e\" % (digit, i, loss.item()))\n",
    "\n",
    "        if False and i % 100 == 0:\n",
    "            mu = torch.softmax(logit_mu /  torch.exp(temp), dim=1).view(img_size, img_size).data\n",
    "            plt.figure(figsize=(1, 1))\n",
    "            plt.imshow(mu, cmap='gray_r');\n",
    "            plt.show()\n",
    "\n",
    "        loss.backward()\n",
    "        optimizer.step()\n",
    "    \n",
    "    mu = torch.softmax(logit_mu /  torch.exp(temp), dim=1).view(img_size, img_size)\n",
    "    barys.append(mu.data)\n",
    "    \n",
    "    print('Class time: ', time()-start)"
   ]
  },
  {
   "cell_type": "code",
   "execution_count": 17,
   "metadata": {},
   "outputs": [
    {
     "data": {
      "image/png": "[encoded data removed]",
      "text/plain": [
       "<Figure size 792x180 with 1 Axes>"
      ]
     },
     "metadata": {
      "needs_background": "light"
     },
     "output_type": "display_data"
    }
   ],
   "source": [
    "plt.figure(figsize=(1.1*len(barys), 2.5))\n",
    "cat_barys = torch.cat( [ (_ - _.min()) / (_.max() - _.min())   for _ in barys], dim=1)\n",
    "plt.imshow(cat_barys, cmap='gray_r')\n",
    "plt.axis('off')\n",
    "plt.show()"
   ]
  },
  {
   "cell_type": "markdown",
   "metadata": {},
   "source": [
    "### Image interpolation "
   ]
  },
  {
   "cell_type": "code",
   "execution_count": 20,
   "metadata": {},
   "outputs": [],
   "source": [
    "p, q = D[17].view(1, 28, 28).double() , D[281].view(1, 28, 28).double()\n",
    "p, q = p/p.sum(), q/q.sum()\n",
    "\n",
    "\n",
    "alpha = 2\n",
    "thetas = [0.2, .5, 0.7] "
   ]
  },
  {
   "cell_type": "code",
   "execution_count": 22,
   "metadata": {},
   "outputs": [
    {
     "name": "stdout",
     "output_type": "stream",
     "text": [
      "0.200 - 0 - 2.1435e-03\n",
      "0.200 - 200 - 4.1705e-04\n",
      "0.200 - 400 - 3.8828e-04\n",
      "0.200 - 600 - 3.8002e-04\n",
      "0.200 - 800 - 3.7608e-04\n",
      "0.500 - 0 - 2.0007e-03\n",
      "0.500 - 200 - 9.2511e-04\n",
      "0.500 - 400 - 9.1640e-04\n",
      "0.500 - 600 - 9.1383e-04\n",
      "0.500 - 800 - 9.1262e-04\n",
      "0.700 - 0 - 1.9054e-03\n",
      "0.700 - 200 - 5.9128e-04\n",
      "0.700 - 400 - 5.6788e-04\n",
      "0.700 - 600 - 5.6208e-04\n",
      "0.700 - 800 - 5.5947e-04\n"
     ]
    },
    {
     "data": {
      "image/png": "[encoded data removed]",
      "text/plain": [
       "<Figure size 432x216 with 1 Axes>"
      ]
     },
     "metadata": {
      "needs_background": "light"
     },
     "output_type": "display_data"
    }
   ],
   "source": [
    "interps = []\n",
    "for theta in thetas:\n",
    "    \n",
    "    logit_rho = torch.nn.Parameter(torch.Tensor(0*np.random.rand(1, 28*28)))\n",
    "    optimizer = torch.optim.Adam([logit_rho], lr=0.03)\n",
    "    \n",
    "    for i in range(1000):\n",
    "\n",
    "        optimizer.zero_grad()\n",
    "       \n",
    "        rho = torch.softmax(logit_rho, dim=1).view(1, 28, 28)\n",
    "        \n",
    "#         loss1 = renyi.renyi_sim_divergence(img_kernel, p, rho, alpha, use_avg=False)\n",
    "#         loss2 = renyi.renyi_sim_divergence(img_kernel, q, rho, alpha, use_avg=False)\n",
    "            \n",
    "        loss1 = renyi.mink_sim_divergence(img_kernel, p, rho, alpha, use_inv=False, use_avg=True)\n",
    "        loss2 = renyi.mink_sim_divergence(img_kernel, q, rho, alpha, use_inv=False, use_avg=True)\n",
    "    \n",
    "        loss = (1-theta) * loss1 + theta * loss2\n",
    "\n",
    "        if i % 200 == 0:\n",
    "            print(\"%.3f - %d - %.4e\" % (theta, i, loss.item()))\n",
    "\n",
    "        loss.backward()\n",
    "        optimizer.step()\n",
    "    \n",
    "    interps.append(torch.softmax(logit_rho, dim=1))\n",
    "\n",
    "    \n",
    "plt.figure(figsize=(2*len(interps), 3))\n",
    "W = torch.cat([p.view(28, 28) / p.max()] + [_.view(28, 28) / _.max() for _ in interps] + [q.view(28, 28) / q.max()], dim=1).data\n",
    "#W = torch.cat([p.view(28, 28)] + [_.view(28, 28) for _ in interps] + [q.view(28, 28)], dim=1).data\n",
    "plt.imshow(W, cmap='gray_r')\n",
    "plt.axis('off');"
   ]
  },
  {
   "cell_type": "code",
   "execution_count": null,
   "metadata": {},
   "outputs": [],
   "source": []
  }
 ],
 "metadata": {
  "kernelspec": {
   "display_name": "Python 3",
   "language": "python",
   "name": "python3"
  },
  "language_info": {
   "codemirror_mode": {
    "name": "ipython",
    "version": 3
   },
   "file_extension": ".py",
   "mimetype": "text/x-python",
   "name": "python",
   "nbconvert_exporter": "python",
   "pygments_lexer": "ipython3",
   "version": "3.7.1"
  }
 },
 "nbformat": 4,
 "nbformat_minor": 2
}
